{
 "cells": [
  {
   "cell_type": "markdown",
   "id": "f1061d6e-c0bd-4f9b-b87b-55c598a6a630",
   "metadata": {},
   "source": [
    "**Tekli regresyonda OLS tablosu okuma**"
   ]
  },
  {
   "cell_type": "code",
   "execution_count": 11,
   "id": "dae2f6f5-2c87-47bd-b7d3-f237ad8294dc",
   "metadata": {},
   "outputs": [],
   "source": [
    "import pandas as pd\n",
    "import matplotlib.pyplot as plt\n",
    "import seaborn as sns"
   ]
  },
  {
   "cell_type": "code",
   "execution_count": 12,
   "id": "48aa3ab8-158d-4fbe-8a1e-21833a296424",
   "metadata": {},
   "outputs": [],
   "source": [
    "df = pd.read_csv('Advertising.csv', index_col=0)"
   ]
  },
  {
   "cell_type": "code",
   "execution_count": 35,
   "id": "cd9735ed-474c-47b7-9771-770be7ef7b34",
   "metadata": {},
   "outputs": [],
   "source": [
    "data = df[['TV', 'sales']]\n",
    "X = data['TV']\n",
    "y = data['sales']"
   ]
  },
  {
   "cell_type": "code",
   "execution_count": 14,
   "id": "5466dc2e-5a1d-4a11-88c3-bb83d5bd2be1",
   "metadata": {},
   "outputs": [],
   "source": [
    "X = X.values.reshape(-1, 1)\n",
    "y = y.values.reshape(-1, 1)"
   ]
  },
  {
   "cell_type": "code",
   "execution_count": 16,
   "id": "f5364663-cc71-407a-a4d2-425980cb9400",
   "metadata": {},
   "outputs": [],
   "source": [
    "from sklearn.model_selection import train_test_split"
   ]
  },
  {
   "cell_type": "code",
   "execution_count": 20,
   "id": "3b1fa670-44fe-48fd-89e1-b5e7b0e652cf",
   "metadata": {},
   "outputs": [],
   "source": [
    "X_train, X_test, y_train, y_test = train_test_split(X, y, test_size=0.30, random_state=100)"
   ]
  },
  {
   "cell_type": "code",
   "execution_count": 27,
   "id": "c310d793-2299-460f-b8a2-3127d27cd173",
   "metadata": {},
   "outputs": [],
   "source": [
    "import statsmodels.api as sm"
   ]
  },
  {
   "cell_type": "code",
   "execution_count": 28,
   "id": "23ca4f34-0332-411b-8ffe-bc0ef9a4338a",
   "metadata": {},
   "outputs": [],
   "source": [
    "# statsmodels ile OLS (Ordinary Least Squares) çalıştır\n",
    "# statsmodels ols fonksiyonu beta_0 için otomatik değer atamaz\n",
    "# o yüzden beta_0 için 1 katsayısını bizim eklememiz lazım\n",
    "X_train_ols = sm.add_constant(X_train)"
   ]
  },
  {
   "cell_type": "code",
   "execution_count": 30,
   "id": "98d798a6-7c23-4c66-a1a6-b51f30460a6f",
   "metadata": {},
   "outputs": [],
   "source": [
    "sm_model = sm.OLS(y_train, X_train_ols)"
   ]
  },
  {
   "cell_type": "code",
   "execution_count": 32,
   "id": "3dacd44c-4c0c-445c-8b40-3696c26c497e",
   "metadata": {},
   "outputs": [],
   "source": [
    "sonuc = sm_model.fit()"
   ]
  },
  {
   "cell_type": "code",
   "execution_count": 36,
   "id": "09847929-c13f-4d31-b159-735d12cfc5fd",
   "metadata": {
    "tags": []
   },
   "outputs": [
    {
     "name": "stdout",
     "output_type": "stream",
     "text": [
      "                            OLS Regression Results                            \n",
      "==============================================================================\n",
      "Dep. Variable:                      y   R-squared:                       0.613\n",
      "Model:                            OLS   Adj. R-squared:                  0.611\n",
      "Method:                 Least Squares   F-statistic:                     219.0\n",
      "Date:                Sat, 31 Dec 2022   Prob (F-statistic):           2.84e-30\n",
      "Time:                        14:37:11   Log-Likelihood:                -370.62\n",
      "No. Observations:                 140   AIC:                             745.2\n",
      "Df Residuals:                     138   BIC:                             751.1\n",
      "Df Model:                           1                                         \n",
      "Covariance Type:            nonrobust                                         \n",
      "==============================================================================\n",
      "                 coef    std err          t      P>|t|      [0.025      0.975]\n",
      "------------------------------------------------------------------------------\n",
      "const          6.9897      0.548     12.762      0.000       5.907       8.073\n",
      "x1             0.0465      0.003     14.798      0.000       0.040       0.053\n",
      "==============================================================================\n",
      "Omnibus:                        0.995   Durbin-Watson:                   1.983\n",
      "Prob(Omnibus):                  0.608   Jarque-Bera (JB):                0.970\n",
      "Skew:                          -0.008   Prob(JB):                        0.616\n",
      "Kurtosis:                       2.593   Cond. No.                         328.\n",
      "==============================================================================\n",
      "\n",
      "Notes:\n",
      "[1] Standard Errors assume that the covariance matrix of the errors is correctly specified.\n"
     ]
    }
   ],
   "source": [
    "print(sonuc.summary()) #summary=özet"
   ]
  }
 ],
 "metadata": {
  "kernelspec": {
   "display_name": "Python 3 (ipykernel)",
   "language": "python",
   "name": "python3"
  },
  "language_info": {
   "codemirror_mode": {
    "name": "ipython",
    "version": 3
   },
   "file_extension": ".py",
   "mimetype": "text/x-python",
   "name": "python",
   "nbconvert_exporter": "python",
   "pygments_lexer": "ipython3",
   "version": "3.10.9"
  }
 },
 "nbformat": 4,
 "nbformat_minor": 5
}

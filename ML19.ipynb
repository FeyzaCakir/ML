{
 "cells": [
  {
   "cell_type": "code",
   "execution_count": 1,
   "id": "3788ade8-978b-4808-9306-6bc305861887",
   "metadata": {
    "tags": []
   },
   "outputs": [],
   "source": [
    "import numpy as np \n",
    "import pandas as pd \n",
    "import matplotlib.pyplot as plt\n",
    "import seaborn as sns\n",
    "%matplotlib inline\n",
    "\n",
    "import warnings\n",
    "warnings.filterwarnings(\"ignore\")"
   ]
  },
  {
   "cell_type": "code",
   "execution_count": 2,
   "id": "2227450a-0d5a-4e2e-8404-81296a927911",
   "metadata": {
    "tags": []
   },
   "outputs": [],
   "source": [
    "df=pd.read_csv(\"data/bank-additional.csv\",sep=\";\")"
   ]
  },
  {
   "cell_type": "code",
   "execution_count": 3,
   "id": "18f3eb78-5ab2-4be8-a2fc-62c473324472",
   "metadata": {
    "tags": []
   },
   "outputs": [],
   "source": [
    "df= df.drop(\"duration\",axis=1)"
   ]
  },
  {
   "cell_type": "markdown",
   "id": "a1bb0501-2972-4ac1-9495-528e4a644f7e",
   "metadata": {},
   "source": [
    "Veri İncelemesi"
   ]
  },
  {
   "cell_type": "code",
   "execution_count": 4,
   "id": "e06387ee-3c50-4399-b7e6-f6c44c3aa3b1",
   "metadata": {
    "tags": []
   },
   "outputs": [
    {
     "data": {
      "text/plain": [
       "(4119, 20)"
      ]
     },
     "execution_count": 4,
     "metadata": {},
     "output_type": "execute_result"
    }
   ],
   "source": [
    "df.shape"
   ]
  },
  {
   "cell_type": "code",
   "execution_count": 5,
   "id": "b8f353e8-18f7-4568-97b4-586d44b35442",
   "metadata": {
    "tags": []
   },
   "outputs": [
    {
     "data": {
      "text/html": [
       "<div>\n",
       "<style scoped>\n",
       "    .dataframe tbody tr th:only-of-type {\n",
       "        vertical-align: middle;\n",
       "    }\n",
       "\n",
       "    .dataframe tbody tr th {\n",
       "        vertical-align: top;\n",
       "    }\n",
       "\n",
       "    .dataframe thead th {\n",
       "        text-align: right;\n",
       "    }\n",
       "</style>\n",
       "<table border=\"1\" class=\"dataframe\">\n",
       "  <thead>\n",
       "    <tr style=\"text-align: right;\">\n",
       "      <th></th>\n",
       "      <th>age</th>\n",
       "      <th>job</th>\n",
       "      <th>marital</th>\n",
       "      <th>education</th>\n",
       "      <th>default</th>\n",
       "      <th>housing</th>\n",
       "      <th>loan</th>\n",
       "      <th>contact</th>\n",
       "      <th>month</th>\n",
       "      <th>day_of_week</th>\n",
       "      <th>campaign</th>\n",
       "      <th>pdays</th>\n",
       "      <th>previous</th>\n",
       "      <th>poutcome</th>\n",
       "      <th>emp.var.rate</th>\n",
       "      <th>cons.price.idx</th>\n",
       "      <th>cons.conf.idx</th>\n",
       "      <th>euribor3m</th>\n",
       "      <th>nr.employed</th>\n",
       "      <th>y</th>\n",
       "    </tr>\n",
       "  </thead>\n",
       "  <tbody>\n",
       "    <tr>\n",
       "      <th>0</th>\n",
       "      <td>30</td>\n",
       "      <td>blue-collar</td>\n",
       "      <td>married</td>\n",
       "      <td>basic.9y</td>\n",
       "      <td>no</td>\n",
       "      <td>yes</td>\n",
       "      <td>no</td>\n",
       "      <td>cellular</td>\n",
       "      <td>may</td>\n",
       "      <td>fri</td>\n",
       "      <td>2</td>\n",
       "      <td>999</td>\n",
       "      <td>0</td>\n",
       "      <td>nonexistent</td>\n",
       "      <td>-1.8</td>\n",
       "      <td>92.893</td>\n",
       "      <td>-46.2</td>\n",
       "      <td>1.313</td>\n",
       "      <td>5099.1</td>\n",
       "      <td>no</td>\n",
       "    </tr>\n",
       "    <tr>\n",
       "      <th>1</th>\n",
       "      <td>39</td>\n",
       "      <td>services</td>\n",
       "      <td>single</td>\n",
       "      <td>high.school</td>\n",
       "      <td>no</td>\n",
       "      <td>no</td>\n",
       "      <td>no</td>\n",
       "      <td>telephone</td>\n",
       "      <td>may</td>\n",
       "      <td>fri</td>\n",
       "      <td>4</td>\n",
       "      <td>999</td>\n",
       "      <td>0</td>\n",
       "      <td>nonexistent</td>\n",
       "      <td>1.1</td>\n",
       "      <td>93.994</td>\n",
       "      <td>-36.4</td>\n",
       "      <td>4.855</td>\n",
       "      <td>5191.0</td>\n",
       "      <td>no</td>\n",
       "    </tr>\n",
       "    <tr>\n",
       "      <th>2</th>\n",
       "      <td>25</td>\n",
       "      <td>services</td>\n",
       "      <td>married</td>\n",
       "      <td>high.school</td>\n",
       "      <td>no</td>\n",
       "      <td>yes</td>\n",
       "      <td>no</td>\n",
       "      <td>telephone</td>\n",
       "      <td>jun</td>\n",
       "      <td>wed</td>\n",
       "      <td>1</td>\n",
       "      <td>999</td>\n",
       "      <td>0</td>\n",
       "      <td>nonexistent</td>\n",
       "      <td>1.4</td>\n",
       "      <td>94.465</td>\n",
       "      <td>-41.8</td>\n",
       "      <td>4.962</td>\n",
       "      <td>5228.1</td>\n",
       "      <td>no</td>\n",
       "    </tr>\n",
       "    <tr>\n",
       "      <th>3</th>\n",
       "      <td>38</td>\n",
       "      <td>services</td>\n",
       "      <td>married</td>\n",
       "      <td>basic.9y</td>\n",
       "      <td>no</td>\n",
       "      <td>unknown</td>\n",
       "      <td>unknown</td>\n",
       "      <td>telephone</td>\n",
       "      <td>jun</td>\n",
       "      <td>fri</td>\n",
       "      <td>3</td>\n",
       "      <td>999</td>\n",
       "      <td>0</td>\n",
       "      <td>nonexistent</td>\n",
       "      <td>1.4</td>\n",
       "      <td>94.465</td>\n",
       "      <td>-41.8</td>\n",
       "      <td>4.959</td>\n",
       "      <td>5228.1</td>\n",
       "      <td>no</td>\n",
       "    </tr>\n",
       "    <tr>\n",
       "      <th>4</th>\n",
       "      <td>47</td>\n",
       "      <td>admin.</td>\n",
       "      <td>married</td>\n",
       "      <td>university.degree</td>\n",
       "      <td>no</td>\n",
       "      <td>yes</td>\n",
       "      <td>no</td>\n",
       "      <td>cellular</td>\n",
       "      <td>nov</td>\n",
       "      <td>mon</td>\n",
       "      <td>1</td>\n",
       "      <td>999</td>\n",
       "      <td>0</td>\n",
       "      <td>nonexistent</td>\n",
       "      <td>-0.1</td>\n",
       "      <td>93.200</td>\n",
       "      <td>-42.0</td>\n",
       "      <td>4.191</td>\n",
       "      <td>5195.8</td>\n",
       "      <td>no</td>\n",
       "    </tr>\n",
       "  </tbody>\n",
       "</table>\n",
       "</div>"
      ],
      "text/plain": [
       "   age          job  marital          education default  housing     loan  \\\n",
       "0   30  blue-collar  married           basic.9y      no      yes       no   \n",
       "1   39     services   single        high.school      no       no       no   \n",
       "2   25     services  married        high.school      no      yes       no   \n",
       "3   38     services  married           basic.9y      no  unknown  unknown   \n",
       "4   47       admin.  married  university.degree      no      yes       no   \n",
       "\n",
       "     contact month day_of_week  campaign  pdays  previous     poutcome  \\\n",
       "0   cellular   may         fri         2    999         0  nonexistent   \n",
       "1  telephone   may         fri         4    999         0  nonexistent   \n",
       "2  telephone   jun         wed         1    999         0  nonexistent   \n",
       "3  telephone   jun         fri         3    999         0  nonexistent   \n",
       "4   cellular   nov         mon         1    999         0  nonexistent   \n",
       "\n",
       "   emp.var.rate  cons.price.idx  cons.conf.idx  euribor3m  nr.employed   y  \n",
       "0          -1.8          92.893          -46.2      1.313       5099.1  no  \n",
       "1           1.1          93.994          -36.4      4.855       5191.0  no  \n",
       "2           1.4          94.465          -41.8      4.962       5228.1  no  \n",
       "3           1.4          94.465          -41.8      4.959       5228.1  no  \n",
       "4          -0.1          93.200          -42.0      4.191       5195.8  no  "
      ]
     },
     "execution_count": 5,
     "metadata": {},
     "output_type": "execute_result"
    }
   ],
   "source": [
    "df.head()"
   ]
  },
  {
   "cell_type": "code",
   "execution_count": 6,
   "id": "8ce3d411-6356-40b4-a0e3-c54379cff9c0",
   "metadata": {
    "tags": []
   },
   "outputs": [
    {
     "data": {
      "text/plain": [
       "Index(['age', 'job', 'marital', 'education', 'default', 'housing', 'loan',\n",
       "       'contact', 'month', 'day_of_week', 'campaign', 'pdays', 'previous',\n",
       "       'poutcome', 'emp.var.rate', 'cons.price.idx', 'cons.conf.idx',\n",
       "       'euribor3m', 'nr.employed', 'y'],\n",
       "      dtype='object')"
      ]
     },
     "execution_count": 6,
     "metadata": {},
     "output_type": "execute_result"
    }
   ],
   "source": [
    "col_names=df.columns\n",
    "col_names"
   ]
  },
  {
   "cell_type": "code",
   "execution_count": 7,
   "id": "904e98f6-faf8-44a6-ba6b-80ff556ed018",
   "metadata": {
    "tags": []
   },
   "outputs": [
    {
     "data": {
      "text/plain": [
       "y\n",
       "no     3668\n",
       "yes     451\n",
       "Name: count, dtype: int64"
      ]
     },
     "execution_count": 7,
     "metadata": {},
     "output_type": "execute_result"
    }
   ],
   "source": [
    "df[\"y\"].value_counts()"
   ]
  },
  {
   "cell_type": "code",
   "execution_count": 8,
   "id": "b74b76da-39d1-42e3-88c7-b06c58455d19",
   "metadata": {
    "tags": []
   },
   "outputs": [
    {
     "data": {
      "text/plain": [
       "age               0\n",
       "job               0\n",
       "marital           0\n",
       "education         0\n",
       "default           0\n",
       "housing           0\n",
       "loan              0\n",
       "contact           0\n",
       "month             0\n",
       "day_of_week       0\n",
       "campaign          0\n",
       "pdays             0\n",
       "previous          0\n",
       "poutcome          0\n",
       "emp.var.rate      0\n",
       "cons.price.idx    0\n",
       "cons.conf.idx     0\n",
       "euribor3m         0\n",
       "nr.employed       0\n",
       "y                 0\n",
       "dtype: int64"
      ]
     },
     "execution_count": 8,
     "metadata": {},
     "output_type": "execute_result"
    }
   ],
   "source": [
    "df.isnull().sum()"
   ]
  },
  {
   "cell_type": "code",
   "execution_count": 9,
   "id": "bdb91c00-e7d1-4b41-ad23-9e7235073980",
   "metadata": {
    "tags": []
   },
   "outputs": [
    {
     "data": {
      "text/plain": [
       "20"
      ]
     },
     "execution_count": 9,
     "metadata": {},
     "output_type": "execute_result"
    }
   ],
   "source": [
    "len(df.columns)"
   ]
  },
  {
   "cell_type": "code",
   "execution_count": 10,
   "id": "d999cf8f-825b-4d6b-aca7-06c6b552ec1c",
   "metadata": {
    "tags": []
   },
   "outputs": [
    {
     "data": {
      "text/plain": [
       "(4119, 9)"
      ]
     },
     "execution_count": 10,
     "metadata": {},
     "output_type": "execute_result"
    }
   ],
   "source": [
    "#numeric kolon sayısı\n",
    "df.select_dtypes(include=[\"int64\",\"float64\"]).shape"
   ]
  },
  {
   "cell_type": "code",
   "execution_count": 11,
   "id": "7d70d22c-2f23-4654-8bb5-ef72fc49090c",
   "metadata": {
    "tags": []
   },
   "outputs": [
    {
     "data": {
      "text/plain": [
       "Index(['age', 'campaign', 'pdays', 'previous', 'emp.var.rate',\n",
       "       'cons.price.idx', 'cons.conf.idx', 'euribor3m', 'nr.employed'],\n",
       "      dtype='object')"
      ]
     },
     "execution_count": 11,
     "metadata": {},
     "output_type": "execute_result"
    }
   ],
   "source": [
    "numeric_col=df.select_dtypes(include=[\"int64\",\"float64\"]).columns\n",
    "numeric_col"
   ]
  },
  {
   "cell_type": "code",
   "execution_count": 12,
   "id": "48e0c3d0-bb28-49e7-bdea-d6f842eb3f17",
   "metadata": {
    "tags": []
   },
   "outputs": [
    {
     "data": {
      "text/plain": [
       "(4119, 11)"
      ]
     },
     "execution_count": 12,
     "metadata": {},
     "output_type": "execute_result"
    }
   ],
   "source": [
    "#kategorik kolon sayısı\n",
    "df.select_dtypes(include=[\"object\"]).shape"
   ]
  },
  {
   "cell_type": "code",
   "execution_count": 13,
   "id": "1fb570c7-e115-4961-817b-b6026da71ba1",
   "metadata": {
    "tags": []
   },
   "outputs": [
    {
     "data": {
      "text/plain": [
       "Index(['job', 'marital', 'education', 'default', 'housing', 'loan', 'contact',\n",
       "       'month', 'day_of_week', 'poutcome', 'y'],\n",
       "      dtype='object')"
      ]
     },
     "execution_count": 13,
     "metadata": {},
     "output_type": "execute_result"
    }
   ],
   "source": [
    "kategoric_col=df.select_dtypes(include=[\"object\"]).columns\n",
    "kategoric_col"
   ]
  },
  {
   "cell_type": "markdown",
   "id": "c17b7db5-6fac-450c-9b17-0b541e59af09",
   "metadata": {},
   "source": [
    "Numeric değişkenleri incelemek ve data içinde bir terslik var mı diye şekil dağılımına bakacağız."
   ]
  },
  {
   "cell_type": "code",
   "execution_count": 14,
   "id": "ac10189f-f096-4552-9627-fb71e16e591a",
   "metadata": {
    "tags": []
   },
   "outputs": [
    {
     "data": {
      "image/png": "[encoded data removed]",
      "text/plain": [
       "<Figure size 1000x1000 with 9 Axes>"
      ]
     },
     "metadata": {},
     "output_type": "display_data"
    }
   ],
   "source": [
    "df.hist(column=numeric_col, figsize=(10,10))\n",
    "plt.subplots_adjust(wspace=0.5,hspace=0.5)\n",
    "plt.show()"
   ]
  },
  {
   "cell_type": "markdown",
   "id": "6a3bddb3-28f2-40a9-a22f-4a80e4f563b4",
   "metadata": {},
   "source": [
    "**Kategorik Değişkenler** üzerinde işlemler yağılacak. Kategorik değişkenler 2'ye ayrılıyor:\n",
    "\n",
    "**Ordinal:** Ordinal değişkenlerde sıra önemlidir. ('çok memnunum', 'memnunun', 'az memnunum', 'memnun değilim' gibi.)\n",
    "\n",
    "**Nominal:** Nominal değişkenlerde sıra önemli değildir. ('mavi', 'yeşil', 'kırmızı' gibi.)"
   ]
  },
  {
   "cell_type": "markdown",
   "id": "19bce6b2-9b85-4403-a61b-d2d1d1616c9a",
   "metadata": {},
   "source": [
    "Nominal olanlar:"
   ]
  },
  {
   "cell_type": "code",
   "execution_count": 15,
   "id": "26d3f214-2bb7-4f8a-a573-4a74085fa548",
   "metadata": {
    "tags": []
   },
   "outputs": [
    {
     "data": {
      "text/plain": [
       "poutcome\n",
       "nonexistent    3523\n",
       "failure         454\n",
       "success         142\n",
       "Name: count, dtype: int64"
      ]
     },
     "execution_count": 15,
     "metadata": {},
     "output_type": "execute_result"
    }
   ],
   "source": [
    "df[\"poutcome\"].value_counts()"
   ]
  },
  {
   "cell_type": "code",
   "execution_count": 16,
   "id": "8c55cf03-d12e-4095-a302-43be5061b12f",
   "metadata": {
    "tags": []
   },
   "outputs": [],
   "source": [
    "#burada belirli bir işlemi tüm elemanlara uygulamak için map fonksiyonunnu kullanıyoruz.\n",
    "df[\"poutcome\"]= df[\"poutcome\"].map({\"failure\":-1,\"nonexistent\":0,\"success\":1})"
   ]
  },
  {
   "cell_type": "code",
   "execution_count": 17,
   "id": "3713c70d-8089-485f-8eef-d2d924b3c258",
   "metadata": {
    "tags": []
   },
   "outputs": [
    {
     "name": "stdout",
     "output_type": "stream",
     "text": [
      "housing\n",
      "yes        2175\n",
      "no         1839\n",
      "unknown     105\n",
      "Name: count, dtype: int64 \n",
      " loan\n",
      "no         3349\n",
      "yes         665\n",
      "unknown     105\n",
      "Name: count, dtype: int64\n"
     ]
    }
   ],
   "source": [
    "print(df[\"housing\"].value_counts(),\"\\n\", df[\"loan\"].value_counts())"
   ]
  },
  {
   "cell_type": "code",
   "execution_count": 18,
   "id": "87bc1ec9-3e82-4549-8e6e-b83dbc73a247",
   "metadata": {
    "tags": []
   },
   "outputs": [],
   "source": [
    "df[\"housing\"]= df[\"housing\"].map({\"yes\":-1,\"unknown\":0,\"no\":1})\n",
    "df[\"loan\"]= df[\"loan\"].map({\"yes\":-1,\"unknown\":0,\"no\":1})"
   ]
  },
  {
   "cell_type": "code",
   "execution_count": 19,
   "id": "7310117e-5977-4973-b0c1-775a41de5ebf",
   "metadata": {
    "tags": []
   },
   "outputs": [
    {
     "name": "stdout",
     "output_type": "stream",
     "text": [
      "housing\n",
      "-1    2175\n",
      " 1    1839\n",
      " 0     105\n",
      "Name: count, dtype: int64 \n",
      " loan\n",
      " 1    3349\n",
      "-1     665\n",
      " 0     105\n",
      "Name: count, dtype: int64\n"
     ]
    }
   ],
   "source": [
    "print(df[\"housing\"].value_counts(),\"\\n\", df[\"loan\"].value_counts())"
   ]
  },
  {
   "cell_type": "markdown",
   "id": "f2f2b8c1-6b02-4745-991b-0d0cf2ff65f7",
   "metadata": {},
   "source": [
    "Ordinal olan:"
   ]
  },
  {
   "cell_type": "code",
   "execution_count": 20,
   "id": "2fed1a2e-b230-46ca-9e07-d4976c8e452e",
   "metadata": {
    "tags": []
   },
   "outputs": [
    {
     "data": {
      "text/plain": [
       "default\n",
       "no         3315\n",
       "unknown     803\n",
       "yes           1\n",
       "Name: count, dtype: int64"
      ]
     },
     "execution_count": 20,
     "metadata": {},
     "output_type": "execute_result"
    }
   ],
   "source": [
    "df[\"default\"].value_counts()"
   ]
  },
  {
   "cell_type": "code",
   "execution_count": 21,
   "id": "3cff4fa1-c130-4aab-9bc9-7836da19aac3",
   "metadata": {
    "tags": []
   },
   "outputs": [
    {
     "data": {
      "text/plain": [
       "default\n",
       " 1    3315\n",
       " 0     803\n",
       "-1       1\n",
       "Name: count, dtype: int64"
      ]
     },
     "execution_count": 21,
     "metadata": {},
     "output_type": "execute_result"
    }
   ],
   "source": [
    "df[\"default\"]= df[\"default\"].map({\"yes\":-1,\"unknown\":0,\"no\":1})\n",
    "df[\"default\"].value_counts()"
   ]
  },
  {
   "cell_type": "markdown",
   "id": "aca279ec-094a-410d-80e7-9494ee57fd92",
   "metadata": {},
   "source": [
    "Kategorik değişkenler için **one-hot-encoding** yapacağız. Bunu nominal olanlar için yapacağız ordinal olanlarda yapılırsa sıralama derecesi korunmaz bu yüzden onlar ordinal encoding daha uygun olur."
   ]
  },
  {
   "cell_type": "code",
   "execution_count": 22,
   "id": "49d5cf54-7971-48b2-b789-9aaf32694bd5",
   "metadata": {
    "tags": []
   },
   "outputs": [
    {
     "data": {
      "text/plain": [
       "Index(['job', 'marital', 'education', 'default', 'housing', 'loan', 'contact',\n",
       "       'month', 'day_of_week', 'poutcome', 'y'],\n",
       "      dtype='object')"
      ]
     },
     "execution_count": 22,
     "metadata": {},
     "output_type": "execute_result"
    }
   ],
   "source": [
    "kategoric_col"
   ]
  },
  {
   "cell_type": "code",
   "execution_count": 23,
   "id": "cd75666c-2965-4d04-9c31-74491839087e",
   "metadata": {
    "tags": []
   },
   "outputs": [],
   "source": [
    "nominal=['job','marital','education','contact','month','day_of_week']"
   ]
  },
  {
   "cell_type": "code",
   "execution_count": 24,
   "id": "fa5c801c-c591-4285-a66a-ff4f3eee6416",
   "metadata": {
    "tags": []
   },
   "outputs": [],
   "source": [
    "df= pd.get_dummies(df,columns=nominal, drop_first=True)"
   ]
  },
  {
   "cell_type": "code",
   "execution_count": 25,
   "id": "413d3084-9db8-4d0d-b437-7ac75e334c83",
   "metadata": {
    "tags": []
   },
   "outputs": [
    {
     "data": {
      "text/html": [
       "<div>\n",
       "<style scoped>\n",
       "    .dataframe tbody tr th:only-of-type {\n",
       "        vertical-align: middle;\n",
       "    }\n",
       "\n",
       "    .dataframe tbody tr th {\n",
       "        vertical-align: top;\n",
       "    }\n",
       "\n",
       "    .dataframe thead th {\n",
       "        text-align: right;\n",
       "    }\n",
       "</style>\n",
       "<table border=\"1\" class=\"dataframe\">\n",
       "  <thead>\n",
       "    <tr style=\"text-align: right;\">\n",
       "      <th></th>\n",
       "      <th>age</th>\n",
       "      <th>default</th>\n",
       "      <th>housing</th>\n",
       "      <th>loan</th>\n",
       "      <th>campaign</th>\n",
       "      <th>pdays</th>\n",
       "      <th>previous</th>\n",
       "      <th>poutcome</th>\n",
       "      <th>emp.var.rate</th>\n",
       "      <th>cons.price.idx</th>\n",
       "      <th>...</th>\n",
       "      <th>month_jun</th>\n",
       "      <th>month_mar</th>\n",
       "      <th>month_may</th>\n",
       "      <th>month_nov</th>\n",
       "      <th>month_oct</th>\n",
       "      <th>month_sep</th>\n",
       "      <th>day_of_week_mon</th>\n",
       "      <th>day_of_week_thu</th>\n",
       "      <th>day_of_week_tue</th>\n",
       "      <th>day_of_week_wed</th>\n",
       "    </tr>\n",
       "  </thead>\n",
       "  <tbody>\n",
       "    <tr>\n",
       "      <th>0</th>\n",
       "      <td>30</td>\n",
       "      <td>1</td>\n",
       "      <td>-1</td>\n",
       "      <td>1</td>\n",
       "      <td>2</td>\n",
       "      <td>999</td>\n",
       "      <td>0</td>\n",
       "      <td>0</td>\n",
       "      <td>-1.8</td>\n",
       "      <td>92.893</td>\n",
       "      <td>...</td>\n",
       "      <td>False</td>\n",
       "      <td>False</td>\n",
       "      <td>True</td>\n",
       "      <td>False</td>\n",
       "      <td>False</td>\n",
       "      <td>False</td>\n",
       "      <td>False</td>\n",
       "      <td>False</td>\n",
       "      <td>False</td>\n",
       "      <td>False</td>\n",
       "    </tr>\n",
       "    <tr>\n",
       "      <th>1</th>\n",
       "      <td>39</td>\n",
       "      <td>1</td>\n",
       "      <td>1</td>\n",
       "      <td>1</td>\n",
       "      <td>4</td>\n",
       "      <td>999</td>\n",
       "      <td>0</td>\n",
       "      <td>0</td>\n",
       "      <td>1.1</td>\n",
       "      <td>93.994</td>\n",
       "      <td>...</td>\n",
       "      <td>False</td>\n",
       "      <td>False</td>\n",
       "      <td>True</td>\n",
       "      <td>False</td>\n",
       "      <td>False</td>\n",
       "      <td>False</td>\n",
       "      <td>False</td>\n",
       "      <td>False</td>\n",
       "      <td>False</td>\n",
       "      <td>False</td>\n",
       "    </tr>\n",
       "    <tr>\n",
       "      <th>2</th>\n",
       "      <td>25</td>\n",
       "      <td>1</td>\n",
       "      <td>-1</td>\n",
       "      <td>1</td>\n",
       "      <td>1</td>\n",
       "      <td>999</td>\n",
       "      <td>0</td>\n",
       "      <td>0</td>\n",
       "      <td>1.4</td>\n",
       "      <td>94.465</td>\n",
       "      <td>...</td>\n",
       "      <td>True</td>\n",
       "      <td>False</td>\n",
       "      <td>False</td>\n",
       "      <td>False</td>\n",
       "      <td>False</td>\n",
       "      <td>False</td>\n",
       "      <td>False</td>\n",
       "      <td>False</td>\n",
       "      <td>False</td>\n",
       "      <td>True</td>\n",
       "    </tr>\n",
       "    <tr>\n",
       "      <th>3</th>\n",
       "      <td>38</td>\n",
       "      <td>1</td>\n",
       "      <td>0</td>\n",
       "      <td>0</td>\n",
       "      <td>3</td>\n",
       "      <td>999</td>\n",
       "      <td>0</td>\n",
       "      <td>0</td>\n",
       "      <td>1.4</td>\n",
       "      <td>94.465</td>\n",
       "      <td>...</td>\n",
       "      <td>True</td>\n",
       "      <td>False</td>\n",
       "      <td>False</td>\n",
       "      <td>False</td>\n",
       "      <td>False</td>\n",
       "      <td>False</td>\n",
       "      <td>False</td>\n",
       "      <td>False</td>\n",
       "      <td>False</td>\n",
       "      <td>False</td>\n",
       "    </tr>\n",
       "    <tr>\n",
       "      <th>4</th>\n",
       "      <td>47</td>\n",
       "      <td>1</td>\n",
       "      <td>-1</td>\n",
       "      <td>1</td>\n",
       "      <td>1</td>\n",
       "      <td>999</td>\n",
       "      <td>0</td>\n",
       "      <td>0</td>\n",
       "      <td>-0.1</td>\n",
       "      <td>93.200</td>\n",
       "      <td>...</td>\n",
       "      <td>False</td>\n",
       "      <td>False</td>\n",
       "      <td>False</td>\n",
       "      <td>True</td>\n",
       "      <td>False</td>\n",
       "      <td>False</td>\n",
       "      <td>True</td>\n",
       "      <td>False</td>\n",
       "      <td>False</td>\n",
       "      <td>False</td>\n",
       "    </tr>\n",
       "  </tbody>\n",
       "</table>\n",
       "<p>5 rows × 49 columns</p>\n",
       "</div>"
      ],
      "text/plain": [
       "   age  default  housing  loan  campaign  pdays  previous  poutcome  \\\n",
       "0   30        1       -1     1         2    999         0         0   \n",
       "1   39        1        1     1         4    999         0         0   \n",
       "2   25        1       -1     1         1    999         0         0   \n",
       "3   38        1        0     0         3    999         0         0   \n",
       "4   47        1       -1     1         1    999         0         0   \n",
       "\n",
       "   emp.var.rate  cons.price.idx  ...  month_jun  month_mar  month_may  \\\n",
       "0          -1.8          92.893  ...      False      False       True   \n",
       "1           1.1          93.994  ...      False      False       True   \n",
       "2           1.4          94.465  ...       True      False      False   \n",
       "3           1.4          94.465  ...       True      False      False   \n",
       "4          -0.1          93.200  ...      False      False      False   \n",
       "\n",
       "  month_nov  month_oct  month_sep  day_of_week_mon  day_of_week_thu  \\\n",
       "0     False      False      False            False            False   \n",
       "1     False      False      False            False            False   \n",
       "2     False      False      False            False            False   \n",
       "3     False      False      False            False            False   \n",
       "4      True      False      False             True            False   \n",
       "\n",
       "   day_of_week_tue  day_of_week_wed  \n",
       "0            False            False  \n",
       "1            False            False  \n",
       "2            False             True  \n",
       "3            False            False  \n",
       "4            False            False  \n",
       "\n",
       "[5 rows x 49 columns]"
      ]
     },
     "execution_count": 25,
     "metadata": {},
     "output_type": "execute_result"
    }
   ],
   "source": [
    "df.head()"
   ]
  },
  {
   "cell_type": "code",
   "execution_count": 26,
   "id": "ba31fad5-e51c-4752-8bf3-8e7eae4a5eeb",
   "metadata": {
    "collapsed": true,
    "jupyter": {
     "outputs_hidden": true
    },
    "tags": []
   },
   "outputs": [
    {
     "data": {
      "text/plain": [
       "Index(['age', 'default', 'housing', 'loan', 'campaign', 'pdays', 'previous',\n",
       "       'poutcome', 'emp.var.rate', 'cons.price.idx', 'cons.conf.idx',\n",
       "       'euribor3m', 'nr.employed', 'y', 'job_blue-collar', 'job_entrepreneur',\n",
       "       'job_housemaid', 'job_management', 'job_retired', 'job_self-employed',\n",
       "       'job_services', 'job_student', 'job_technician', 'job_unemployed',\n",
       "       'job_unknown', 'marital_married', 'marital_single', 'marital_unknown',\n",
       "       'education_basic.6y', 'education_basic.9y', 'education_high.school',\n",
       "       'education_illiterate', 'education_professional.course',\n",
       "       'education_university.degree', 'education_unknown', 'contact_telephone',\n",
       "       'month_aug', 'month_dec', 'month_jul', 'month_jun', 'month_mar',\n",
       "       'month_may', 'month_nov', 'month_oct', 'month_sep', 'day_of_week_mon',\n",
       "       'day_of_week_thu', 'day_of_week_tue', 'day_of_week_wed'],\n",
       "      dtype='object')"
      ]
     },
     "execution_count": 26,
     "metadata": {},
     "output_type": "execute_result"
    }
   ],
   "source": [
    "df.columns"
   ]
  },
  {
   "cell_type": "code",
   "execution_count": 27,
   "id": "b433f570-643c-4411-99ea-f08e6dfa96e8",
   "metadata": {
    "tags": []
   },
   "outputs": [],
   "source": [
    "boolean_columns = [ 'job_blue-collar',\n",
    "    'job_entrepreneur', 'job_housemaid', 'job_management', 'job_retired',\n",
    "    'job_self-employed', 'job_services', 'job_student', 'job_technician',\n",
    "    'job_unemployed', 'job_unknown', 'marital_married',\n",
    "    'marital_single', 'marital_unknown',\n",
    "    'education_basic.6y', 'education_basic.9y', 'education_high.school',\n",
    "    'education_illiterate', 'education_professional.course',\n",
    "    'education_university.degree', 'education_unknown',\n",
    "    'contact_telephone', 'month_aug', 'month_dec', 'month_jul',\n",
    "    'month_jun', 'month_mar', 'month_may', 'month_nov', 'month_oct',\n",
    "    'month_sep', 'day_of_week_mon', 'day_of_week_thu',\n",
    "    'day_of_week_tue', 'day_of_week_wed'\n",
    "]\n",
    "\n",
    "# Belirtilen sütunları 1 ve 0'a dönüştür\n",
    "df[boolean_columns] = df[boolean_columns].astype(int)"
   ]
  },
  {
   "cell_type": "markdown",
   "id": "24fa0923-3e9f-47a2-93da-f34e851917ae",
   "metadata": {
    "tags": []
   },
   "source": [
    "Son olarak target variable y'yi de encode edelim:"
   ]
  },
  {
   "cell_type": "code",
   "execution_count": 28,
   "id": "abdfc841-4753-4f72-9044-e5cfb15f7879",
   "metadata": {
    "tags": []
   },
   "outputs": [
    {
     "data": {
      "text/html": [
       "<div>\n",
       "<style scoped>\n",
       "    .dataframe tbody tr th:only-of-type {\n",
       "        vertical-align: middle;\n",
       "    }\n",
       "\n",
       "    .dataframe tbody tr th {\n",
       "        vertical-align: top;\n",
       "    }\n",
       "\n",
       "    .dataframe thead th {\n",
       "        text-align: right;\n",
       "    }\n",
       "</style>\n",
       "<table border=\"1\" class=\"dataframe\">\n",
       "  <thead>\n",
       "    <tr style=\"text-align: right;\">\n",
       "      <th></th>\n",
       "      <th>age</th>\n",
       "      <th>default</th>\n",
       "      <th>housing</th>\n",
       "      <th>loan</th>\n",
       "      <th>campaign</th>\n",
       "      <th>pdays</th>\n",
       "      <th>previous</th>\n",
       "      <th>poutcome</th>\n",
       "      <th>emp.var.rate</th>\n",
       "      <th>cons.price.idx</th>\n",
       "      <th>...</th>\n",
       "      <th>month_jun</th>\n",
       "      <th>month_mar</th>\n",
       "      <th>month_may</th>\n",
       "      <th>month_nov</th>\n",
       "      <th>month_oct</th>\n",
       "      <th>month_sep</th>\n",
       "      <th>day_of_week_mon</th>\n",
       "      <th>day_of_week_thu</th>\n",
       "      <th>day_of_week_tue</th>\n",
       "      <th>day_of_week_wed</th>\n",
       "    </tr>\n",
       "  </thead>\n",
       "  <tbody>\n",
       "    <tr>\n",
       "      <th>0</th>\n",
       "      <td>30</td>\n",
       "      <td>1</td>\n",
       "      <td>-1</td>\n",
       "      <td>1</td>\n",
       "      <td>2</td>\n",
       "      <td>999</td>\n",
       "      <td>0</td>\n",
       "      <td>0</td>\n",
       "      <td>-1.8</td>\n",
       "      <td>92.893</td>\n",
       "      <td>...</td>\n",
       "      <td>0</td>\n",
       "      <td>0</td>\n",
       "      <td>1</td>\n",
       "      <td>0</td>\n",
       "      <td>0</td>\n",
       "      <td>0</td>\n",
       "      <td>0</td>\n",
       "      <td>0</td>\n",
       "      <td>0</td>\n",
       "      <td>0</td>\n",
       "    </tr>\n",
       "    <tr>\n",
       "      <th>1</th>\n",
       "      <td>39</td>\n",
       "      <td>1</td>\n",
       "      <td>1</td>\n",
       "      <td>1</td>\n",
       "      <td>4</td>\n",
       "      <td>999</td>\n",
       "      <td>0</td>\n",
       "      <td>0</td>\n",
       "      <td>1.1</td>\n",
       "      <td>93.994</td>\n",
       "      <td>...</td>\n",
       "      <td>0</td>\n",
       "      <td>0</td>\n",
       "      <td>1</td>\n",
       "      <td>0</td>\n",
       "      <td>0</td>\n",
       "      <td>0</td>\n",
       "      <td>0</td>\n",
       "      <td>0</td>\n",
       "      <td>0</td>\n",
       "      <td>0</td>\n",
       "    </tr>\n",
       "    <tr>\n",
       "      <th>2</th>\n",
       "      <td>25</td>\n",
       "      <td>1</td>\n",
       "      <td>-1</td>\n",
       "      <td>1</td>\n",
       "      <td>1</td>\n",
       "      <td>999</td>\n",
       "      <td>0</td>\n",
       "      <td>0</td>\n",
       "      <td>1.4</td>\n",
       "      <td>94.465</td>\n",
       "      <td>...</td>\n",
       "      <td>1</td>\n",
       "      <td>0</td>\n",
       "      <td>0</td>\n",
       "      <td>0</td>\n",
       "      <td>0</td>\n",
       "      <td>0</td>\n",
       "      <td>0</td>\n",
       "      <td>0</td>\n",
       "      <td>0</td>\n",
       "      <td>1</td>\n",
       "    </tr>\n",
       "    <tr>\n",
       "      <th>3</th>\n",
       "      <td>38</td>\n",
       "      <td>1</td>\n",
       "      <td>0</td>\n",
       "      <td>0</td>\n",
       "      <td>3</td>\n",
       "      <td>999</td>\n",
       "      <td>0</td>\n",
       "      <td>0</td>\n",
       "      <td>1.4</td>\n",
       "      <td>94.465</td>\n",
       "      <td>...</td>\n",
       "      <td>1</td>\n",
       "      <td>0</td>\n",
       "      <td>0</td>\n",
       "      <td>0</td>\n",
       "      <td>0</td>\n",
       "      <td>0</td>\n",
       "      <td>0</td>\n",
       "      <td>0</td>\n",
       "      <td>0</td>\n",
       "      <td>0</td>\n",
       "    </tr>\n",
       "    <tr>\n",
       "      <th>4</th>\n",
       "      <td>47</td>\n",
       "      <td>1</td>\n",
       "      <td>-1</td>\n",
       "      <td>1</td>\n",
       "      <td>1</td>\n",
       "      <td>999</td>\n",
       "      <td>0</td>\n",
       "      <td>0</td>\n",
       "      <td>-0.1</td>\n",
       "      <td>93.200</td>\n",
       "      <td>...</td>\n",
       "      <td>0</td>\n",
       "      <td>0</td>\n",
       "      <td>0</td>\n",
       "      <td>1</td>\n",
       "      <td>0</td>\n",
       "      <td>0</td>\n",
       "      <td>1</td>\n",
       "      <td>0</td>\n",
       "      <td>0</td>\n",
       "      <td>0</td>\n",
       "    </tr>\n",
       "  </tbody>\n",
       "</table>\n",
       "<p>5 rows × 49 columns</p>\n",
       "</div>"
      ],
      "text/plain": [
       "   age  default  housing  loan  campaign  pdays  previous  poutcome  \\\n",
       "0   30        1       -1     1         2    999         0         0   \n",
       "1   39        1        1     1         4    999         0         0   \n",
       "2   25        1       -1     1         1    999         0         0   \n",
       "3   38        1        0     0         3    999         0         0   \n",
       "4   47        1       -1     1         1    999         0         0   \n",
       "\n",
       "   emp.var.rate  cons.price.idx  ...  month_jun  month_mar  month_may  \\\n",
       "0          -1.8          92.893  ...          0          0          1   \n",
       "1           1.1          93.994  ...          0          0          1   \n",
       "2           1.4          94.465  ...          1          0          0   \n",
       "3           1.4          94.465  ...          1          0          0   \n",
       "4          -0.1          93.200  ...          0          0          0   \n",
       "\n",
       "   month_nov  month_oct  month_sep  day_of_week_mon  day_of_week_thu  \\\n",
       "0          0          0          0                0                0   \n",
       "1          0          0          0                0                0   \n",
       "2          0          0          0                0                0   \n",
       "3          0          0          0                0                0   \n",
       "4          1          0          0                1                0   \n",
       "\n",
       "   day_of_week_tue  day_of_week_wed  \n",
       "0                0                0  \n",
       "1                0                0  \n",
       "2                0                1  \n",
       "3                0                0  \n",
       "4                0                0  \n",
       "\n",
       "[5 rows x 49 columns]"
      ]
     },
     "execution_count": 28,
     "metadata": {},
     "output_type": "execute_result"
    }
   ],
   "source": [
    "df[\"y\"]=df[\"y\"].map({\"yes\":1,\"no\":0})\n",
    "df.head()"
   ]
  },
  {
   "cell_type": "markdown",
   "id": "ac0fab6f-d483-4167-8ddf-e3eaa6f7ee51",
   "metadata": {},
   "source": [
    "**Girdi ve Çıktıların belirlenmesi**"
   ]
  },
  {
   "cell_type": "code",
   "execution_count": 29,
   "id": "01cf956b-ebbc-4366-ab78-bed8a111f7ec",
   "metadata": {
    "tags": []
   },
   "outputs": [],
   "source": [
    "X= df.drop([\"y\"],axis=1)\n",
    "y=df[\"y\"]"
   ]
  },
  {
   "cell_type": "code",
   "execution_count": 30,
   "id": "ac25192b-ac78-4d30-894b-df05867f55c5",
   "metadata": {
    "tags": []
   },
   "outputs": [
    {
     "data": {
      "text/plain": [
       "(4119, 48)"
      ]
     },
     "execution_count": 30,
     "metadata": {},
     "output_type": "execute_result"
    }
   ],
   "source": [
    "X.shape"
   ]
  },
  {
   "cell_type": "code",
   "execution_count": 31,
   "id": "9148f143-8fbd-4406-bcbc-c65e33f5977a",
   "metadata": {
    "tags": []
   },
   "outputs": [
    {
     "data": {
      "text/plain": [
       "(4119,)"
      ]
     },
     "execution_count": 31,
     "metadata": {},
     "output_type": "execute_result"
    }
   ],
   "source": [
    "y.shape"
   ]
  },
  {
   "cell_type": "markdown",
   "id": "677e97ab-92cc-4d4a-9064-1473a3fa8863",
   "metadata": {},
   "source": [
    "**Train-Test Split**"
   ]
  },
  {
   "cell_type": "code",
   "execution_count": 32,
   "id": "84e1938c-d8f4-4cf8-a807-aa7892b0f44f",
   "metadata": {
    "tags": []
   },
   "outputs": [],
   "source": [
    "from sklearn.model_selection import train_test_split\n",
    "X_train, X_test, y_train, y_test= train_test_split(X,y, test_size=0.2, random_state=0)"
   ]
  },
  {
   "cell_type": "markdown",
   "id": "6d2bc14b-25f8-4f3f-a3f0-a034252bcacd",
   "metadata": {},
   "source": [
    "**Feature Scaling**"
   ]
  },
  {
   "cell_type": "code",
   "execution_count": 33,
   "id": "831bc83c-c5d9-43bb-8fce-037c86fe7cb0",
   "metadata": {
    "tags": []
   },
   "outputs": [],
   "source": [
    "cols=X_train.columns"
   ]
  },
  {
   "cell_type": "code",
   "execution_count": 34,
   "id": "eb150bde-5e90-4558-961a-90d11f0dc9f4",
   "metadata": {
    "collapsed": true,
    "jupyter": {
     "outputs_hidden": true
    },
    "tags": []
   },
   "outputs": [
    {
     "data": {
      "text/html": [
       "<div>\n",
       "<style scoped>\n",
       "    .dataframe tbody tr th:only-of-type {\n",
       "        vertical-align: middle;\n",
       "    }\n",
       "\n",
       "    .dataframe tbody tr th {\n",
       "        vertical-align: top;\n",
       "    }\n",
       "\n",
       "    .dataframe thead th {\n",
       "        text-align: right;\n",
       "    }\n",
       "</style>\n",
       "<table border=\"1\" class=\"dataframe\">\n",
       "  <thead>\n",
       "    <tr style=\"text-align: right;\">\n",
       "      <th></th>\n",
       "      <th>age</th>\n",
       "      <th>campaign</th>\n",
       "      <th>pdays</th>\n",
       "      <th>previous</th>\n",
       "      <th>emp.var.rate</th>\n",
       "      <th>cons.price.idx</th>\n",
       "      <th>cons.conf.idx</th>\n",
       "      <th>euribor3m</th>\n",
       "      <th>nr.employed</th>\n",
       "    </tr>\n",
       "  </thead>\n",
       "  <tbody>\n",
       "    <tr>\n",
       "      <th>3199</th>\n",
       "      <td>30</td>\n",
       "      <td>2</td>\n",
       "      <td>999</td>\n",
       "      <td>0</td>\n",
       "      <td>1.1</td>\n",
       "      <td>93.994</td>\n",
       "      <td>-36.4</td>\n",
       "      <td>4.856</td>\n",
       "      <td>5191.0</td>\n",
       "    </tr>\n",
       "    <tr>\n",
       "      <th>3258</th>\n",
       "      <td>42</td>\n",
       "      <td>2</td>\n",
       "      <td>999</td>\n",
       "      <td>0</td>\n",
       "      <td>1.4</td>\n",
       "      <td>93.444</td>\n",
       "      <td>-36.1</td>\n",
       "      <td>4.968</td>\n",
       "      <td>5228.1</td>\n",
       "    </tr>\n",
       "    <tr>\n",
       "      <th>3153</th>\n",
       "      <td>48</td>\n",
       "      <td>1</td>\n",
       "      <td>999</td>\n",
       "      <td>0</td>\n",
       "      <td>-0.1</td>\n",
       "      <td>93.200</td>\n",
       "      <td>-42.0</td>\n",
       "      <td>4.191</td>\n",
       "      <td>5195.8</td>\n",
       "    </tr>\n",
       "    <tr>\n",
       "      <th>399</th>\n",
       "      <td>30</td>\n",
       "      <td>2</td>\n",
       "      <td>999</td>\n",
       "      <td>1</td>\n",
       "      <td>-0.1</td>\n",
       "      <td>93.200</td>\n",
       "      <td>-42.0</td>\n",
       "      <td>4.021</td>\n",
       "      <td>5195.8</td>\n",
       "    </tr>\n",
       "    <tr>\n",
       "      <th>1410</th>\n",
       "      <td>28</td>\n",
       "      <td>1</td>\n",
       "      <td>999</td>\n",
       "      <td>0</td>\n",
       "      <td>-1.8</td>\n",
       "      <td>92.893</td>\n",
       "      <td>-46.2</td>\n",
       "      <td>1.291</td>\n",
       "      <td>5099.1</td>\n",
       "    </tr>\n",
       "    <tr>\n",
       "      <th>...</th>\n",
       "      <td>...</td>\n",
       "      <td>...</td>\n",
       "      <td>...</td>\n",
       "      <td>...</td>\n",
       "      <td>...</td>\n",
       "      <td>...</td>\n",
       "      <td>...</td>\n",
       "      <td>...</td>\n",
       "      <td>...</td>\n",
       "    </tr>\n",
       "    <tr>\n",
       "      <th>1033</th>\n",
       "      <td>50</td>\n",
       "      <td>17</td>\n",
       "      <td>999</td>\n",
       "      <td>0</td>\n",
       "      <td>1.4</td>\n",
       "      <td>94.465</td>\n",
       "      <td>-41.8</td>\n",
       "      <td>4.961</td>\n",
       "      <td>5228.1</td>\n",
       "    </tr>\n",
       "    <tr>\n",
       "      <th>3264</th>\n",
       "      <td>45</td>\n",
       "      <td>3</td>\n",
       "      <td>999</td>\n",
       "      <td>0</td>\n",
       "      <td>1.4</td>\n",
       "      <td>93.918</td>\n",
       "      <td>-42.7</td>\n",
       "      <td>4.961</td>\n",
       "      <td>5228.1</td>\n",
       "    </tr>\n",
       "    <tr>\n",
       "      <th>1653</th>\n",
       "      <td>27</td>\n",
       "      <td>2</td>\n",
       "      <td>999</td>\n",
       "      <td>0</td>\n",
       "      <td>-2.9</td>\n",
       "      <td>92.201</td>\n",
       "      <td>-31.4</td>\n",
       "      <td>0.879</td>\n",
       "      <td>5076.2</td>\n",
       "    </tr>\n",
       "    <tr>\n",
       "      <th>2607</th>\n",
       "      <td>56</td>\n",
       "      <td>3</td>\n",
       "      <td>999</td>\n",
       "      <td>0</td>\n",
       "      <td>1.4</td>\n",
       "      <td>93.918</td>\n",
       "      <td>-42.7</td>\n",
       "      <td>4.962</td>\n",
       "      <td>5228.1</td>\n",
       "    </tr>\n",
       "    <tr>\n",
       "      <th>2732</th>\n",
       "      <td>32</td>\n",
       "      <td>4</td>\n",
       "      <td>999</td>\n",
       "      <td>0</td>\n",
       "      <td>1.4</td>\n",
       "      <td>93.444</td>\n",
       "      <td>-36.1</td>\n",
       "      <td>4.966</td>\n",
       "      <td>5228.1</td>\n",
       "    </tr>\n",
       "  </tbody>\n",
       "</table>\n",
       "<p>3295 rows × 9 columns</p>\n",
       "</div>"
      ],
      "text/plain": [
       "      age  campaign  pdays  previous  emp.var.rate  cons.price.idx  \\\n",
       "3199   30         2    999         0           1.1          93.994   \n",
       "3258   42         2    999         0           1.4          93.444   \n",
       "3153   48         1    999         0          -0.1          93.200   \n",
       "399    30         2    999         1          -0.1          93.200   \n",
       "1410   28         1    999         0          -1.8          92.893   \n",
       "...   ...       ...    ...       ...           ...             ...   \n",
       "1033   50        17    999         0           1.4          94.465   \n",
       "3264   45         3    999         0           1.4          93.918   \n",
       "1653   27         2    999         0          -2.9          92.201   \n",
       "2607   56         3    999         0           1.4          93.918   \n",
       "2732   32         4    999         0           1.4          93.444   \n",
       "\n",
       "      cons.conf.idx  euribor3m  nr.employed  \n",
       "3199          -36.4      4.856       5191.0  \n",
       "3258          -36.1      4.968       5228.1  \n",
       "3153          -42.0      4.191       5195.8  \n",
       "399           -42.0      4.021       5195.8  \n",
       "1410          -46.2      1.291       5099.1  \n",
       "...             ...        ...          ...  \n",
       "1033          -41.8      4.961       5228.1  \n",
       "3264          -42.7      4.961       5228.1  \n",
       "1653          -31.4      0.879       5076.2  \n",
       "2607          -42.7      4.962       5228.1  \n",
       "2732          -36.1      4.966       5228.1  \n",
       "\n",
       "[3295 rows x 9 columns]"
      ]
     },
     "execution_count": 34,
     "metadata": {},
     "output_type": "execute_result"
    }
   ],
   "source": [
    "X_train[numeric_col]"
   ]
  },
  {
   "cell_type": "code",
   "execution_count": 35,
   "id": "1fec7bfa-1f5e-4f85-a907-22ca4ffa0732",
   "metadata": {
    "tags": []
   },
   "outputs": [],
   "source": [
    "# StandardScaler oluştur\n",
    "from sklearn.preprocessing import StandardScaler\n",
    "scaler=StandardScaler()\n",
    "\n",
    "#öğrenmek için kullandığımız  numeric girdileri scale et ve yeni hale dönüştür\n",
    "X_train= scaler.fit_transform(X_train)\n",
    "\n",
    "#Test kısmını sadece dönüştürüyoruz\n",
    "X_test= scaler.transform(X_test)"
   ]
  },
  {
   "cell_type": "code",
   "execution_count": 36,
   "id": "ccbce13f-1717-45cc-b1d4-57cba1f5ecd4",
   "metadata": {
    "tags": []
   },
   "outputs": [
    {
     "data": {
      "text/plain": [
       "numpy.ndarray"
      ]
     },
     "execution_count": 36,
     "metadata": {},
     "output_type": "execute_result"
    }
   ],
   "source": [
    "# StandardScaler transform sonrası veri yapıları değişir ndarray tipi olur\n",
    "type(X_train)"
   ]
  },
  {
   "cell_type": "code",
   "execution_count": 37,
   "id": "10ad0d69-3ddd-4680-aed9-330338db9814",
   "metadata": {
    "tags": []
   },
   "outputs": [],
   "source": [
    "#biz bunu tekrar DataFrame tipine dönüştürücez\n",
    "X_train=pd.DataFrame(X_train, columns=[cols])\n",
    "X_test=pd.DataFrame(X_test, columns=[cols])"
   ]
  },
  {
   "cell_type": "code",
   "execution_count": 38,
   "id": "2d60cf8e-5b04-4ba8-bc1f-b22ff1871175",
   "metadata": {
    "collapsed": true,
    "jupyter": {
     "outputs_hidden": true
    },
    "tags": []
   },
   "outputs": [
    {
     "data": {
      "text/html": [
       "<div>\n",
       "<style scoped>\n",
       "    .dataframe tbody tr th:only-of-type {\n",
       "        vertical-align: middle;\n",
       "    }\n",
       "\n",
       "    .dataframe tbody tr th {\n",
       "        vertical-align: top;\n",
       "    }\n",
       "\n",
       "    .dataframe thead tr th {\n",
       "        text-align: left;\n",
       "    }\n",
       "</style>\n",
       "<table border=\"1\" class=\"dataframe\">\n",
       "  <thead>\n",
       "    <tr>\n",
       "      <th></th>\n",
       "      <th>age</th>\n",
       "      <th>default</th>\n",
       "      <th>housing</th>\n",
       "      <th>loan</th>\n",
       "      <th>campaign</th>\n",
       "      <th>pdays</th>\n",
       "      <th>previous</th>\n",
       "      <th>poutcome</th>\n",
       "      <th>emp.var.rate</th>\n",
       "      <th>cons.price.idx</th>\n",
       "      <th>...</th>\n",
       "      <th>month_jun</th>\n",
       "      <th>month_mar</th>\n",
       "      <th>month_may</th>\n",
       "      <th>month_nov</th>\n",
       "      <th>month_oct</th>\n",
       "      <th>month_sep</th>\n",
       "      <th>day_of_week_mon</th>\n",
       "      <th>day_of_week_thu</th>\n",
       "      <th>day_of_week_tue</th>\n",
       "      <th>day_of_week_wed</th>\n",
       "    </tr>\n",
       "  </thead>\n",
       "  <tbody>\n",
       "    <tr>\n",
       "      <th>0</th>\n",
       "      <td>-0.977249</td>\n",
       "      <td>0.491928</td>\n",
       "      <td>-0.917247</td>\n",
       "      <td>0.464636</td>\n",
       "      <td>-0.195607</td>\n",
       "      <td>0.204284</td>\n",
       "      <td>-0.356918</td>\n",
       "      <td>0.200672</td>\n",
       "      <td>0.656694</td>\n",
       "      <td>0.724940</td>\n",
       "      <td>...</td>\n",
       "      <td>-0.381170</td>\n",
       "      <td>-0.109444</td>\n",
       "      <td>1.418409</td>\n",
       "      <td>-0.355121</td>\n",
       "      <td>-0.12413</td>\n",
       "      <td>-0.126628</td>\n",
       "      <td>-0.514189</td>\n",
       "      <td>-0.510412</td>\n",
       "      <td>1.951978</td>\n",
       "      <td>-0.487638</td>\n",
       "    </tr>\n",
       "    <tr>\n",
       "      <th>1</th>\n",
       "      <td>0.179962</td>\n",
       "      <td>0.491928</td>\n",
       "      <td>-0.917247</td>\n",
       "      <td>0.464636</td>\n",
       "      <td>-0.195607</td>\n",
       "      <td>0.204284</td>\n",
       "      <td>-0.356918</td>\n",
       "      <td>0.200672</td>\n",
       "      <td>0.848657</td>\n",
       "      <td>-0.225414</td>\n",
       "      <td>...</td>\n",
       "      <td>-0.381170</td>\n",
       "      <td>-0.109444</td>\n",
       "      <td>-0.705015</td>\n",
       "      <td>-0.355121</td>\n",
       "      <td>-0.12413</td>\n",
       "      <td>-0.126628</td>\n",
       "      <td>-0.514189</td>\n",
       "      <td>-0.510412</td>\n",
       "      <td>1.951978</td>\n",
       "      <td>-0.487638</td>\n",
       "    </tr>\n",
       "    <tr>\n",
       "      <th>2</th>\n",
       "      <td>0.758567</td>\n",
       "      <td>0.491928</td>\n",
       "      <td>-0.917247</td>\n",
       "      <td>0.464636</td>\n",
       "      <td>-0.587892</td>\n",
       "      <td>0.204284</td>\n",
       "      <td>-0.356918</td>\n",
       "      <td>0.200672</td>\n",
       "      <td>-0.111158</td>\n",
       "      <td>-0.647026</td>\n",
       "      <td>...</td>\n",
       "      <td>-0.381170</td>\n",
       "      <td>-0.109444</td>\n",
       "      <td>-0.705015</td>\n",
       "      <td>2.815944</td>\n",
       "      <td>-0.12413</td>\n",
       "      <td>-0.126628</td>\n",
       "      <td>1.944812</td>\n",
       "      <td>-0.510412</td>\n",
       "      <td>-0.512301</td>\n",
       "      <td>-0.487638</td>\n",
       "    </tr>\n",
       "    <tr>\n",
       "      <th>3</th>\n",
       "      <td>-0.977249</td>\n",
       "      <td>0.491928</td>\n",
       "      <td>1.118677</td>\n",
       "      <td>0.464636</td>\n",
       "      <td>-0.195607</td>\n",
       "      <td>0.204284</td>\n",
       "      <td>1.495123</td>\n",
       "      <td>-2.444187</td>\n",
       "      <td>-0.111158</td>\n",
       "      <td>-0.647026</td>\n",
       "      <td>...</td>\n",
       "      <td>-0.381170</td>\n",
       "      <td>-0.109444</td>\n",
       "      <td>-0.705015</td>\n",
       "      <td>2.815944</td>\n",
       "      <td>-0.12413</td>\n",
       "      <td>-0.126628</td>\n",
       "      <td>-0.514189</td>\n",
       "      <td>-0.510412</td>\n",
       "      <td>-0.512301</td>\n",
       "      <td>-0.487638</td>\n",
       "    </tr>\n",
       "    <tr>\n",
       "      <th>4</th>\n",
       "      <td>-1.170117</td>\n",
       "      <td>0.491928</td>\n",
       "      <td>1.118677</td>\n",
       "      <td>0.464636</td>\n",
       "      <td>-0.587892</td>\n",
       "      <td>0.204284</td>\n",
       "      <td>-0.356918</td>\n",
       "      <td>0.200672</td>\n",
       "      <td>-1.198948</td>\n",
       "      <td>-1.177496</td>\n",
       "      <td>...</td>\n",
       "      <td>-0.381170</td>\n",
       "      <td>-0.109444</td>\n",
       "      <td>1.418409</td>\n",
       "      <td>-0.355121</td>\n",
       "      <td>-0.12413</td>\n",
       "      <td>-0.126628</td>\n",
       "      <td>-0.514189</td>\n",
       "      <td>-0.510412</td>\n",
       "      <td>1.951978</td>\n",
       "      <td>-0.487638</td>\n",
       "    </tr>\n",
       "    <tr>\n",
       "      <th>...</th>\n",
       "      <td>...</td>\n",
       "      <td>...</td>\n",
       "      <td>...</td>\n",
       "      <td>...</td>\n",
       "      <td>...</td>\n",
       "      <td>...</td>\n",
       "      <td>...</td>\n",
       "      <td>...</td>\n",
       "      <td>...</td>\n",
       "      <td>...</td>\n",
       "      <td>...</td>\n",
       "      <td>...</td>\n",
       "      <td>...</td>\n",
       "      <td>...</td>\n",
       "      <td>...</td>\n",
       "      <td>...</td>\n",
       "      <td>...</td>\n",
       "      <td>...</td>\n",
       "      <td>...</td>\n",
       "      <td>...</td>\n",
       "      <td>...</td>\n",
       "    </tr>\n",
       "    <tr>\n",
       "      <th>3290</th>\n",
       "      <td>0.951435</td>\n",
       "      <td>-2.025002</td>\n",
       "      <td>1.118677</td>\n",
       "      <td>0.464636</td>\n",
       "      <td>5.688668</td>\n",
       "      <td>0.204284</td>\n",
       "      <td>-0.356918</td>\n",
       "      <td>0.200672</td>\n",
       "      <td>0.848657</td>\n",
       "      <td>1.538789</td>\n",
       "      <td>...</td>\n",
       "      <td>2.623504</td>\n",
       "      <td>-0.109444</td>\n",
       "      <td>-0.705015</td>\n",
       "      <td>-0.355121</td>\n",
       "      <td>-0.12413</td>\n",
       "      <td>-0.126628</td>\n",
       "      <td>1.944812</td>\n",
       "      <td>-0.510412</td>\n",
       "      <td>-0.512301</td>\n",
       "      <td>-0.487638</td>\n",
       "    </tr>\n",
       "    <tr>\n",
       "      <th>3291</th>\n",
       "      <td>0.469264</td>\n",
       "      <td>-2.025002</td>\n",
       "      <td>-0.917247</td>\n",
       "      <td>-2.252268</td>\n",
       "      <td>0.196678</td>\n",
       "      <td>0.204284</td>\n",
       "      <td>-0.356918</td>\n",
       "      <td>0.200672</td>\n",
       "      <td>0.848657</td>\n",
       "      <td>0.593618</td>\n",
       "      <td>...</td>\n",
       "      <td>-0.381170</td>\n",
       "      <td>-0.109444</td>\n",
       "      <td>-0.705015</td>\n",
       "      <td>-0.355121</td>\n",
       "      <td>-0.12413</td>\n",
       "      <td>-0.126628</td>\n",
       "      <td>-0.514189</td>\n",
       "      <td>-0.510412</td>\n",
       "      <td>1.951978</td>\n",
       "      <td>-0.487638</td>\n",
       "    </tr>\n",
       "    <tr>\n",
       "      <th>3292</th>\n",
       "      <td>-1.266551</td>\n",
       "      <td>0.491928</td>\n",
       "      <td>-0.917247</td>\n",
       "      <td>0.464636</td>\n",
       "      <td>-0.195607</td>\n",
       "      <td>0.204284</td>\n",
       "      <td>-0.356918</td>\n",
       "      <td>0.200672</td>\n",
       "      <td>-1.902812</td>\n",
       "      <td>-2.373214</td>\n",
       "      <td>...</td>\n",
       "      <td>-0.381170</td>\n",
       "      <td>-0.109444</td>\n",
       "      <td>-0.705015</td>\n",
       "      <td>-0.355121</td>\n",
       "      <td>-0.12413</td>\n",
       "      <td>-0.126628</td>\n",
       "      <td>-0.514189</td>\n",
       "      <td>-0.510412</td>\n",
       "      <td>-0.512301</td>\n",
       "      <td>2.050700</td>\n",
       "    </tr>\n",
       "    <tr>\n",
       "      <th>3293</th>\n",
       "      <td>1.530041</td>\n",
       "      <td>0.491928</td>\n",
       "      <td>-0.917247</td>\n",
       "      <td>-2.252268</td>\n",
       "      <td>0.196678</td>\n",
       "      <td>0.204284</td>\n",
       "      <td>-0.356918</td>\n",
       "      <td>0.200672</td>\n",
       "      <td>0.848657</td>\n",
       "      <td>0.593618</td>\n",
       "      <td>...</td>\n",
       "      <td>-0.381170</td>\n",
       "      <td>-0.109444</td>\n",
       "      <td>-0.705015</td>\n",
       "      <td>-0.355121</td>\n",
       "      <td>-0.12413</td>\n",
       "      <td>-0.126628</td>\n",
       "      <td>1.944812</td>\n",
       "      <td>-0.510412</td>\n",
       "      <td>-0.512301</td>\n",
       "      <td>-0.487638</td>\n",
       "    </tr>\n",
       "    <tr>\n",
       "      <th>3294</th>\n",
       "      <td>-0.784380</td>\n",
       "      <td>0.491928</td>\n",
       "      <td>-0.917247</td>\n",
       "      <td>0.464636</td>\n",
       "      <td>0.588963</td>\n",
       "      <td>0.204284</td>\n",
       "      <td>-0.356918</td>\n",
       "      <td>0.200672</td>\n",
       "      <td>0.848657</td>\n",
       "      <td>-0.225414</td>\n",
       "      <td>...</td>\n",
       "      <td>-0.381170</td>\n",
       "      <td>-0.109444</td>\n",
       "      <td>-0.705015</td>\n",
       "      <td>-0.355121</td>\n",
       "      <td>-0.12413</td>\n",
       "      <td>-0.126628</td>\n",
       "      <td>-0.514189</td>\n",
       "      <td>-0.510412</td>\n",
       "      <td>1.951978</td>\n",
       "      <td>-0.487638</td>\n",
       "    </tr>\n",
       "  </tbody>\n",
       "</table>\n",
       "<p>3295 rows × 48 columns</p>\n",
       "</div>"
      ],
      "text/plain": [
       "           age   default   housing      loan  campaign     pdays  previous  \\\n",
       "0    -0.977249  0.491928 -0.917247  0.464636 -0.195607  0.204284 -0.356918   \n",
       "1     0.179962  0.491928 -0.917247  0.464636 -0.195607  0.204284 -0.356918   \n",
       "2     0.758567  0.491928 -0.917247  0.464636 -0.587892  0.204284 -0.356918   \n",
       "3    -0.977249  0.491928  1.118677  0.464636 -0.195607  0.204284  1.495123   \n",
       "4    -1.170117  0.491928  1.118677  0.464636 -0.587892  0.204284 -0.356918   \n",
       "...        ...       ...       ...       ...       ...       ...       ...   \n",
       "3290  0.951435 -2.025002  1.118677  0.464636  5.688668  0.204284 -0.356918   \n",
       "3291  0.469264 -2.025002 -0.917247 -2.252268  0.196678  0.204284 -0.356918   \n",
       "3292 -1.266551  0.491928 -0.917247  0.464636 -0.195607  0.204284 -0.356918   \n",
       "3293  1.530041  0.491928 -0.917247 -2.252268  0.196678  0.204284 -0.356918   \n",
       "3294 -0.784380  0.491928 -0.917247  0.464636  0.588963  0.204284 -0.356918   \n",
       "\n",
       "      poutcome emp.var.rate cons.price.idx  ... month_jun month_mar month_may  \\\n",
       "0     0.200672     0.656694       0.724940  ... -0.381170 -0.109444  1.418409   \n",
       "1     0.200672     0.848657      -0.225414  ... -0.381170 -0.109444 -0.705015   \n",
       "2     0.200672    -0.111158      -0.647026  ... -0.381170 -0.109444 -0.705015   \n",
       "3    -2.444187    -0.111158      -0.647026  ... -0.381170 -0.109444 -0.705015   \n",
       "4     0.200672    -1.198948      -1.177496  ... -0.381170 -0.109444  1.418409   \n",
       "...        ...          ...            ...  ...       ...       ...       ...   \n",
       "3290  0.200672     0.848657       1.538789  ...  2.623504 -0.109444 -0.705015   \n",
       "3291  0.200672     0.848657       0.593618  ... -0.381170 -0.109444 -0.705015   \n",
       "3292  0.200672    -1.902812      -2.373214  ... -0.381170 -0.109444 -0.705015   \n",
       "3293  0.200672     0.848657       0.593618  ... -0.381170 -0.109444 -0.705015   \n",
       "3294  0.200672     0.848657      -0.225414  ... -0.381170 -0.109444 -0.705015   \n",
       "\n",
       "     month_nov month_oct month_sep day_of_week_mon day_of_week_thu  \\\n",
       "0    -0.355121  -0.12413 -0.126628       -0.514189       -0.510412   \n",
       "1    -0.355121  -0.12413 -0.126628       -0.514189       -0.510412   \n",
       "2     2.815944  -0.12413 -0.126628        1.944812       -0.510412   \n",
       "3     2.815944  -0.12413 -0.126628       -0.514189       -0.510412   \n",
       "4    -0.355121  -0.12413 -0.126628       -0.514189       -0.510412   \n",
       "...        ...       ...       ...             ...             ...   \n",
       "3290 -0.355121  -0.12413 -0.126628        1.944812       -0.510412   \n",
       "3291 -0.355121  -0.12413 -0.126628       -0.514189       -0.510412   \n",
       "3292 -0.355121  -0.12413 -0.126628       -0.514189       -0.510412   \n",
       "3293 -0.355121  -0.12413 -0.126628        1.944812       -0.510412   \n",
       "3294 -0.355121  -0.12413 -0.126628       -0.514189       -0.510412   \n",
       "\n",
       "     day_of_week_tue day_of_week_wed  \n",
       "0           1.951978       -0.487638  \n",
       "1           1.951978       -0.487638  \n",
       "2          -0.512301       -0.487638  \n",
       "3          -0.512301       -0.487638  \n",
       "4           1.951978       -0.487638  \n",
       "...              ...             ...  \n",
       "3290       -0.512301       -0.487638  \n",
       "3291        1.951978       -0.487638  \n",
       "3292       -0.512301        2.050700  \n",
       "3293       -0.512301       -0.487638  \n",
       "3294        1.951978       -0.487638  \n",
       "\n",
       "[3295 rows x 48 columns]"
      ]
     },
     "execution_count": 38,
     "metadata": {},
     "output_type": "execute_result"
    }
   ],
   "source": [
    "X_train[cols]"
   ]
  },
  {
   "cell_type": "markdown",
   "id": "80f010ca-f5cc-40e8-b78f-4ae6239f26ce",
   "metadata": {},
   "source": [
    "**AdaBoost**"
   ]
  },
  {
   "cell_type": "code",
   "execution_count": 40,
   "id": "204f0d2a-fc6c-4d4b-85a1-cf3e2b1300ac",
   "metadata": {},
   "outputs": [
    {
     "name": "stdout",
     "output_type": "stream",
     "text": [
      "AdaBoost ile ROC-AUC score: 0.62\n"
     ]
    }
   ],
   "source": [
    "from sklearn.ensemble import AdaBoostClassifier\n",
    "from sklearn.metrics import roc_auc_score\n",
    "\n",
    "#Sınıftan bir obje oluşturma\n",
    "abc= AdaBoostClassifier(n_estimators=400, learning_rate=1, random_state=0)\n",
    "\n",
    "model_abc= abc.fit(X_train,y_train)\n",
    "\n",
    "y_pred_abc= model_abc.predict(X_test)\n",
    "\n",
    "#roc-auc\n",
    "print('AdaBoost ile ROC-AUC score: {0:0.2f}'.format(roc_auc_score(y_test, y_pred_abc)))"
   ]
  },
  {
   "cell_type": "markdown",
   "id": "83c31e85-527f-491e-93d4-f22010724ccd",
   "metadata": {},
   "source": [
    "**XGBoost**"
   ]
  },
  {
   "cell_type": "code",
   "execution_count": 41,
   "id": "f6a62a6e-0a05-47cf-a401-e7f4d1c3c840",
   "metadata": {},
   "outputs": [
    {
     "name": "stdout",
     "output_type": "stream",
     "text": [
      "XGBoost ile ROC-AUC score: 0.60\n"
     ]
    }
   ],
   "source": [
    "from xgboost import XGBClassifier\n",
    "from sklearn.metrics import roc_auc_score\n",
    "\n",
    "xgb= XGBClassifier(n_estimators=400, max_depth=6, learning_rate=1, random_state=0)\n",
    "\n",
    "model_xgb=xgb.fit(X_train,y_train)\n",
    "\n",
    "y_pred_xgb=model_xgb.predict(X_test)\n",
    "\n",
    "print('XGBoost ile ROC-AUC score: {0:0.2f}'.format(roc_auc_score(y_test, y_pred_xgb)))"
   ]
  }
 ],
 "metadata": {
  "kernelspec": {
   "display_name": "Python 3 (ipykernel)",
   "language": "python",
   "name": "python3"
  },
  "language_info": {
   "codemirror_mode": {
    "name": "ipython",
    "version": 3
   },
   "file_extension": ".py",
   "mimetype": "text/x-python",
   "name": "python",
   "nbconvert_exporter": "python",
   "pygments_lexer": "ipython3",
   "version": "3.10.9"
  }
 },
 "nbformat": 4,
 "nbformat_minor": 5
}

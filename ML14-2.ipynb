{
 "cells": [
  {
   "cell_type": "code",
   "execution_count": 1,
   "id": "04a209dc-bc36-44a9-988e-f54b81b8a96c",
   "metadata": {},
   "outputs": [],
   "source": [
    "import pandas as pd\n",
    "from sklearn.model_selection import train_test_split, GridSearchCV, RandomizedSearchCV\n",
    "from sklearn.neighbors import KNeighborsClassifier"
   ]
  },
  {
   "cell_type": "code",
   "execution_count": 3,
   "id": "19116464-b4cb-4508-b9f7-b3ca6a5c53db",
   "metadata": {
    "tags": []
   },
   "outputs": [],
   "source": [
    "train_data= pd.read_csv(\"data/titanic_train.csv\")"
   ]
  },
  {
   "cell_type": "code",
   "execution_count": 4,
   "id": "43e8cc5c-af8d-4949-ad92-0f5e803f7d1b",
   "metadata": {
    "collapsed": true,
    "jupyter": {
     "outputs_hidden": true
    },
    "tags": []
   },
   "outputs": [
    {
     "data": {
      "text/html": [
       "<div>\n",
       "<style scoped>\n",
       "    .dataframe tbody tr th:only-of-type {\n",
       "        vertical-align: middle;\n",
       "    }\n",
       "\n",
       "    .dataframe tbody tr th {\n",
       "        vertical-align: top;\n",
       "    }\n",
       "\n",
       "    .dataframe thead th {\n",
       "        text-align: right;\n",
       "    }\n",
       "</style>\n",
       "<table border=\"1\" class=\"dataframe\">\n",
       "  <thead>\n",
       "    <tr style=\"text-align: right;\">\n",
       "      <th></th>\n",
       "      <th>PassengerId</th>\n",
       "      <th>Survived</th>\n",
       "      <th>Pclass</th>\n",
       "      <th>Name</th>\n",
       "      <th>Sex</th>\n",
       "      <th>Age</th>\n",
       "      <th>SibSp</th>\n",
       "      <th>Parch</th>\n",
       "      <th>Ticket</th>\n",
       "      <th>Fare</th>\n",
       "      <th>Cabin</th>\n",
       "      <th>Embarked</th>\n",
       "    </tr>\n",
       "  </thead>\n",
       "  <tbody>\n",
       "    <tr>\n",
       "      <th>0</th>\n",
       "      <td>1</td>\n",
       "      <td>0</td>\n",
       "      <td>3</td>\n",
       "      <td>Braund, Mr. Owen Harris</td>\n",
       "      <td>male</td>\n",
       "      <td>22.0</td>\n",
       "      <td>1</td>\n",
       "      <td>0</td>\n",
       "      <td>A/5 21171</td>\n",
       "      <td>7.2500</td>\n",
       "      <td>NaN</td>\n",
       "      <td>S</td>\n",
       "    </tr>\n",
       "    <tr>\n",
       "      <th>1</th>\n",
       "      <td>2</td>\n",
       "      <td>1</td>\n",
       "      <td>1</td>\n",
       "      <td>Cumings, Mrs. John Bradley (Florence Briggs Th...</td>\n",
       "      <td>female</td>\n",
       "      <td>38.0</td>\n",
       "      <td>1</td>\n",
       "      <td>0</td>\n",
       "      <td>PC 17599</td>\n",
       "      <td>71.2833</td>\n",
       "      <td>C85</td>\n",
       "      <td>C</td>\n",
       "    </tr>\n",
       "    <tr>\n",
       "      <th>2</th>\n",
       "      <td>3</td>\n",
       "      <td>1</td>\n",
       "      <td>3</td>\n",
       "      <td>Heikkinen, Miss. Laina</td>\n",
       "      <td>female</td>\n",
       "      <td>26.0</td>\n",
       "      <td>0</td>\n",
       "      <td>0</td>\n",
       "      <td>STON/O2. 3101282</td>\n",
       "      <td>7.9250</td>\n",
       "      <td>NaN</td>\n",
       "      <td>S</td>\n",
       "    </tr>\n",
       "    <tr>\n",
       "      <th>3</th>\n",
       "      <td>4</td>\n",
       "      <td>1</td>\n",
       "      <td>1</td>\n",
       "      <td>Futrelle, Mrs. Jacques Heath (Lily May Peel)</td>\n",
       "      <td>female</td>\n",
       "      <td>35.0</td>\n",
       "      <td>1</td>\n",
       "      <td>0</td>\n",
       "      <td>113803</td>\n",
       "      <td>53.1000</td>\n",
       "      <td>C123</td>\n",
       "      <td>S</td>\n",
       "    </tr>\n",
       "    <tr>\n",
       "      <th>4</th>\n",
       "      <td>5</td>\n",
       "      <td>0</td>\n",
       "      <td>3</td>\n",
       "      <td>Allen, Mr. William Henry</td>\n",
       "      <td>male</td>\n",
       "      <td>35.0</td>\n",
       "      <td>0</td>\n",
       "      <td>0</td>\n",
       "      <td>373450</td>\n",
       "      <td>8.0500</td>\n",
       "      <td>NaN</td>\n",
       "      <td>S</td>\n",
       "    </tr>\n",
       "  </tbody>\n",
       "</table>\n",
       "</div>"
      ],
      "text/plain": [
       "   PassengerId  Survived  Pclass  \\\n",
       "0            1         0       3   \n",
       "1            2         1       1   \n",
       "2            3         1       3   \n",
       "3            4         1       1   \n",
       "4            5         0       3   \n",
       "\n",
       "                                                Name     Sex   Age  SibSp  \\\n",
       "0                            Braund, Mr. Owen Harris    male  22.0      1   \n",
       "1  Cumings, Mrs. John Bradley (Florence Briggs Th...  female  38.0      1   \n",
       "2                             Heikkinen, Miss. Laina  female  26.0      0   \n",
       "3       Futrelle, Mrs. Jacques Heath (Lily May Peel)  female  35.0      1   \n",
       "4                           Allen, Mr. William Henry    male  35.0      0   \n",
       "\n",
       "   Parch            Ticket     Fare Cabin Embarked  \n",
       "0      0         A/5 21171   7.2500   NaN        S  \n",
       "1      0          PC 17599  71.2833   C85        C  \n",
       "2      0  STON/O2. 3101282   7.9250   NaN        S  \n",
       "3      0            113803  53.1000  C123        S  \n",
       "4      0            373450   8.0500   NaN        S  "
      ]
     },
     "execution_count": 4,
     "metadata": {},
     "output_type": "execute_result"
    }
   ],
   "source": [
    "train_data.head()"
   ]
  },
  {
   "cell_type": "code",
   "execution_count": 7,
   "id": "7ce90852-8ce1-4c38-a438-f637ec5933f1",
   "metadata": {
    "tags": []
   },
   "outputs": [],
   "source": [
    "# eksik verili satırları sil\n",
    "\n",
    "train_data.dropna(axis=0, subset=[\"Survived\"], inplace=True)"
   ]
  },
  {
   "cell_type": "code",
   "execution_count": 8,
   "id": "087af745-bbbb-4577-b958-e00eb7188be6",
   "metadata": {
    "tags": []
   },
   "outputs": [],
   "source": [
    "# sonuç değişkeni\n",
    "\n",
    "y= train_data.Survived"
   ]
  },
  {
   "cell_type": "code",
   "execution_count": 9,
   "id": "67831624-38f4-42ad-9496-854eb4af252b",
   "metadata": {
    "tags": []
   },
   "outputs": [],
   "source": [
    "# train datadan y'yi çıkar\n",
    "\n",
    "train_data.drop([\"Survived\"], axis=1, inplace=True)"
   ]
  },
  {
   "cell_type": "code",
   "execution_count": 10,
   "id": "ec4fe5c4-3723-4faa-99a1-54aae91d7b4f",
   "metadata": {
    "tags": []
   },
   "outputs": [],
   "source": [
    "# İçinde Null değerler olan Age sütununu sil\n",
    "\n",
    "train_data.drop([\"Age\"], axis=1, inplace=True)"
   ]
  },
  {
   "cell_type": "code",
   "execution_count": 11,
   "id": "b2fc3780-356a-4fa5-b851-f7d8ca7357b4",
   "metadata": {
    "tags": []
   },
   "outputs": [],
   "source": [
    "# sadece numerik kolonları seç\n",
    "\n",
    "numeric_cols= [cname for cname in train_data.columns if train_data[cname].dtype in [\"int64\",\"float64\"]]"
   ]
  },
  {
   "cell_type": "code",
   "execution_count": 12,
   "id": "73d0c807-e556-4344-85ff-1389bcbb1515",
   "metadata": {
    "tags": []
   },
   "outputs": [],
   "source": [
    "X= train_data[numeric_cols].copy()"
   ]
  },
  {
   "cell_type": "code",
   "execution_count": 14,
   "id": "7c95eae8-c602-4693-87d1-cee5d05201f9",
   "metadata": {
    "collapsed": true,
    "jupyter": {
     "outputs_hidden": true
    },
    "tags": []
   },
   "outputs": [
    {
     "data": {
      "text/html": [
       "<div>\n",
       "<style scoped>\n",
       "    .dataframe tbody tr th:only-of-type {\n",
       "        vertical-align: middle;\n",
       "    }\n",
       "\n",
       "    .dataframe tbody tr th {\n",
       "        vertical-align: top;\n",
       "    }\n",
       "\n",
       "    .dataframe thead th {\n",
       "        text-align: right;\n",
       "    }\n",
       "</style>\n",
       "<table border=\"1\" class=\"dataframe\">\n",
       "  <thead>\n",
       "    <tr style=\"text-align: right;\">\n",
       "      <th></th>\n",
       "      <th>PassengerId</th>\n",
       "      <th>Pclass</th>\n",
       "      <th>SibSp</th>\n",
       "      <th>Parch</th>\n",
       "      <th>Fare</th>\n",
       "    </tr>\n",
       "  </thead>\n",
       "  <tbody>\n",
       "    <tr>\n",
       "      <th>0</th>\n",
       "      <td>1</td>\n",
       "      <td>3</td>\n",
       "      <td>1</td>\n",
       "      <td>0</td>\n",
       "      <td>7.2500</td>\n",
       "    </tr>\n",
       "    <tr>\n",
       "      <th>1</th>\n",
       "      <td>2</td>\n",
       "      <td>1</td>\n",
       "      <td>1</td>\n",
       "      <td>0</td>\n",
       "      <td>71.2833</td>\n",
       "    </tr>\n",
       "    <tr>\n",
       "      <th>2</th>\n",
       "      <td>3</td>\n",
       "      <td>3</td>\n",
       "      <td>0</td>\n",
       "      <td>0</td>\n",
       "      <td>7.9250</td>\n",
       "    </tr>\n",
       "    <tr>\n",
       "      <th>3</th>\n",
       "      <td>4</td>\n",
       "      <td>1</td>\n",
       "      <td>1</td>\n",
       "      <td>0</td>\n",
       "      <td>53.1000</td>\n",
       "    </tr>\n",
       "    <tr>\n",
       "      <th>4</th>\n",
       "      <td>5</td>\n",
       "      <td>3</td>\n",
       "      <td>0</td>\n",
       "      <td>0</td>\n",
       "      <td>8.0500</td>\n",
       "    </tr>\n",
       "  </tbody>\n",
       "</table>\n",
       "</div>"
      ],
      "text/plain": [
       "   PassengerId  Pclass  SibSp  Parch     Fare\n",
       "0            1       3      1      0   7.2500\n",
       "1            2       1      1      0  71.2833\n",
       "2            3       3      0      0   7.9250\n",
       "3            4       1      1      0  53.1000\n",
       "4            5       3      0      0   8.0500"
      ]
     },
     "execution_count": 14,
     "metadata": {},
     "output_type": "execute_result"
    }
   ],
   "source": [
    "X.head()"
   ]
  },
  {
   "cell_type": "code",
   "execution_count": 15,
   "id": "c9c54976-72e1-4caf-a1be-c8089e2aabf5",
   "metadata": {
    "tags": []
   },
   "outputs": [
    {
     "name": "stdout",
     "output_type": "stream",
     "text": [
      "Train datanın şekli: (891, 5) ve sonuç değişkenin şekli: (891,)\n"
     ]
    }
   ],
   "source": [
    "print(\"Train datanın şekli: {} ve sonuç değişkenin şekli: {}\".format(X.shape, y.shape))"
   ]
  },
  {
   "cell_type": "code",
   "execution_count": 16,
   "id": "9e4d8997-5262-4271-a539-366b6f5a84d1",
   "metadata": {
    "tags": []
   },
   "outputs": [
    {
     "data": {
      "text/html": [
       "<div>\n",
       "<style scoped>\n",
       "    .dataframe tbody tr th:only-of-type {\n",
       "        vertical-align: middle;\n",
       "    }\n",
       "\n",
       "    .dataframe tbody tr th {\n",
       "        vertical-align: top;\n",
       "    }\n",
       "\n",
       "    .dataframe thead th {\n",
       "        text-align: right;\n",
       "    }\n",
       "</style>\n",
       "<table border=\"1\" class=\"dataframe\">\n",
       "  <thead>\n",
       "    <tr style=\"text-align: right;\">\n",
       "      <th></th>\n",
       "      <th>PassengerId</th>\n",
       "      <th>Pclass</th>\n",
       "      <th>SibSp</th>\n",
       "      <th>Parch</th>\n",
       "      <th>Fare</th>\n",
       "      <th>Survived</th>\n",
       "    </tr>\n",
       "  </thead>\n",
       "  <tbody>\n",
       "    <tr>\n",
       "      <th>0</th>\n",
       "      <td>1</td>\n",
       "      <td>3</td>\n",
       "      <td>1</td>\n",
       "      <td>0</td>\n",
       "      <td>7.2500</td>\n",
       "      <td>0</td>\n",
       "    </tr>\n",
       "    <tr>\n",
       "      <th>1</th>\n",
       "      <td>2</td>\n",
       "      <td>1</td>\n",
       "      <td>1</td>\n",
       "      <td>0</td>\n",
       "      <td>71.2833</td>\n",
       "      <td>1</td>\n",
       "    </tr>\n",
       "    <tr>\n",
       "      <th>2</th>\n",
       "      <td>3</td>\n",
       "      <td>3</td>\n",
       "      <td>0</td>\n",
       "      <td>0</td>\n",
       "      <td>7.9250</td>\n",
       "      <td>1</td>\n",
       "    </tr>\n",
       "    <tr>\n",
       "      <th>3</th>\n",
       "      <td>4</td>\n",
       "      <td>1</td>\n",
       "      <td>1</td>\n",
       "      <td>0</td>\n",
       "      <td>53.1000</td>\n",
       "      <td>1</td>\n",
       "    </tr>\n",
       "    <tr>\n",
       "      <th>4</th>\n",
       "      <td>5</td>\n",
       "      <td>3</td>\n",
       "      <td>0</td>\n",
       "      <td>0</td>\n",
       "      <td>8.0500</td>\n",
       "      <td>0</td>\n",
       "    </tr>\n",
       "  </tbody>\n",
       "</table>\n",
       "</div>"
      ],
      "text/plain": [
       "   PassengerId  Pclass  SibSp  Parch     Fare  Survived\n",
       "0            1       3      1      0   7.2500         0\n",
       "1            2       1      1      0  71.2833         1\n",
       "2            3       3      0      0   7.9250         1\n",
       "3            4       1      1      0  53.1000         1\n",
       "4            5       3      0      0   8.0500         0"
      ]
     },
     "execution_count": 16,
     "metadata": {},
     "output_type": "execute_result"
    }
   ],
   "source": [
    "# ilk 5 train datasını göster\n",
    "\n",
    "pd.concat([X,y], axis=1).head()"
   ]
  },
  {
   "cell_type": "markdown",
   "id": "3563a432-4fb6-46ec-9107-a393639aaad8",
   "metadata": {},
   "source": [
    "**Hyperparameter Tuning Olmadan Model Skor'u**"
   ]
  },
  {
   "cell_type": "code",
   "execution_count": 17,
   "id": "24769db7-4445-4e05-8021-23015444e6bc",
   "metadata": {
    "tags": []
   },
   "outputs": [],
   "source": [
    "# datayı train-test split olarak ayıralım\n",
    "\n",
    "X_train, X_test, y_train, y_test= train_test_split(X, y, test_size=0.2, random_state=42)"
   ]
  },
  {
   "cell_type": "code",
   "execution_count": 18,
   "id": "dba63183-02b1-4f81-b768-db750f19419e",
   "metadata": {
    "tags": []
   },
   "outputs": [
    {
     "name": "stdout",
     "output_type": "stream",
     "text": [
      "X_train ölçüleri =  (712, 5)\n",
      "X_test ölçüleri =  (179, 5)\n",
      "y_train ölçüleri =  (712,)\n",
      "y_train ölçüleri =  (179,)\n"
     ]
    }
   ],
   "source": [
    "# verilerin şekilleri\n",
    "\n",
    "print('X_train ölçüleri = ', X_train.shape)\n",
    "print('X_test ölçüleri = ', X_test.shape)\n",
    "print('y_train ölçüleri = ', y_train.shape)\n",
    "print('y_train ölçüleri = ', y_test.shape)"
   ]
  },
  {
   "cell_type": "code",
   "execution_count": 20,
   "id": "49e4b43d-efa8-4b8e-ae1a-4869d97f74df",
   "metadata": {
    "tags": []
   },
   "outputs": [
    {
     "data": {
      "text/html": [
       "<style>#sk-container-id-2 {color: black;}#sk-container-id-2 pre{padding: 0;}#sk-container-id-2 div.sk-toggleable {background-color: white;}#sk-container-id-2 label.sk-toggleable__label {cursor: pointer;display: block;width: 100%;margin-bottom: 0;padding: 0.3em;box-sizing: border-box;text-align: center;}#sk-container-id-2 label.sk-toggleable__label-arrow:before {content: \"▸\";float: left;margin-right: 0.25em;color: #696969;}#sk-container-id-2 label.sk-toggleable__label-arrow:hover:before {color: black;}#sk-container-id-2 div.sk-estimator:hover label.sk-toggleable__label-arrow:before {color: black;}#sk-container-id-2 div.sk-toggleable__content {max-height: 0;max-width: 0;overflow: hidden;text-align: left;background-color: #f0f8ff;}#sk-container-id-2 div.sk-toggleable__content pre {margin: 0.2em;color: black;border-radius: 0.25em;background-color: #f0f8ff;}#sk-container-id-2 input.sk-toggleable__control:checked~div.sk-toggleable__content {max-height: 200px;max-width: 100%;overflow: auto;}#sk-container-id-2 input.sk-toggleable__control:checked~label.sk-toggleable__label-arrow:before {content: \"▾\";}#sk-container-id-2 div.sk-estimator input.sk-toggleable__control:checked~label.sk-toggleable__label {background-color: #d4ebff;}#sk-container-id-2 div.sk-label input.sk-toggleable__control:checked~label.sk-toggleable__label {background-color: #d4ebff;}#sk-container-id-2 input.sk-hidden--visually {border: 0;clip: rect(1px 1px 1px 1px);clip: rect(1px, 1px, 1px, 1px);height: 1px;margin: -1px;overflow: hidden;padding: 0;position: absolute;width: 1px;}#sk-container-id-2 div.sk-estimator {font-family: monospace;background-color: #f0f8ff;border: 1px dotted black;border-radius: 0.25em;box-sizing: border-box;margin-bottom: 0.5em;}#sk-container-id-2 div.sk-estimator:hover {background-color: #d4ebff;}#sk-container-id-2 div.sk-parallel-item::after {content: \"\";width: 100%;border-bottom: 1px solid gray;flex-grow: 1;}#sk-container-id-2 div.sk-label:hover label.sk-toggleable__label {background-color: #d4ebff;}#sk-container-id-2 div.sk-serial::before {content: \"\";position: absolute;border-left: 1px solid gray;box-sizing: border-box;top: 0;bottom: 0;left: 50%;z-index: 0;}#sk-container-id-2 div.sk-serial {display: flex;flex-direction: column;align-items: center;background-color: white;padding-right: 0.2em;padding-left: 0.2em;position: relative;}#sk-container-id-2 div.sk-item {position: relative;z-index: 1;}#sk-container-id-2 div.sk-parallel {display: flex;align-items: stretch;justify-content: center;background-color: white;position: relative;}#sk-container-id-2 div.sk-item::before, #sk-container-id-2 div.sk-parallel-item::before {content: \"\";position: absolute;border-left: 1px solid gray;box-sizing: border-box;top: 0;bottom: 0;left: 50%;z-index: -1;}#sk-container-id-2 div.sk-parallel-item {display: flex;flex-direction: column;z-index: 1;position: relative;background-color: white;}#sk-container-id-2 div.sk-parallel-item:first-child::after {align-self: flex-end;width: 50%;}#sk-container-id-2 div.sk-parallel-item:last-child::after {align-self: flex-start;width: 50%;}#sk-container-id-2 div.sk-parallel-item:only-child::after {width: 0;}#sk-container-id-2 div.sk-dashed-wrapped {border: 1px dashed gray;margin: 0 0.4em 0.5em 0.4em;box-sizing: border-box;padding-bottom: 0.4em;background-color: white;}#sk-container-id-2 div.sk-label label {font-family: monospace;font-weight: bold;display: inline-block;line-height: 1.2em;}#sk-container-id-2 div.sk-label-container {text-align: center;}#sk-container-id-2 div.sk-container {/* jupyter's `normalize.less` sets `[hidden] { display: none; }` but bootstrap.min.css set `[hidden] { display: none !important; }` so we also need the `!important` here to be able to override the default hidden behavior on the sphinx rendered scikit-learn.org. See: https://github.com/scikit-learn/scikit-learn/issues/21755 */display: inline-block !important;position: relative;}#sk-container-id-2 div.sk-text-repr-fallback {display: none;}</style><div id=\"sk-container-id-2\" class=\"sk-top-container\"><div class=\"sk-text-repr-fallback\"><pre>KNeighborsClassifier(n_neighbors=3)</pre><b>In a Jupyter environment, please rerun this cell to show the HTML representation or trust the notebook. <br />On GitHub, the HTML representation is unable to render, please try loading this page with nbviewer.org.</b></div><div class=\"sk-container\" hidden><div class=\"sk-item\"><div class=\"sk-estimator sk-toggleable\"><input class=\"sk-toggleable__control sk-hidden--visually\" id=\"sk-estimator-id-2\" type=\"checkbox\" checked><label for=\"sk-estimator-id-2\" class=\"sk-toggleable__label sk-toggleable__label-arrow\">KNeighborsClassifier</label><div class=\"sk-toggleable__content\"><pre>KNeighborsClassifier(n_neighbors=3)</pre></div></div></div></div></div>"
      ],
      "text/plain": [
       "KNeighborsClassifier(n_neighbors=3)"
      ]
     },
     "execution_count": 20,
     "metadata": {},
     "output_type": "execute_result"
    }
   ],
   "source": [
    "# şimdi KNN ile çözelim\n",
    "# rasgele olarak K = 3 alalım\n",
    "\n",
    "neigh= KNeighborsClassifier(n_neighbors=3)\n",
    "\n",
    "neigh.fit(X_train, y_train)"
   ]
  },
  {
   "cell_type": "code",
   "execution_count": 21,
   "id": "a6f458b9-2f89-40aa-ae20-1ffac91e7499",
   "metadata": {
    "tags": []
   },
   "outputs": [
    {
     "name": "stdout",
     "output_type": "stream",
     "text": [
      "[0 1 0 0 0 1 0 1 0 1 0 0 0 0 1 0 1 0 0 0 0 0 0 0 1 0 0 0 1 0 0 0 0 0 0 0 0\n",
      " 0 0 0 0 0 0 0 0 0 0 0 0 1 0 0 0 1 0 1 0 1 0 0 0 1 1 0 0 0 1 0 0 1 0 1 1 1\n",
      " 0 0 0 1 0 0 0 0 1 0 0 0 1 1 0 0 0 1 1 0 0 0 1 0 1 0 1 0 1 0 0 1 0 0 0 1 0\n",
      " 0 0 0 0 0 0 1 1 0 0 1 1 0 1 1 0 0 1 0 0 0 0 0 1 1 1 0 0 0 0 1 1 1 1 0 0 1\n",
      " 0 0 0 1 0 0 0 0 1 0 0 0 0 0 0 1 1 1 1 0 0 1 0 0 0 1 0 0 0 0 1]\n"
     ]
    }
   ],
   "source": [
    "# tahmin yapalım\n",
    "\n",
    "y_pred= neigh.predict(X_test)\n",
    "\n",
    "print(y_pred)"
   ]
  },
  {
   "cell_type": "code",
   "execution_count": 23,
   "id": "82181b6e-e381-421f-83df-285d416ffbe1",
   "metadata": {
    "collapsed": true,
    "jupyter": {
     "outputs_hidden": true
    },
    "tags": []
   },
   "outputs": [
    {
     "name": "stdout",
     "output_type": "stream",
     "text": [
      "[[0.66666667 0.33333333]\n",
      " [0.33333333 0.66666667]\n",
      " [1.         0.        ]\n",
      " [0.66666667 0.33333333]\n",
      " [1.         0.        ]\n",
      " [0.33333333 0.66666667]\n",
      " [0.66666667 0.33333333]\n",
      " [0.33333333 0.66666667]\n",
      " [1.         0.        ]\n",
      " [0.33333333 0.66666667]\n",
      " [0.66666667 0.33333333]\n",
      " [0.66666667 0.33333333]\n",
      " [1.         0.        ]\n",
      " [1.         0.        ]\n",
      " [0.33333333 0.66666667]\n",
      " [0.66666667 0.33333333]\n",
      " [0.         1.        ]\n",
      " [1.         0.        ]\n",
      " [1.         0.        ]\n",
      " [1.         0.        ]\n",
      " [0.66666667 0.33333333]\n",
      " [0.66666667 0.33333333]\n",
      " [1.         0.        ]\n",
      " [0.66666667 0.33333333]\n",
      " [0.33333333 0.66666667]\n",
      " [1.         0.        ]\n",
      " [1.         0.        ]\n",
      " [0.66666667 0.33333333]\n",
      " [0.33333333 0.66666667]\n",
      " [0.66666667 0.33333333]\n",
      " [0.66666667 0.33333333]\n",
      " [1.         0.        ]\n",
      " [1.         0.        ]\n",
      " [1.         0.        ]\n",
      " [1.         0.        ]\n",
      " [0.66666667 0.33333333]\n",
      " [1.         0.        ]\n",
      " [1.         0.        ]\n",
      " [0.66666667 0.33333333]\n",
      " [0.66666667 0.33333333]\n",
      " [1.         0.        ]\n",
      " [1.         0.        ]\n",
      " [1.         0.        ]\n",
      " [0.66666667 0.33333333]\n",
      " [0.66666667 0.33333333]\n",
      " [1.         0.        ]\n",
      " [0.66666667 0.33333333]\n",
      " [1.         0.        ]\n",
      " [0.66666667 0.33333333]\n",
      " [0.33333333 0.66666667]\n",
      " [0.66666667 0.33333333]\n",
      " [0.66666667 0.33333333]\n",
      " [1.         0.        ]\n",
      " [0.33333333 0.66666667]\n",
      " [0.66666667 0.33333333]\n",
      " [0.         1.        ]\n",
      " [0.66666667 0.33333333]\n",
      " [0.         1.        ]\n",
      " [0.66666667 0.33333333]\n",
      " [0.66666667 0.33333333]\n",
      " [1.         0.        ]\n",
      " [0.33333333 0.66666667]\n",
      " [0.         1.        ]\n",
      " [1.         0.        ]\n",
      " [1.         0.        ]\n",
      " [1.         0.        ]\n",
      " [0.33333333 0.66666667]\n",
      " [1.         0.        ]\n",
      " [1.         0.        ]\n",
      " [0.         1.        ]\n",
      " [0.66666667 0.33333333]\n",
      " [0.33333333 0.66666667]\n",
      " [0.33333333 0.66666667]\n",
      " [0.33333333 0.66666667]\n",
      " [1.         0.        ]\n",
      " [0.66666667 0.33333333]\n",
      " [1.         0.        ]\n",
      " [0.33333333 0.66666667]\n",
      " [0.66666667 0.33333333]\n",
      " [0.66666667 0.33333333]\n",
      " [0.66666667 0.33333333]\n",
      " [0.66666667 0.33333333]\n",
      " [0.         1.        ]\n",
      " [0.66666667 0.33333333]\n",
      " [1.         0.        ]\n",
      " [0.66666667 0.33333333]\n",
      " [0.33333333 0.66666667]\n",
      " [0.33333333 0.66666667]\n",
      " [1.         0.        ]\n",
      " [1.         0.        ]\n",
      " [0.66666667 0.33333333]\n",
      " [0.33333333 0.66666667]\n",
      " [0.         1.        ]\n",
      " [0.66666667 0.33333333]\n",
      " [0.66666667 0.33333333]\n",
      " [0.66666667 0.33333333]\n",
      " [0.         1.        ]\n",
      " [0.66666667 0.33333333]\n",
      " [0.33333333 0.66666667]\n",
      " [0.66666667 0.33333333]\n",
      " [0.33333333 0.66666667]\n",
      " [1.         0.        ]\n",
      " [0.33333333 0.66666667]\n",
      " [1.         0.        ]\n",
      " [1.         0.        ]\n",
      " [0.33333333 0.66666667]\n",
      " [1.         0.        ]\n",
      " [0.66666667 0.33333333]\n",
      " [0.66666667 0.33333333]\n",
      " [0.33333333 0.66666667]\n",
      " [1.         0.        ]\n",
      " [0.66666667 0.33333333]\n",
      " [0.66666667 0.33333333]\n",
      " [0.66666667 0.33333333]\n",
      " [1.         0.        ]\n",
      " [0.66666667 0.33333333]\n",
      " [0.66666667 0.33333333]\n",
      " [0.33333333 0.66666667]\n",
      " [0.33333333 0.66666667]\n",
      " [0.66666667 0.33333333]\n",
      " [0.66666667 0.33333333]\n",
      " [0.33333333 0.66666667]\n",
      " [0.33333333 0.66666667]\n",
      " [0.66666667 0.33333333]\n",
      " [0.33333333 0.66666667]\n",
      " [0.33333333 0.66666667]\n",
      " [0.66666667 0.33333333]\n",
      " [0.66666667 0.33333333]\n",
      " [0.33333333 0.66666667]\n",
      " [1.         0.        ]\n",
      " [0.66666667 0.33333333]\n",
      " [0.66666667 0.33333333]\n",
      " [0.66666667 0.33333333]\n",
      " [0.66666667 0.33333333]\n",
      " [0.33333333 0.66666667]\n",
      " [0.33333333 0.66666667]\n",
      " [0.         1.        ]\n",
      " [0.66666667 0.33333333]\n",
      " [1.         0.        ]\n",
      " [1.         0.        ]\n",
      " [0.66666667 0.33333333]\n",
      " [0.33333333 0.66666667]\n",
      " [0.33333333 0.66666667]\n",
      " [0.33333333 0.66666667]\n",
      " [0.33333333 0.66666667]\n",
      " [0.66666667 0.33333333]\n",
      " [0.66666667 0.33333333]\n",
      " [0.33333333 0.66666667]\n",
      " [0.66666667 0.33333333]\n",
      " [0.66666667 0.33333333]\n",
      " [0.66666667 0.33333333]\n",
      " [0.33333333 0.66666667]\n",
      " [0.66666667 0.33333333]\n",
      " [1.         0.        ]\n",
      " [0.66666667 0.33333333]\n",
      " [1.         0.        ]\n",
      " [0.33333333 0.66666667]\n",
      " [0.66666667 0.33333333]\n",
      " [1.         0.        ]\n",
      " [1.         0.        ]\n",
      " [0.66666667 0.33333333]\n",
      " [0.66666667 0.33333333]\n",
      " [1.         0.        ]\n",
      " [0.33333333 0.66666667]\n",
      " [0.33333333 0.66666667]\n",
      " [0.33333333 0.66666667]\n",
      " [0.33333333 0.66666667]\n",
      " [0.66666667 0.33333333]\n",
      " [1.         0.        ]\n",
      " [0.33333333 0.66666667]\n",
      " [1.         0.        ]\n",
      " [0.66666667 0.33333333]\n",
      " [0.66666667 0.33333333]\n",
      " [0.33333333 0.66666667]\n",
      " [0.66666667 0.33333333]\n",
      " [1.         0.        ]\n",
      " [1.         0.        ]\n",
      " [0.66666667 0.33333333]\n",
      " [0.33333333 0.66666667]]\n"
     ]
    }
   ],
   "source": [
    "# tahmin olasıkları (predict_proba)\n",
    "# 0.5'in üstü ise o sınıf seçilir, ve yukarıda bir değerine sahip olan bunlardır\n",
    "\n",
    "y_predict_proba= neigh.predict_proba(X_test)\n",
    "print(y_predict_proba)"
   ]
  },
  {
   "cell_type": "code",
   "execution_count": 24,
   "id": "1c8578bd-dc8c-44d8-aa25-a8a29186d105",
   "metadata": {
    "tags": []
   },
   "outputs": [],
   "source": [
    "# tahmin kaletisi için F1 scoruna bakalım\n",
    "from sklearn.metrics import confusion_matrix, accuracy_score, f1_score"
   ]
  },
  {
   "cell_type": "code",
   "execution_count": 26,
   "id": "f95d799d-535e-4545-8937-32d40d623074",
   "metadata": {
    "tags": []
   },
   "outputs": [
    {
     "name": "stdout",
     "output_type": "stream",
     "text": [
      "[[80 25]\n",
      " [44 30]]\n"
     ]
    }
   ],
   "source": [
    "# önce confusion matrix, TP,TN,FP,FN\n",
    "\n",
    "conf_mat= confusion_matrix(y_test, y_pred)\n",
    "print(conf_mat)"
   ]
  },
  {
   "cell_type": "code",
   "execution_count": 27,
   "id": "964d401b-ddea-4503-8bce-a161b14a3d7a",
   "metadata": {
    "tags": []
   },
   "outputs": [
    {
     "name": "stdout",
     "output_type": "stream",
     "text": [
      "Skleanr Accuracy Score: 0.6145\n"
     ]
    }
   ],
   "source": [
    "#accuracy\n",
    "\n",
    "accuracy= accuracy_score(y_test,y_pred)\n",
    "print(\"Skleanr Accuracy Score: {:.4f}\".format(accuracy))"
   ]
  },
  {
   "cell_type": "code",
   "execution_count": 28,
   "id": "f943915d-5225-405e-b70d-c804c84819a5",
   "metadata": {
    "tags": []
   },
   "outputs": [
    {
     "name": "stdout",
     "output_type": "stream",
     "text": [
      "F1 Score %46.51\n"
     ]
    }
   ],
   "source": [
    "#f1 score\n",
    "\n",
    "f1= f1_score(y_test,y_pred)\n",
    "print(\"F1 Score %{:.2f}\".format(f1*100))"
   ]
  },
  {
   "cell_type": "markdown",
   "id": "0f4c2d97-3e48-40ff-b9e9-27d7303c992e",
   "metadata": {},
   "source": [
    "Şimdiye kadar, yeni herhangi bir şey yapmadık. Rasgele olarak K = 3 verdik ve bir sonuç elde ettik.\n",
    "\n",
    "\n",
    "**Hyperparameter Tuning ile Model Skor'u**"
   ]
  },
  {
   "cell_type": "code",
   "execution_count": 40,
   "id": "9469ce13-b61a-433a-9776-65c4bcbd3b58",
   "metadata": {
    "tags": []
   },
   "outputs": [],
   "source": [
    "# parametre nesnemizi oluşturalım\n",
    "\n",
    "parameters= {\n",
    "    \"n_neighbors\": [1,3,5,7,9,11,13]     \n",
    "}"
   ]
  },
  {
   "cell_type": "code",
   "execution_count": 41,
   "id": "551d5267-9e6e-44ea-87dd-fd1c9b9f0dc8",
   "metadata": {
    "tags": []
   },
   "outputs": [],
   "source": [
    "# GridSearchCV'yi oluşturalım\n",
    "\n",
    "gsc= GridSearchCV(estimator= KNeighborsClassifier(),\n",
    "                 param_grid= parameters,\n",
    "                 cv= 5,#veri  kümesini 5'e bölecek\n",
    "                 verbose= 1, #sonuç göster, 0=gösterme\n",
    "                 scoring= \"accuracy\")"
   ]
  },
  {
   "cell_type": "markdown",
   "id": "336f691b-ec66-4c73-956c-16c3ec94c478",
   "metadata": {},
   "source": [
    "GridSearchCV bizim verdiğimiz tüm parametre kombinasyonlarını deneyecek.\n",
    "\n",
    "En iyi sonucu elde ettiğinde, datayı tekrar 'fit' edecek ama bu sefer CV yapmayacak.\n",
    "\n",
    "Çünkü en iyi kombinasyonu zaten bulmuş olacak."
   ]
  },
  {
   "cell_type": "code",
   "execution_count": 42,
   "id": "a68d0feb-9723-4f08-9485-d83683c1e49a",
   "metadata": {
    "tags": []
   },
   "outputs": [
    {
     "name": "stdout",
     "output_type": "stream",
     "text": [
      "Fitting 5 folds for each of 7 candidates, totalling 35 fits\n"
     ]
    },
    {
     "data": {
      "text/html": [
       "<style>#sk-container-id-5 {color: black;}#sk-container-id-5 pre{padding: 0;}#sk-container-id-5 div.sk-toggleable {background-color: white;}#sk-container-id-5 label.sk-toggleable__label {cursor: pointer;display: block;width: 100%;margin-bottom: 0;padding: 0.3em;box-sizing: border-box;text-align: center;}#sk-container-id-5 label.sk-toggleable__label-arrow:before {content: \"▸\";float: left;margin-right: 0.25em;color: #696969;}#sk-container-id-5 label.sk-toggleable__label-arrow:hover:before {color: black;}#sk-container-id-5 div.sk-estimator:hover label.sk-toggleable__label-arrow:before {color: black;}#sk-container-id-5 div.sk-toggleable__content {max-height: 0;max-width: 0;overflow: hidden;text-align: left;background-color: #f0f8ff;}#sk-container-id-5 div.sk-toggleable__content pre {margin: 0.2em;color: black;border-radius: 0.25em;background-color: #f0f8ff;}#sk-container-id-5 input.sk-toggleable__control:checked~div.sk-toggleable__content {max-height: 200px;max-width: 100%;overflow: auto;}#sk-container-id-5 input.sk-toggleable__control:checked~label.sk-toggleable__label-arrow:before {content: \"▾\";}#sk-container-id-5 div.sk-estimator input.sk-toggleable__control:checked~label.sk-toggleable__label {background-color: #d4ebff;}#sk-container-id-5 div.sk-label input.sk-toggleable__control:checked~label.sk-toggleable__label {background-color: #d4ebff;}#sk-container-id-5 input.sk-hidden--visually {border: 0;clip: rect(1px 1px 1px 1px);clip: rect(1px, 1px, 1px, 1px);height: 1px;margin: -1px;overflow: hidden;padding: 0;position: absolute;width: 1px;}#sk-container-id-5 div.sk-estimator {font-family: monospace;background-color: #f0f8ff;border: 1px dotted black;border-radius: 0.25em;box-sizing: border-box;margin-bottom: 0.5em;}#sk-container-id-5 div.sk-estimator:hover {background-color: #d4ebff;}#sk-container-id-5 div.sk-parallel-item::after {content: \"\";width: 100%;border-bottom: 1px solid gray;flex-grow: 1;}#sk-container-id-5 div.sk-label:hover label.sk-toggleable__label {background-color: #d4ebff;}#sk-container-id-5 div.sk-serial::before {content: \"\";position: absolute;border-left: 1px solid gray;box-sizing: border-box;top: 0;bottom: 0;left: 50%;z-index: 0;}#sk-container-id-5 div.sk-serial {display: flex;flex-direction: column;align-items: center;background-color: white;padding-right: 0.2em;padding-left: 0.2em;position: relative;}#sk-container-id-5 div.sk-item {position: relative;z-index: 1;}#sk-container-id-5 div.sk-parallel {display: flex;align-items: stretch;justify-content: center;background-color: white;position: relative;}#sk-container-id-5 div.sk-item::before, #sk-container-id-5 div.sk-parallel-item::before {content: \"\";position: absolute;border-left: 1px solid gray;box-sizing: border-box;top: 0;bottom: 0;left: 50%;z-index: -1;}#sk-container-id-5 div.sk-parallel-item {display: flex;flex-direction: column;z-index: 1;position: relative;background-color: white;}#sk-container-id-5 div.sk-parallel-item:first-child::after {align-self: flex-end;width: 50%;}#sk-container-id-5 div.sk-parallel-item:last-child::after {align-self: flex-start;width: 50%;}#sk-container-id-5 div.sk-parallel-item:only-child::after {width: 0;}#sk-container-id-5 div.sk-dashed-wrapped {border: 1px dashed gray;margin: 0 0.4em 0.5em 0.4em;box-sizing: border-box;padding-bottom: 0.4em;background-color: white;}#sk-container-id-5 div.sk-label label {font-family: monospace;font-weight: bold;display: inline-block;line-height: 1.2em;}#sk-container-id-5 div.sk-label-container {text-align: center;}#sk-container-id-5 div.sk-container {/* jupyter's `normalize.less` sets `[hidden] { display: none; }` but bootstrap.min.css set `[hidden] { display: none !important; }` so we also need the `!important` here to be able to override the default hidden behavior on the sphinx rendered scikit-learn.org. See: https://github.com/scikit-learn/scikit-learn/issues/21755 */display: inline-block !important;position: relative;}#sk-container-id-5 div.sk-text-repr-fallback {display: none;}</style><div id=\"sk-container-id-5\" class=\"sk-top-container\"><div class=\"sk-text-repr-fallback\"><pre>GridSearchCV(cv=5, estimator=KNeighborsClassifier(),\n",
       "             param_grid={&#x27;n_neighbors&#x27;: [1, 3, 5, 7, 9, 11, 13]},\n",
       "             scoring=&#x27;accuracy&#x27;, verbose=1)</pre><b>In a Jupyter environment, please rerun this cell to show the HTML representation or trust the notebook. <br />On GitHub, the HTML representation is unable to render, please try loading this page with nbviewer.org.</b></div><div class=\"sk-container\" hidden><div class=\"sk-item sk-dashed-wrapped\"><div class=\"sk-label-container\"><div class=\"sk-label sk-toggleable\"><input class=\"sk-toggleable__control sk-hidden--visually\" id=\"sk-estimator-id-9\" type=\"checkbox\" ><label for=\"sk-estimator-id-9\" class=\"sk-toggleable__label sk-toggleable__label-arrow\">GridSearchCV</label><div class=\"sk-toggleable__content\"><pre>GridSearchCV(cv=5, estimator=KNeighborsClassifier(),\n",
       "             param_grid={&#x27;n_neighbors&#x27;: [1, 3, 5, 7, 9, 11, 13]},\n",
       "             scoring=&#x27;accuracy&#x27;, verbose=1)</pre></div></div></div><div class=\"sk-parallel\"><div class=\"sk-parallel-item\"><div class=\"sk-item\"><div class=\"sk-label-container\"><div class=\"sk-label sk-toggleable\"><input class=\"sk-toggleable__control sk-hidden--visually\" id=\"sk-estimator-id-10\" type=\"checkbox\" ><label for=\"sk-estimator-id-10\" class=\"sk-toggleable__label sk-toggleable__label-arrow\">estimator: KNeighborsClassifier</label><div class=\"sk-toggleable__content\"><pre>KNeighborsClassifier()</pre></div></div></div><div class=\"sk-serial\"><div class=\"sk-item\"><div class=\"sk-estimator sk-toggleable\"><input class=\"sk-toggleable__control sk-hidden--visually\" id=\"sk-estimator-id-11\" type=\"checkbox\" ><label for=\"sk-estimator-id-11\" class=\"sk-toggleable__label sk-toggleable__label-arrow\">KNeighborsClassifier</label><div class=\"sk-toggleable__content\"><pre>KNeighborsClassifier()</pre></div></div></div></div></div></div></div></div></div></div>"
      ],
      "text/plain": [
       "GridSearchCV(cv=5, estimator=KNeighborsClassifier(),\n",
       "             param_grid={'n_neighbors': [1, 3, 5, 7, 9, 11, 13]},\n",
       "             scoring='accuracy', verbose=1)"
      ]
     },
     "execution_count": 42,
     "metadata": {},
     "output_type": "execute_result"
    }
   ],
   "source": [
    "gsc.fit(X_train, y_train)"
   ]
  },
  {
   "cell_type": "code",
   "execution_count": 43,
   "id": "2e246faa-f0ae-4be2-89ff-be94a4cb4157",
   "metadata": {
    "tags": []
   },
   "outputs": [
    {
     "name": "stdout",
     "output_type": "stream",
     "text": [
      "En iyi hiperparametreler: {'n_neighbors': 13}\n",
      "En iyi score: 0.630522998128632\n"
     ]
    }
   ],
   "source": [
    "# Şimdi GridSearchCV'nin sonuçlarını gösterelim\n",
    "\n",
    "print(f\"En iyi hiperparametreler: {gsc.best_params_}\")\n",
    "print(f\"En iyi score: {gsc.best_score_}\")"
   ]
  },
  {
   "cell_type": "code",
   "execution_count": 46,
   "id": "924620ba-7c30-418b-8d73-177677509698",
   "metadata": {
    "tags": []
   },
   "outputs": [
    {
     "name": "stdout",
     "output_type": "stream",
     "text": [
      "Detaylı GridSearchCV sonucu:\n",
      "   mean_fit_time  std_fit_time  mean_score_time  std_score_time  \\\n",
      "6       0.006250      0.007655         0.013810        0.007352   \n",
      "5       0.006250      0.007655         0.013810        0.003643   \n",
      "2       0.003338      0.004107         0.016321        0.001018   \n",
      "4       0.003130      0.006259         0.015206        0.000840   \n",
      "1       0.003125      0.006250         0.018923        0.005447   \n",
      "3       0.004725      0.006270         0.014171        0.002917   \n",
      "0       0.005839      0.004137         0.016795        0.005329   \n",
      "\n",
      "  param_n_neighbors               params  split0_test_score  \\\n",
      "6                13  {'n_neighbors': 13}           0.671329   \n",
      "5                11  {'n_neighbors': 11}           0.671329   \n",
      "2                 5   {'n_neighbors': 5}           0.671329   \n",
      "4                 9   {'n_neighbors': 9}           0.657343   \n",
      "1                 3   {'n_neighbors': 3}           0.664336   \n",
      "3                 7   {'n_neighbors': 7}           0.650350   \n",
      "0                 1   {'n_neighbors': 1}           0.608392   \n",
      "\n",
      "   split1_test_score  split2_test_score  split3_test_score  split4_test_score  \\\n",
      "6           0.657343           0.598592           0.619718           0.605634   \n",
      "5           0.615385           0.619718           0.605634           0.633803   \n",
      "2           0.636364           0.577465           0.591549           0.619718   \n",
      "4           0.587413           0.633803           0.612676           0.591549   \n",
      "1           0.601399           0.563380           0.570423           0.647887   \n",
      "3           0.622378           0.605634           0.584507           0.556338   \n",
      "0           0.601399           0.549296           0.521127           0.612676   \n",
      "\n",
      "   mean_test_score  std_test_score  rank_test_score  \n",
      "6         0.630523        0.028776                1  \n",
      "5         0.629174        0.022944                2  \n",
      "2         0.619285        0.033222                3  \n",
      "4         0.616557        0.026271                4  \n",
      "1         0.609485        0.040498                5  \n",
      "3         0.603841        0.032063                6  \n",
      "0         0.578578        0.036689                7  \n"
     ]
    }
   ],
   "source": [
    "# Detaylı sonucu \n",
    "\n",
    "print(\"Detaylı GridSearchCV sonucu:\")\n",
    "gsc_result= pd.DataFrame(gsc.cv_results_).sort_values(\"mean_test_score\", ascending= False)\n",
    "#.sorttan sonrası: oluşturulan veri çerçevesini \"mean_test_score\" sütununa göre büyükten küçüğe sıralar. \n",
    "print(gsc_result)"
   ]
  },
  {
   "cell_type": "code",
   "execution_count": 47,
   "id": "7a34d444-3a6b-40d7-b40d-5efd633fa9a9",
   "metadata": {
    "tags": []
   },
   "outputs": [
    {
     "name": "stdout",
     "output_type": "stream",
     "text": [
      "  param_n_neighbors  mean_test_score  rank_test_score\n",
      "6                13         0.630523                1\n",
      "5                11         0.629174                2\n",
      "2                 5         0.619285                3\n",
      "4                 9         0.616557                4\n",
      "1                 3         0.609485                5\n",
      "3                 7         0.603841                6\n",
      "0                 1         0.578578                7\n"
     ]
    }
   ],
   "source": [
    "# biraz daha sade yazalım\n",
    "print(gsc_result[[\"param_n_neighbors\",'mean_test_score', 'rank_test_score']])"
   ]
  },
  {
   "cell_type": "markdown",
   "id": "d58f433f-a4fe-4a11-b0c3-1c706c6c052d",
   "metadata": {},
   "source": [
    "Burada görüldüğü gibi K için en iyi değerin 13 olduğunu söylüyor."
   ]
  },
  {
   "cell_type": "code",
   "execution_count": 49,
   "id": "2ddce33c-030c-4d62-af21-5de3087a0f44",
   "metadata": {
    "tags": []
   },
   "outputs": [
    {
     "name": "stdout",
     "output_type": "stream",
     "text": [
      "Dinal Accuracy Score: 0.6425\n",
      "F1 Score: %42.86\n"
     ]
    }
   ],
   "source": [
    "# En iyi hyperparameter değeri olan K = 13 için 1 kere çalıştıralım\n",
    "#Sağlama\n",
    "\n",
    "neigh_final= KNeighborsClassifier(n_neighbors=13)\n",
    "neigh_final.fit(X_train, y_train)\n",
    "y_pred_final= neigh_final.predict(X_test)\n",
    "\n",
    "accuracy_final= accuracy_score(y_test, y_pred_final)\n",
    "print(\"Dinal Accuracy Score: {:.4f}\".format(accuracy_final))\n",
    "\n",
    "f1_final= f1_score(y_test, y_pred_final)\n",
    "print(\"F1 Score: %{:.2f}\".format(f1_final*100))"
   ]
  },
  {
   "cell_type": "code",
   "execution_count": 52,
   "id": "122aef52-3e03-4306-9a85-d1327ed5efd5",
   "metadata": {
    "tags": []
   },
   "outputs": [
    {
     "data": {
      "text/plain": [
       "0.6333694474539545"
      ]
     },
     "execution_count": 52,
     "metadata": {},
     "output_type": "execute_result"
    }
   ],
   "source": [
    "# 5 kere çalışsın \n",
    "# 5 kere çalışınca bulacağımız ortala accuracy değeri, GridSearchCV'nin verdiğine yakın olacaktır\n",
    "# StratifiedKFold yaplım -> 5 fold için\n",
    "\n",
    "from sklearn.model_selection import StratifiedKFold, cross_val_score\n",
    "kf = StratifiedKFold(n_splits=5, shuffle=True, random_state=42)\n",
    "score = cross_val_score(KNeighborsClassifier(), X_train, y_train, cv= kf, scoring=\"accuracy\")\n",
    "score.mean() #5 kere çalışmanın ortu"
   ]
  },
  {
   "cell_type": "markdown",
   "id": "fddf2988-ff50-4adc-aeb8-2458996b380d",
   "metadata": {},
   "source": [
    "K=13 için;\n",
    "* GridSearchCV'nin verdiği ortalama Accuracy değeri   -> 0.630523\n",
    "* StratifiedKFold'ün verdiği ortalama Accuracy değeri -> 0.633369"
   ]
  },
  {
   "cell_type": "markdown",
   "id": "d1b65ec7-1da1-44e4-88d9-eae038262a79",
   "metadata": {},
   "source": [
    "**Random Search ile Aynı İşlemler**"
   ]
  },
  {
   "cell_type": "code",
   "execution_count": 57,
   "id": "53110c40-61b7-4f13-aa45-cfe93a1a7a0a",
   "metadata": {
    "tags": []
   },
   "outputs": [],
   "source": [
    "# GridSearchCV'yi oluşturalım\n",
    "# n_iter -> kaç adet parametre alacak\n",
    "\"\"\"GridSearch 35 deneme yapıyordu  RandomSearc ise n_iter=3 ile rastgele \n",
    "seçeceği 3 aday sayesinde yine 5 parçaya büölmesine rağman 15 deneme yapmış\n",
    "olacak. Ve yine K=13 olarak anı sonucu buldu\"\"\"\n",
    "\n",
    "rsc= RandomizedSearchCV(estimator= KNeighborsClassifier(),\n",
    "                       param_distributions= parameters,\n",
    "                       cv=5,\n",
    "                       n_iter=3,\n",
    "                       verbose=1,\n",
    "                       scoring= \"accuracy\")"
   ]
  },
  {
   "cell_type": "code",
   "execution_count": 58,
   "id": "2b475271-c78d-4c78-8384-6751b0594791",
   "metadata": {
    "tags": []
   },
   "outputs": [
    {
     "name": "stdout",
     "output_type": "stream",
     "text": [
      "Fitting 5 folds for each of 3 candidates, totalling 15 fits\n"
     ]
    },
    {
     "data": {
      "text/html": [
       "<style>#sk-container-id-7 {color: black;}#sk-container-id-7 pre{padding: 0;}#sk-container-id-7 div.sk-toggleable {background-color: white;}#sk-container-id-7 label.sk-toggleable__label {cursor: pointer;display: block;width: 100%;margin-bottom: 0;padding: 0.3em;box-sizing: border-box;text-align: center;}#sk-container-id-7 label.sk-toggleable__label-arrow:before {content: \"▸\";float: left;margin-right: 0.25em;color: #696969;}#sk-container-id-7 label.sk-toggleable__label-arrow:hover:before {color: black;}#sk-container-id-7 div.sk-estimator:hover label.sk-toggleable__label-arrow:before {color: black;}#sk-container-id-7 div.sk-toggleable__content {max-height: 0;max-width: 0;overflow: hidden;text-align: left;background-color: #f0f8ff;}#sk-container-id-7 div.sk-toggleable__content pre {margin: 0.2em;color: black;border-radius: 0.25em;background-color: #f0f8ff;}#sk-container-id-7 input.sk-toggleable__control:checked~div.sk-toggleable__content {max-height: 200px;max-width: 100%;overflow: auto;}#sk-container-id-7 input.sk-toggleable__control:checked~label.sk-toggleable__label-arrow:before {content: \"▾\";}#sk-container-id-7 div.sk-estimator input.sk-toggleable__control:checked~label.sk-toggleable__label {background-color: #d4ebff;}#sk-container-id-7 div.sk-label input.sk-toggleable__control:checked~label.sk-toggleable__label {background-color: #d4ebff;}#sk-container-id-7 input.sk-hidden--visually {border: 0;clip: rect(1px 1px 1px 1px);clip: rect(1px, 1px, 1px, 1px);height: 1px;margin: -1px;overflow: hidden;padding: 0;position: absolute;width: 1px;}#sk-container-id-7 div.sk-estimator {font-family: monospace;background-color: #f0f8ff;border: 1px dotted black;border-radius: 0.25em;box-sizing: border-box;margin-bottom: 0.5em;}#sk-container-id-7 div.sk-estimator:hover {background-color: #d4ebff;}#sk-container-id-7 div.sk-parallel-item::after {content: \"\";width: 100%;border-bottom: 1px solid gray;flex-grow: 1;}#sk-container-id-7 div.sk-label:hover label.sk-toggleable__label {background-color: #d4ebff;}#sk-container-id-7 div.sk-serial::before {content: \"\";position: absolute;border-left: 1px solid gray;box-sizing: border-box;top: 0;bottom: 0;left: 50%;z-index: 0;}#sk-container-id-7 div.sk-serial {display: flex;flex-direction: column;align-items: center;background-color: white;padding-right: 0.2em;padding-left: 0.2em;position: relative;}#sk-container-id-7 div.sk-item {position: relative;z-index: 1;}#sk-container-id-7 div.sk-parallel {display: flex;align-items: stretch;justify-content: center;background-color: white;position: relative;}#sk-container-id-7 div.sk-item::before, #sk-container-id-7 div.sk-parallel-item::before {content: \"\";position: absolute;border-left: 1px solid gray;box-sizing: border-box;top: 0;bottom: 0;left: 50%;z-index: -1;}#sk-container-id-7 div.sk-parallel-item {display: flex;flex-direction: column;z-index: 1;position: relative;background-color: white;}#sk-container-id-7 div.sk-parallel-item:first-child::after {align-self: flex-end;width: 50%;}#sk-container-id-7 div.sk-parallel-item:last-child::after {align-self: flex-start;width: 50%;}#sk-container-id-7 div.sk-parallel-item:only-child::after {width: 0;}#sk-container-id-7 div.sk-dashed-wrapped {border: 1px dashed gray;margin: 0 0.4em 0.5em 0.4em;box-sizing: border-box;padding-bottom: 0.4em;background-color: white;}#sk-container-id-7 div.sk-label label {font-family: monospace;font-weight: bold;display: inline-block;line-height: 1.2em;}#sk-container-id-7 div.sk-label-container {text-align: center;}#sk-container-id-7 div.sk-container {/* jupyter's `normalize.less` sets `[hidden] { display: none; }` but bootstrap.min.css set `[hidden] { display: none !important; }` so we also need the `!important` here to be able to override the default hidden behavior on the sphinx rendered scikit-learn.org. See: https://github.com/scikit-learn/scikit-learn/issues/21755 */display: inline-block !important;position: relative;}#sk-container-id-7 div.sk-text-repr-fallback {display: none;}</style><div id=\"sk-container-id-7\" class=\"sk-top-container\"><div class=\"sk-text-repr-fallback\"><pre>RandomizedSearchCV(cv=5, estimator=KNeighborsClassifier(), n_iter=3,\n",
       "                   param_distributions={&#x27;n_neighbors&#x27;: [1, 3, 5, 7, 9, 11, 13]},\n",
       "                   scoring=&#x27;accuracy&#x27;, verbose=1)</pre><b>In a Jupyter environment, please rerun this cell to show the HTML representation or trust the notebook. <br />On GitHub, the HTML representation is unable to render, please try loading this page with nbviewer.org.</b></div><div class=\"sk-container\" hidden><div class=\"sk-item sk-dashed-wrapped\"><div class=\"sk-label-container\"><div class=\"sk-label sk-toggleable\"><input class=\"sk-toggleable__control sk-hidden--visually\" id=\"sk-estimator-id-15\" type=\"checkbox\" ><label for=\"sk-estimator-id-15\" class=\"sk-toggleable__label sk-toggleable__label-arrow\">RandomizedSearchCV</label><div class=\"sk-toggleable__content\"><pre>RandomizedSearchCV(cv=5, estimator=KNeighborsClassifier(), n_iter=3,\n",
       "                   param_distributions={&#x27;n_neighbors&#x27;: [1, 3, 5, 7, 9, 11, 13]},\n",
       "                   scoring=&#x27;accuracy&#x27;, verbose=1)</pre></div></div></div><div class=\"sk-parallel\"><div class=\"sk-parallel-item\"><div class=\"sk-item\"><div class=\"sk-label-container\"><div class=\"sk-label sk-toggleable\"><input class=\"sk-toggleable__control sk-hidden--visually\" id=\"sk-estimator-id-16\" type=\"checkbox\" ><label for=\"sk-estimator-id-16\" class=\"sk-toggleable__label sk-toggleable__label-arrow\">estimator: KNeighborsClassifier</label><div class=\"sk-toggleable__content\"><pre>KNeighborsClassifier()</pre></div></div></div><div class=\"sk-serial\"><div class=\"sk-item\"><div class=\"sk-estimator sk-toggleable\"><input class=\"sk-toggleable__control sk-hidden--visually\" id=\"sk-estimator-id-17\" type=\"checkbox\" ><label for=\"sk-estimator-id-17\" class=\"sk-toggleable__label sk-toggleable__label-arrow\">KNeighborsClassifier</label><div class=\"sk-toggleable__content\"><pre>KNeighborsClassifier()</pre></div></div></div></div></div></div></div></div></div></div>"
      ],
      "text/plain": [
       "RandomizedSearchCV(cv=5, estimator=KNeighborsClassifier(), n_iter=3,\n",
       "                   param_distributions={'n_neighbors': [1, 3, 5, 7, 9, 11, 13]},\n",
       "                   scoring='accuracy', verbose=1)"
      ]
     },
     "execution_count": 58,
     "metadata": {},
     "output_type": "execute_result"
    }
   ],
   "source": [
    "# şimdi çalıştıralım\n",
    "rsc.fit(X_train, y_train)"
   ]
  },
  {
   "cell_type": "code",
   "execution_count": 59,
   "id": "d12b5d35-ff31-434a-8b95-f903e07ff945",
   "metadata": {
    "tags": []
   },
   "outputs": [
    {
     "name": "stdout",
     "output_type": "stream",
     "text": [
      "En iyi Hyperparameterlar: {'n_neighbors': 5}\n",
      "En iyi score: 0.619284940411701\n"
     ]
    }
   ],
   "source": [
    "# Şimdi RandomizedSearchCV'nin sonuçlarını gösterelim\n",
    "\n",
    "print(f'En iyi Hyperparameterlar: {rsc.best_params_}') \n",
    "print(f'En iyi score: {rsc.best_score_}')"
   ]
  },
  {
   "cell_type": "markdown",
   "id": "345b06f2-95c2-48c0-920d-40730e0fb836",
   "metadata": {},
   "source": [
    "**Sonuç:**\n",
    "\n",
    "Gördüğünüz gibi, GridSearchCV ve RandomizedSearchCV yöntemleri bize en iyi Hyperparametre değerlerini bulmamızda yardım ettiler.\n",
    "\n",
    "Büyük veri kümelerinde RandomizedSearchCV yöntemi, maliyet açısından tercih edilir.\n",
    "\n",
    "\n",
    "\n",
    "\n",
    "\n",
    "\n",
    "\n",
    "\n",
    "\n",
    "\n"
   ]
  },
  {
   "cell_type": "code",
   "execution_count": null,
   "id": "6d748d52-0b76-4ff8-8c6a-d3f3bda63692",
   "metadata": {},
   "outputs": [],
   "source": []
  }
 ],
 "metadata": {
  "kernelspec": {
   "display_name": "Python 3 (ipykernel)",
   "language": "python",
   "name": "python3"
  },
  "language_info": {
   "codemirror_mode": {
    "name": "ipython",
    "version": 3
   },
   "file_extension": ".py",
   "mimetype": "text/x-python",
   "name": "python",
   "nbconvert_exporter": "python",
   "pygments_lexer": "ipython3",
   "version": "3.10.9"
  }
 },
 "nbformat": 4,
 "nbformat_minor": 5
}

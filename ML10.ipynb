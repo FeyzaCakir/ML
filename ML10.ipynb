{
 "cells": [
  {
   "cell_type": "markdown",
   "id": "fc6be042-c6e7-4222-9efd-11ebfc3ffaf2",
   "metadata": {},
   "source": [
    " **KNN Algoritmasının (uzun yoldan) Scikit-Learn Olmadan Yapılması:**"
   ]
  },
  {
   "cell_type": "code",
   "execution_count": 3,
   "id": "aeb2f01e-cd9a-4f6e-84ef-9a89231bc027",
   "metadata": {
    "tags": []
   },
   "outputs": [],
   "source": [
    "import pandas as pd\n",
    "import numpy as np\n",
    "import matplotlib.pyplot  as plt"
   ]
  },
  {
   "cell_type": "code",
   "execution_count": 4,
   "id": "d7787a55-f73f-4ba2-bf7f-7aa575149d6c",
   "metadata": {
    "tags": []
   },
   "outputs": [],
   "source": [
    "#veri oluşturan fonksiyon\n",
    "def veri_olustur():\n",
    "    \n",
    "    #bir dizi oluşturup içine x,y sıralı değerler yazıyoruz\n",
    "    features= np.array(\n",
    "        [[2.88, 3.05], [3.1, 2.45], [3.05, 2.8], [2.9, 2.7], [2.75, 3.4],\n",
    "         [3.23, 2.9], [3.2, 3.75], [3.5, 2.9], [3.65, 3.6],[3.35, 3.3]])\n",
    "    \n",
    "    #burada ilk beşini A classı, kalan beşini ise B classı olarak adlandırıyoruz\n",
    "    labels=['A','A', 'A', 'A', 'A', 'B', 'B', 'B', 'B', 'B']\n",
    "    \n",
    "    return features, labels"
   ]
  },
  {
   "cell_type": "code",
   "execution_count": 5,
   "id": "0f5a2192-bc1b-4868-a9e1-c787a63f7e2a",
   "metadata": {
    "tags": []
   },
   "outputs": [],
   "source": [
    "#fonksiyonu çağırıp veriyi oluşturuyoruz\n",
    "\n",
    "features, labels= veri_olustur()"
   ]
  },
  {
   "cell_type": "code",
   "execution_count": 6,
   "id": "47c1d717-11b9-4e43-81c9-cb5a5ba964e0",
   "metadata": {
    "tags": []
   },
   "outputs": [
    {
     "name": "stdout",
     "output_type": "stream",
     "text": [
      "features:\n",
      " [[2.88 3.05]\n",
      " [3.1  2.45]\n",
      " [3.05 2.8 ]\n",
      " [2.9  2.7 ]\n",
      " [2.75 3.4 ]\n",
      " [3.23 2.9 ]\n",
      " [3.2  3.75]\n",
      " [3.5  2.9 ]\n",
      " [3.65 3.6 ]\n",
      " [3.35 3.3 ]]\n"
     ]
    }
   ],
   "source": [
    "print(\"features:\\n\", features)"
   ]
  },
  {
   "cell_type": "code",
   "execution_count": 7,
   "id": "29b4e607-27eb-49b7-bfe9-fbf1f2618dca",
   "metadata": {
    "tags": []
   },
   "outputs": [
    {
     "name": "stdout",
     "output_type": "stream",
     "text": [
      "labels:\n",
      " ['A', 'A', 'A', 'A', 'A', 'B', 'B', 'B', 'B', 'B']\n"
     ]
    }
   ],
   "source": [
    "print(\"labels:\\n\", labels)"
   ]
  },
  {
   "cell_type": "code",
   "execution_count": 8,
   "id": "259e2214-fbdd-41ad-9627-e08229337bc0",
   "metadata": {
    "tags": []
   },
   "outputs": [
    {
     "data": {
      "text/plain": [
       "array([3.1 , 2.45])"
      ]
     },
     "execution_count": 8,
     "metadata": {},
     "output_type": "execute_result"
    }
   ],
   "source": [
    "#burada oluşturduğumuz listenin elemanlarını görüntüleyebiliriz\n",
    "features[1]"
   ]
  },
  {
   "cell_type": "code",
   "execution_count": 9,
   "id": "fd0e7446-d083-48c7-8084-747f34e30869",
   "metadata": {
    "tags": []
   },
   "outputs": [
    {
     "data": {
      "text/html": [
       "<div>\n",
       "<style scoped>\n",
       "    .dataframe tbody tr th:only-of-type {\n",
       "        vertical-align: middle;\n",
       "    }\n",
       "\n",
       "    .dataframe tbody tr th {\n",
       "        vertical-align: top;\n",
       "    }\n",
       "\n",
       "    .dataframe thead th {\n",
       "        text-align: right;\n",
       "    }\n",
       "</style>\n",
       "<table border=\"1\" class=\"dataframe\">\n",
       "  <thead>\n",
       "    <tr style=\"text-align: right;\">\n",
       "      <th></th>\n",
       "      <th>0</th>\n",
       "      <th>1</th>\n",
       "    </tr>\n",
       "  </thead>\n",
       "  <tbody>\n",
       "    <tr>\n",
       "      <th>0</th>\n",
       "      <td>2.88</td>\n",
       "      <td>3.05</td>\n",
       "    </tr>\n",
       "    <tr>\n",
       "      <th>1</th>\n",
       "      <td>3.10</td>\n",
       "      <td>2.45</td>\n",
       "    </tr>\n",
       "    <tr>\n",
       "      <th>2</th>\n",
       "      <td>3.05</td>\n",
       "      <td>2.80</td>\n",
       "    </tr>\n",
       "    <tr>\n",
       "      <th>3</th>\n",
       "      <td>2.90</td>\n",
       "      <td>2.70</td>\n",
       "    </tr>\n",
       "    <tr>\n",
       "      <th>4</th>\n",
       "      <td>2.75</td>\n",
       "      <td>3.40</td>\n",
       "    </tr>\n",
       "    <tr>\n",
       "      <th>5</th>\n",
       "      <td>3.23</td>\n",
       "      <td>2.90</td>\n",
       "    </tr>\n",
       "    <tr>\n",
       "      <th>6</th>\n",
       "      <td>3.20</td>\n",
       "      <td>3.75</td>\n",
       "    </tr>\n",
       "    <tr>\n",
       "      <th>7</th>\n",
       "      <td>3.50</td>\n",
       "      <td>2.90</td>\n",
       "    </tr>\n",
       "    <tr>\n",
       "      <th>8</th>\n",
       "      <td>3.65</td>\n",
       "      <td>3.60</td>\n",
       "    </tr>\n",
       "    <tr>\n",
       "      <th>9</th>\n",
       "      <td>3.35</td>\n",
       "      <td>3.30</td>\n",
       "    </tr>\n",
       "  </tbody>\n",
       "</table>\n",
       "</div>"
      ],
      "text/plain": [
       "      0     1\n",
       "0  2.88  3.05\n",
       "1  3.10  2.45\n",
       "2  3.05  2.80\n",
       "3  2.90  2.70\n",
       "4  2.75  3.40\n",
       "5  3.23  2.90\n",
       "6  3.20  3.75\n",
       "7  3.50  2.90\n",
       "8  3.65  3.60\n",
       "9  3.35  3.30"
      ]
     },
     "execution_count": 9,
     "metadata": {},
     "output_type": "execute_result"
    }
   ],
   "source": [
    "#şimdi veriyi df olarak görelim:\n",
    "\n",
    "x_df= pd.DataFrame(features)\n",
    "x_df"
   ]
  },
  {
   "cell_type": "code",
   "execution_count": 10,
   "id": "e8851fbd-4a31-485c-a2be-673b2e41ee32",
   "metadata": {
    "tags": []
   },
   "outputs": [
    {
     "name": "stdout",
     "output_type": "stream",
     "text": [
      "2.88\n",
      "3.1\n",
      "3.05\n",
      "2.9\n",
      "2.75\n",
      "3.23\n",
      "3.2\n",
      "3.5\n",
      "3.65\n",
      "3.35\n"
     ]
    }
   ],
   "source": [
    "#verideki her bir noktayı görme\n",
    "for point in x_df[0]:#x_df[0]-->1. sütun, x_df[1]-->2.sütun\n",
    "    print(point)"
   ]
  },
  {
   "cell_type": "code",
   "execution_count": 11,
   "id": "aca34490-598d-40e8-a14f-15d8a9207d00",
   "metadata": {
    "tags": []
   },
   "outputs": [
    {
     "data": {
      "image/png": "[encoded data removed]",
      "text/plain": [
       "<Figure size 500x500 with 1 Axes>"
      ]
     },
     "metadata": {},
     "output_type": "display_data"
    }
   ],
   "source": [
    "# Class'ları renkli olarak grafikte görelim\n",
    "\n",
    "plt.figure(figsize=(5,5))\n",
    "#eksenlerin başlama ve bitiş değerleri:\n",
    "plt.xlim((2.4, 3.8))\n",
    "plt.ylim((2.4, 3.8))\n",
    "\n",
    "#.iloc[], veri çerçevesi içindeki belirli satır ve sütunları seçmek için kullanılır \n",
    "#burada :5 ifadesi ilk 5 elemanı, 0 ve 1 ise (x,y) indexler, anlamına geliyor yani ilk satırın xi ve karşılığı\n",
    "\n",
    "plt.scatter(x_df.iloc[:5,0], x_df.iloc[:5,1], c=\"b\") #ilk 5 eleman A ve mavi renk\n",
    "plt.scatter(x_df.iloc[5:,0], x_df.iloc[5:,1], c=\"g\") #5ten sonraki elemanlar B ve yeşil renkte\n",
    "\n",
    "# tahmin etmek istediğimiz nokta: [3.18，3.15]\n",
    "plt.scatter([3.18],[3.15], c='r', marker=\"x\")\n",
    "\n",
    "plt.show()"
   ]
  },
  {
   "cell_type": "markdown",
   "id": "e5212d2d-b9c6-42be-9255-87c549096cf4",
   "metadata": {},
   "source": [
    "**Mesafeleri  Hesaplama**\n",
    "İki türlü yapılabilir: Manhattan Distance ve Euclidean Distance\n",
    "\n",
    "Manhattan Distance: İki nokta arasındaki dik mesafeleri (90 derecelik dönüş) hesaplar.\n",
    "$$d_{man}=\\sum_{i=1}^{N}\\left | X_{i}-Y_{i} \\right |$$\n",
    "\n",
    "Euclidean Distance: İki nokta arasındaki en kısa mesafeyi (Öklid uzaklığı) hesaplar.\n",
    "$$d_{euc}= \\sqrt{\\sum_{i=1}^{N}(X_{i}-Y_{i})^{2}}$$"
   ]
  },
  {
   "cell_type": "code",
   "execution_count": 12,
   "id": "7d17d186-6a53-4025-9e29-7795750ca2cd",
   "metadata": {
    "tags": []
   },
   "outputs": [],
   "source": [
    "def manhattan(x,y):\n",
    "    \n",
    "    #mesafeyi hesaplayalım\n",
    "    d= np.sum(np.abs(x-y)) #formül\n",
    "    return d"
   ]
  },
  {
   "cell_type": "code",
   "execution_count": 13,
   "id": "19d8110d-b684-432c-aac1-ccb67b3eaf18",
   "metadata": {
    "tags": []
   },
   "outputs": [
    {
     "name": "stdout",
     "output_type": "stream",
     "text": [
      "x: [3 5]\n",
      "y: [6 9]\n",
      "7\n"
     ]
    }
   ],
   "source": [
    "#Koordinat düzleminde x ve y noktaları oluşturup onlar arasındaki mesafeyi hesaplıyoruz\n",
    "\n",
    "x=np.array([3,5])\n",
    "print(\"x:\", x)\n",
    "\n",
    "y=np.array([6,9])\n",
    "print(\"y:\", y)\n",
    "\n",
    "#mesafe:\n",
    "d_man= manhattan(x,y)\n",
    "print(d_man)"
   ]
  },
  {
   "cell_type": "code",
   "execution_count": 14,
   "id": "7e8129f0-76ee-4c1c-b76a-d57aacd664f7",
   "metadata": {
    "tags": []
   },
   "outputs": [],
   "source": [
    "def euclidean(x,y):\n",
    "    d=np.sqrt(np.sum(np.square(x - y))) #formül\n",
    "    return d"
   ]
  },
  {
   "cell_type": "code",
   "execution_count": 15,
   "id": "280c2583-a610-461d-8f36-5b4e7f901167",
   "metadata": {
    "tags": []
   },
   "outputs": [
    {
     "name": "stdout",
     "output_type": "stream",
     "text": [
      "x: [3 5]\n",
      "y: [6 9]\n",
      "5.0\n"
     ]
    }
   ],
   "source": [
    "#x ve y noktalarını oluşturacağız\n",
    "\n",
    "x=np.array([3,5])\n",
    "print(\"x:\", x)\n",
    "\n",
    "y=np.array([6,9])\n",
    "print(\"y:\", y)\n",
    "\n",
    "#mesafe:\n",
    "d_euc= euclidean(x,y)\n",
    "print(d_euc)"
   ]
  },
  {
   "cell_type": "markdown",
   "id": "5ecb3efa-3134-49ba-9b6f-3fad6533dceb",
   "metadata": {},
   "source": [
    "**Karar Verme**"
   ]
  },
  {
   "cell_type": "code",
   "execution_count": 16,
   "id": "c4ee30f5-5627-4625-8b4f-cb3367dc44a6",
   "metadata": {
    "tags": []
   },
   "outputs": [],
   "source": [
    "#Çoğunluk yöntemi, Çoğunluk sıralması yapan fonksiyon\n",
    "#veri setindeki sınıfların sayısını hesaplayan ve en fazla sayıda bulunan sınıfı öne çıkaran bir \"çoğunluk yöntemi\" uygulama\n",
    "\n",
    "import operator #farklı işlevleri  yerine getirmek için kullanılır, burada itemgetter için\n",
    "\n",
    "def cogunluk_yontem(class_count):\n",
    "    sotred_class_count= sorted(class_count.items(),\n",
    "                              key=operator.itemgetter(1),\n",
    "                              reverse=True)\n",
    "    #itemgetter=bir sözlüğü veya başka bir veri yapısını alır, bu veri yapısındaki öğeleri belirli bir anahtara (key) göre sıralar ve sıralanmış öğeleri bir liste olarak döndürür.\n",
    "    \"\"\" key=operator.itemgetter(1) ifadesi, bu öğelerin sıralanmasında kullanılacak anahtarın, yani öğe değerinin (value) 1. indeksi olduğunu belirtir. \n",
    "    Son olarak, reverse=True ile büyükten küçüğe doğru ters sıralama yapılır. \"\"\"\n",
    "    return sotred_class_count"
   ]
  },
  {
   "cell_type": "code",
   "execution_count": 17,
   "id": "2744c50f-993c-48f0-9402-0f8693c7df9c",
   "metadata": {
    "tags": []
   },
   "outputs": [
    {
     "data": {
      "text/plain": [
       "[('C', 6), ('D', 5), ('A', 3), ('B', 2)]"
      ]
     },
     "execution_count": 17,
     "metadata": {},
     "output_type": "execute_result"
    }
   ],
   "source": [
    "#bir dictionary tanımlayalım\n",
    "arr= {'A': 3, 'B': 2, \"C\": 6, \"D\": 5}#burada 4 sınıf ve kaç yane oldukları yazıyor\n",
    "\n",
    "#oluşturduğumuz fonksiyonu kullanarak sınıfların sayısını büyükten küçüğe yazalım\n",
    "cogunluk_yontem(arr)"
   ]
  },
  {
   "cell_type": "markdown",
   "id": "04877330-1689-44e4-b2b2-0798617ea9da",
   "metadata": {},
   "source": [
    "**KNN Uygulama**"
   ]
  },
  {
   "cell_type": "code",
   "execution_count": 18,
   "id": "e41185db-5fd6-4117-94d1-10d05df2e4c3",
   "metadata": {
    "tags": []
   },
   "outputs": [],
   "source": [
    "def knn(test_data, train_data, labels, k):\n",
    "    \n",
    "   # Mesafeler için boş bir list oluşturalım\n",
    "    distances= np.array([])\n",
    "    \n",
    "    #Euclidean ile mesafe hesabı\n",
    "    \"\"\"train data bizim bildiğimi noltalar ve biz her birinin bilinmeyen \n",
    "    noktaya olan uzaklığını hesaplayacağız. Bu da each (her bir) datadır.\n",
    "    Knnde her zaman elimizde bütün data vardır buna train data diyeceğiz\n",
    "    test data ise bulmaya çalıştığımız nokta olacak. Test_datanıjn \n",
    "    kordinatlarını verip çıktı olarak each_data bulacağız yani çıktı iki \n",
    "    sınıftaan biri olacak bu yüzden test_data x diğeri y oluyor.\"\"\"\n",
    "    for each_data in train_data:\n",
    "        d= euclidean(test_data, each_data)\n",
    "        #sonra bulduğumuz mesafeyi(d) mesafeler listesine ekliyoruz\n",
    "        distances=np.append(distances, d)\n",
    "    \n",
    "    # Mesafeleri sırala ve sıralı indexleri al\n",
    "    sorted_distance_index= distances.argsort() #küçükten büyüğe sıralama\n",
    "    sorted_distance =np.sort(distances)\n",
    "    \n",
    "    # Yarıçapı hesapla (k-1 indexli eleman son elemandır)\n",
    "    r= (sorted_distance[k]+sorted_distance[k-1])/2\n",
    "    \"\"\"k=3 diyelim ysni 3 adet nokta var indexleri ise 0,1,2 şeklindedir.\n",
    "    k-1 ise 2 yapar ve son elemanı temsil eder\"\"\"\n",
    "    \n",
    "    class_count= {} #çoğunluk olan classı tutacak\n",
    "    \n",
    "    #Çoğunluk Yöntemi\n",
    "    for i in range(k):\n",
    "        vote_label= labels[sorted_distance_index[i]] #komşunun etiketini alır\n",
    "        class_count[vote_label]= class_count.get(vote_label, 0) +1 \n",
    "        \"\"\"hangi sınıftan kaç tane olduğunu tutan class_count'un içine etiketleri koyar.\n",
    "        Değerler 0dan başlar ve eklendikçe artar.\"\"\"\n",
    "        \n",
    "    # sınıf değeri yani seçilen class (label)\n",
    "    final_label= cogunluk_yontem(class_count)\n",
    "    \n",
    "    return final_label, r"
   ]
  },
  {
   "cell_type": "markdown",
   "id": "c48870dd-f440-44f2-9d05-7adda6a48d5b",
   "metadata": {},
   "source": [
    "**Sınıflandırma Tahmini**"
   ]
  },
  {
   "cell_type": "code",
   "execution_count": 19,
   "id": "f647437b-2aa4-432b-abeb-8a2c9b6f3b1b",
   "metadata": {
    "tags": []
   },
   "outputs": [],
   "source": [
    "# tahmin noktamız bizim test datamız olacak\n",
    "test_data = np.array([3.18,3.15])\n",
    "\n",
    "# knn() fonksiyonunu çağıralım k = 5 için\n",
    "final_label, r= knn(test_data, features, labels, 5)"
   ]
  },
  {
   "cell_type": "code",
   "execution_count": 20,
   "id": "c75656b8-cc88-418c-9765-07e6ecc64321",
   "metadata": {
    "tags": []
   },
   "outputs": [
    {
     "name": "stdout",
     "output_type": "stream",
     "text": [
      "[('B', 3), ('A', 2)]\n"
     ]
    }
   ],
   "source": [
    "print(final_label)"
   ]
  },
  {
   "cell_type": "code",
   "execution_count": 21,
   "id": "6820951a-9c07-4cb5-9629-c338d1750416",
   "metadata": {
    "tags": []
   },
   "outputs": [
    {
     "name": "stdout",
     "output_type": "stream",
     "text": [
      "0.4517360073513873\n"
     ]
    }
   ],
   "source": [
    "print(r)"
   ]
  },
  {
   "cell_type": "markdown",
   "id": "449fbc28-1a49-473f-88fb-b696b1e328ef",
   "metadata": {},
   "source": [
    "**Sonuç Görselleştirme**"
   ]
  },
  {
   "cell_type": "code",
   "execution_count": 22,
   "id": "29c6ec34-6b1e-4b78-85bf-4684cd9a0230",
   "metadata": {
    "tags": []
   },
   "outputs": [],
   "source": [
    "# K = 5 için elde ettiğimiz yarıçap (r) için bir çember çizelim\n",
    "\n",
    "# Polar coordinates：a=x=r*cosθ，b=y=r*sinθ.\n",
    "def cember(r, a, b):  \n",
    "    theta = np.arange(0, 2*np.pi, 0.01) #theta değerleri, çemberin çevresini oluşturan noktaların açılarını temsil eder.\n",
    "    x = a+r * np.cos(theta)\n",
    "    y = b+r * np.sin(theta)\n",
    "    return x, y"
   ]
  },
  {
   "cell_type": "code",
   "execution_count": 23,
   "id": "304a0839-c7d1-4f1d-b6fe-95ae0ae6fd50",
   "metadata": {
    "tags": []
   },
   "outputs": [],
   "source": [
    "# cember() fonksiyonunu çağırıp, \n",
    "# çemberin her bir noktası için x ve y değerlerini alalım\n",
    "\n",
    "k_circle_x, k_circle_y = cember(r, 3.18, 3.15)"
   ]
  },
  {
   "cell_type": "code",
   "execution_count": 24,
   "id": "32bfc440-7285-42de-833c-e88dd227754c",
   "metadata": {
    "collapsed": true,
    "jupyter": {
     "outputs_hidden": true
    },
    "tags": []
   },
   "outputs": [
    {
     "data": {
      "text/plain": [
       "array([3.63173601, 3.63171342, 3.63164566, 3.63153274, 3.63137467,\n",
       "       3.63117145, 3.63092313, 3.63062971, 3.63029122, 3.62990771,\n",
       "       3.62947921, 3.62900576, 3.62848741, 3.62792421, 3.62731622,\n",
       "       3.6266635 , 3.62596611, 3.62522413, 3.62443762, 3.62360667,\n",
       "       3.62273136, 3.62181178, 3.62084802, 3.61984017, 3.61878834,\n",
       "       3.61769263, 3.61655315, 3.61537002, 3.61414335, 3.61287326,\n",
       "       3.61155989, 3.61020336, 3.60880382, 3.60736139, 3.60587623,\n",
       "       3.60434848, 3.60277829, 3.60116583, 3.59951125, 3.59781473,\n",
       "       3.59607642, 3.5942965 , 3.59247515, 3.59061256, 3.5887089 ,\n",
       "       3.58676438, 3.58477918, 3.5827535 , 3.58068754, 3.57858152,\n",
       "       3.57643564, 3.57425012, 3.57202517, 3.56976102, 3.5674579 ,\n",
       "       3.56511602, 3.56273564, 3.56031699, 3.5578603 , 3.55536582,\n",
       "       3.55283382, 3.55026452, 3.5476582 , 3.54501512, 3.54233554,\n",
       "       3.53961972, 3.53686794, 3.53408047, 3.5312576 , 3.5283996 ,\n",
       "       3.52550676, 3.52257937, 3.51961772, 3.51662211, 3.51359284,\n",
       "       3.51053021, 3.50743453, 3.5043061 , 3.50114524, 3.49795227,\n",
       "       3.49472751, 3.49147127, 3.48818388, 3.48486568, 3.48151699,\n",
       "       3.47813815, 3.4747295 , 3.47129137, 3.46782411, 3.46432808,\n",
       "       3.46080361, 3.45725105, 3.45367078, 3.45006314, 3.44642849,\n",
       "       3.4427672 , 3.43907963, 3.43536615, 3.43162714, 3.42786297,\n",
       "       3.42407401, 3.42026064, 3.41642325, 3.41256221, 3.40867792,\n",
       "       3.40477076, 3.40084112, 3.3968894 , 3.39291599, 3.38892129,\n",
       "       3.3849057 , 3.38086962, 3.37681345, 3.3727376 , 3.36864247,\n",
       "       3.36452849, 3.36039604, 3.35624556, 3.35207746, 3.34789215,\n",
       "       3.34369005, 3.33947157, 3.33523716, 3.33098722, 3.32672218,\n",
       "       3.32244247, 3.31814851, 3.31384074, 3.30951958, 3.30518548,\n",
       "       3.30083885, 3.29648014, 3.29210979, 3.28772822, 3.28333588,\n",
       "       3.27893321, 3.27452064, 3.27009862, 3.26566759, 3.261228  ,\n",
       "       3.25678028, 3.25232488, 3.24786225, 3.24339284, 3.23891709,\n",
       "       3.23443544, 3.22994835, 3.22545627, 3.22095964, 3.21645891,\n",
       "       3.21195454, 3.20744697, 3.20293666, 3.19842406, 3.19390961,\n",
       "       3.18939377, 3.18487699, 3.18035973, 3.17584243, 3.17132554,\n",
       "       3.16680952, 3.16229483, 3.1577819 , 3.15327119, 3.14876316,\n",
       "       3.14425825, 3.13975691, 3.1352596 , 3.13076676, 3.12627885,\n",
       "       3.1217963 , 3.11731958, 3.11284913, 3.10838539, 3.10392881,\n",
       "       3.09947984, 3.09503892, 3.0906065 , 3.08618301, 3.08176891,\n",
       "       3.07736463, 3.07297062, 3.06858731, 3.06421513, 3.05985454,\n",
       "       3.05550596, 3.05116983, 3.04684659, 3.04253666, 3.03824047,\n",
       "       3.03395846, 3.02969106, 3.02543868, 3.02120176, 3.01698073,\n",
       "       3.01277599, 3.00858797, 3.0044171 , 3.00026379, 2.99612844,\n",
       "       2.99201149, 2.98791333, 2.98383439, 2.97977505, 2.97573575,\n",
       "       2.97171686, 2.96771881, 2.96374198, 2.95978678, 2.9558536 ,\n",
       "       2.95194284, 2.94805488, 2.94419011, 2.94034893, 2.93653171,\n",
       "       2.93273883, 2.92897069, 2.92522764, 2.92151007, 2.91781836,\n",
       "       2.91415285, 2.91051394, 2.90690197, 2.90331731, 2.89976032,\n",
       "       2.89623136, 2.89273077, 2.8892589 , 2.88581611, 2.88240274,\n",
       "       2.87901913, 2.87566562, 2.87234254, 2.86905022, 2.865789  ,\n",
       "       2.8625592 , 2.85936114, 2.85619515, 2.85306154, 2.84996062,\n",
       "       2.84689271, 2.8438581 , 2.84085711, 2.83789004, 2.83495717,\n",
       "       2.83205881, 2.82919524, 2.82636675, 2.82357363, 2.82081615,\n",
       "       2.81809458, 2.81540921, 2.81276029, 2.8101481 , 2.80757289,\n",
       "       2.80503493, 2.80253446, 2.80007174, 2.79764701, 2.79526052,\n",
       "       2.7929125 , 2.79060318, 2.78833281, 2.7861016 , 2.78390979,\n",
       "       2.78175758, 2.77964519, 2.77757284, 2.77554074, 2.77354908,\n",
       "       2.77159806, 2.76968788, 2.76781874, 2.76599081, 2.76420428,\n",
       "       2.76245933, 2.76075614, 2.75909487, 2.75747569, 2.75589876,\n",
       "       2.75436424, 2.75287229, 2.75142304, 2.75001666, 2.74865327,\n",
       "       2.74733302, 2.74605603, 2.74482244, 2.74363236, 2.74248592,\n",
       "       2.74138324, 2.74032441, 2.73930955, 2.73833876, 2.73741213,\n",
       "       2.73652977, 2.73569175, 2.73489816, 2.73414908, 2.73344458,\n",
       "       2.73278474, 2.73216962, 2.73159929, 2.73107379, 2.73059319,\n",
       "       2.73015752, 2.72976684, 2.72942119, 2.72912059, 2.72886508,\n",
       "       2.72865468, 2.72848941, 2.7283693 , 2.72829435, 2.72826457,\n",
       "       2.72827996, 2.72834052, 2.72844625, 2.72859714, 2.72879316,\n",
       "       2.7290343 , 2.72932054, 2.72965185, 2.7300282 , 2.73044954,\n",
       "       2.73091583, 2.73142703, 2.73198309, 2.73258395, 2.73322955,\n",
       "       2.73391983, 2.73465472, 2.73543414, 2.73625801, 2.73712626,\n",
       "       2.7380388 , 2.73899553, 2.73999637, 2.7410412 , 2.74212993,\n",
       "       2.74326244, 2.74443863, 2.74565838, 2.74692156, 2.74822804,\n",
       "       2.7495777 , 2.75097041, 2.75240602, 2.75388438, 2.75540536,\n",
       "       2.7569688 , 2.75857453, 2.76022242, 2.76191227, 2.76364394,\n",
       "       2.76541724, 2.767232  , 2.76908804, 2.77098517, 2.7729232 ,\n",
       "       2.77490193, 2.77692118, 2.77898073, 2.78108039, 2.78321993,\n",
       "       2.78539916, 2.78761784, 2.78987576, 2.7921727 , 2.79450841,\n",
       "       2.79688268, 2.79929525, 2.8017459 , 2.80423437, 2.80676042,\n",
       "       2.80932379, 2.81192423, 2.81456148, 2.81723527, 2.81994533,\n",
       "       2.8226914 , 2.82547321, 2.82829046, 2.83114288, 2.83403019,\n",
       "       2.8369521 , 2.83990831, 2.84289853, 2.84592246, 2.8489798 ,\n",
       "       2.85207024, 2.85519347, 2.85834918, 2.86153706, 2.86475678,\n",
       "       2.86800803, 2.87129048, 2.87460379, 2.87794765, 2.88132171,\n",
       "       2.88472564, 2.8881591 , 2.89162174, 2.89511321, 2.89863318,\n",
       "       2.90218128, 2.90575717, 2.90936047, 2.91299085, 2.91664792,\n",
       "       2.92033133, 2.9240407 , 2.92777567, 2.93153586, 2.9353209 ,\n",
       "       2.93913041, 2.942964  , 2.94682129, 2.95070191, 2.95460545,\n",
       "       2.95853153, 2.96247976, 2.96644974, 2.97044108, 2.97445337,\n",
       "       2.97848622, 2.98253922, 2.98661196, 2.99070404, 2.99481505,\n",
       "       2.99894458, 3.00309222, 3.00725754, 3.01144014, 3.0156396 ,\n",
       "       3.01985549, 3.0240874 , 3.02833489, 3.03259756, 3.03687496,\n",
       "       3.04116668, 3.04547228, 3.04979133, 3.0541234 , 3.05846806,\n",
       "       3.06282487, 3.0671934 , 3.07157322, 3.07596387, 3.08036493,\n",
       "       3.08477595, 3.08919649, 3.09362611, 3.09806437, 3.10251083,\n",
       "       3.10696503, 3.11142654, 3.1158949 , 3.12036968, 3.12485041,\n",
       "       3.12933667, 3.13382798, 3.13832392, 3.14282402, 3.14732784,\n",
       "       3.15183493, 3.15634484, 3.16085711, 3.16537129, 3.16988694,\n",
       "       3.17440359, 3.17892081, 3.18343814, 3.18795512, 3.19247131,\n",
       "       3.19698625, 3.20149949, 3.20601058, 3.21051907, 3.21502451,\n",
       "       3.21952644, 3.22402442, 3.228518  , 3.23300673, 3.23749016,\n",
       "       3.24196784, 3.24643932, 3.25090416, 3.25536191, 3.25981212,\n",
       "       3.26425435, 3.26868816, 3.2731131 , 3.27752872, 3.28193459,\n",
       "       3.28633027, 3.29071532, 3.29508929, 3.29945176, 3.30380228,\n",
       "       3.30814042, 3.31246575, 3.31677783, 3.32107623, 3.32536053,\n",
       "       3.32963029, 3.33388509, 3.33812449, 3.34234809, 3.34655545,\n",
       "       3.35074616, 3.35491979, 3.35907593, 3.36321416, 3.36733407,\n",
       "       3.37143525, 3.37551728, 3.37957976, 3.38362229, 3.38764445,\n",
       "       3.39164585, 3.39562608, 3.39958476, 3.40352147, 3.40743583,\n",
       "       3.41132745, 3.41519593, 3.4190409 , 3.42286196, 3.42665874,\n",
       "       3.43043085, 3.43417792, 3.43789957, 3.44159543, 3.44526513,\n",
       "       3.4489083 , 3.45252459, 3.45611362, 3.45967504, 3.46320849,\n",
       "       3.46671363, 3.47019009, 3.47363753, 3.47705561, 3.48044398,\n",
       "       3.48380231, 3.48713026, 3.4904275 , 3.4936937 , 3.49692852,\n",
       "       3.50013165, 3.50330277, 3.50644156, 3.50954771, 3.5126209 ,\n",
       "       3.51566083, 3.5186672 , 3.52163969, 3.52457803, 3.5274819 ,\n",
       "       3.53035103, 3.53318513, 3.5359839 , 3.53874708, 3.54147438,\n",
       "       3.54416554, 3.54682028, 3.54943834, 3.55201945, 3.55456336,\n",
       "       3.55706982, 3.55953857, 3.56196937, 3.56436197, 3.56671613,\n",
       "       3.56903162, 3.57130821, 3.57354567, 3.57574378, 3.57790231,\n",
       "       3.58002105, 3.58209979, 3.58413832, 3.58613644, 3.58809394,\n",
       "       3.59001063, 3.59188633, 3.59372083, 3.59551397, 3.59726555,\n",
       "       3.5989754 , 3.60064336, 3.60226926, 3.60385292, 3.60539421,\n",
       "       3.60689295, 3.60834901, 3.60976223, 3.61113247, 3.61245961,\n",
       "       3.61374349, 3.614984  , 3.61618102, 3.61733442, 3.61844408,\n",
       "       3.6195099 , 3.62053177, 3.62150958, 3.62244325, 3.62333267,\n",
       "       3.62417776, 3.62497843, 3.6257346 , 3.6264462 , 3.62711316,\n",
       "       3.62773541, 3.62831288, 3.62884552, 3.62933328, 3.6297761 ,\n",
       "       3.63017395, 3.63052678, 3.63083456, 3.63109725, 3.63131484,\n",
       "       3.63148729, 3.6316146 , 3.63169674, 3.63173372])"
      ]
     },
     "execution_count": 24,
     "metadata": {},
     "output_type": "execute_result"
    }
   ],
   "source": [
    "k_circle_x"
   ]
  },
  {
   "cell_type": "code",
   "execution_count": 25,
   "id": "9cbb43c8-e4de-44d3-8c01-f1fda2c43b53",
   "metadata": {
    "tags": []
   },
   "outputs": [
    {
     "data": {
      "image/png": "[encoded data removed]",
      "text/plain": [
       "<Figure size 500x500 with 1 Axes>"
      ]
     },
     "metadata": {},
     "output_type": "display_data"
    }
   ],
   "source": [
    "# Class'ları renkli olarak grafikte görelim\n",
    "plt.figure(figsize=(5, 5))\n",
    "plt.xlim((2.4, 3.8))\n",
    "plt.ylim((2.4, 3.8))\n",
    "\n",
    "# mecvut data\n",
    "plt.scatter(x_df.iloc[:5,0], x_df.iloc[:5,1], c=\"b\")\n",
    "plt.scatter(x_df.iloc[5:,0], x_df.iloc[5:,1], c=\"g\")\n",
    "\n",
    "# tahmin etmek istediğimiz nokta: [3.18，3.15]\n",
    "plt.scatter([3.18],[3.15],c=\"r\",marker=\"x\")\n",
    "\n",
    "# çemberi çizelim\n",
    "plt.plot(k_circle_x, k_circle_y)\n",
    "\n",
    "plt.show()"
   ]
  },
  {
   "cell_type": "code",
   "execution_count": null,
   "id": "0daf50e9-8bb3-4bd0-b99b-68e11e1688ae",
   "metadata": {},
   "outputs": [],
   "source": []
  }
 ],
 "metadata": {
  "kernelspec": {
   "display_name": "Python 3 (ipykernel)",
   "language": "python",
   "name": "python3"
  },
  "language_info": {
   "codemirror_mode": {
    "name": "ipython",
    "version": 3
   },
   "file_extension": ".py",
   "mimetype": "text/x-python",
   "name": "python",
   "nbconvert_exporter": "python",
   "pygments_lexer": "ipython3",
   "version": "3.10.9"
  }
 },
 "nbformat": 4,
 "nbformat_minor": 5
}

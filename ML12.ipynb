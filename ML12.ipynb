{
 "cells": [
  {
   "cell_type": "markdown",
   "id": "48c38c71-6756-402f-b3ab-5f073fc0da4b",
   "metadata": {},
   "source": [
    "**Logistik Regression** \n",
    "\n",
    "Adında regresyon geçsede bu bir Classification uygulamasıdır."
   ]
  },
  {
   "cell_type": "code",
   "execution_count": 121,
   "id": "eb3924ef-022d-4fb4-9b36-150cba97b137",
   "metadata": {
    "tags": []
   },
   "outputs": [],
   "source": [
    "import numpy as np\n",
    "import pandas as pd\n",
    "import matplotlib.pyplot as plt\n",
    "import seaborn as sns\n",
    "\n",
    "import warnings\n",
    "warnings.filterwarnings(\"ignore\")\n",
    "\n",
    "%matplotlib inline"
   ]
  },
  {
   "cell_type": "code",
   "execution_count": 122,
   "id": "e0373439-f767-4956-9faf-70305f6d4d85",
   "metadata": {
    "tags": []
   },
   "outputs": [],
   "source": [
    "train_df= pd.read_csv(\"train.csv\")"
   ]
  },
  {
   "cell_type": "code",
   "execution_count": 123,
   "id": "fff198f0-769a-4e75-9f18-9bdd8f0746c0",
   "metadata": {
    "tags": []
   },
   "outputs": [
    {
     "data": {
      "text/html": [
       "<div>\n",
       "<style scoped>\n",
       "    .dataframe tbody tr th:only-of-type {\n",
       "        vertical-align: middle;\n",
       "    }\n",
       "\n",
       "    .dataframe tbody tr th {\n",
       "        vertical-align: top;\n",
       "    }\n",
       "\n",
       "    .dataframe thead th {\n",
       "        text-align: right;\n",
       "    }\n",
       "</style>\n",
       "<table border=\"1\" class=\"dataframe\">\n",
       "  <thead>\n",
       "    <tr style=\"text-align: right;\">\n",
       "      <th></th>\n",
       "      <th>PassengerId</th>\n",
       "      <th>Survived</th>\n",
       "      <th>Pclass</th>\n",
       "      <th>Name</th>\n",
       "      <th>Sex</th>\n",
       "      <th>Age</th>\n",
       "      <th>SibSp</th>\n",
       "      <th>Parch</th>\n",
       "      <th>Ticket</th>\n",
       "      <th>Fare</th>\n",
       "      <th>Cabin</th>\n",
       "      <th>Embarked</th>\n",
       "    </tr>\n",
       "  </thead>\n",
       "  <tbody>\n",
       "    <tr>\n",
       "      <th>0</th>\n",
       "      <td>1</td>\n",
       "      <td>0</td>\n",
       "      <td>3</td>\n",
       "      <td>Braund, Mr. Owen Harris</td>\n",
       "      <td>male</td>\n",
       "      <td>22.0</td>\n",
       "      <td>1</td>\n",
       "      <td>0</td>\n",
       "      <td>A/5 21171</td>\n",
       "      <td>7.2500</td>\n",
       "      <td>NaN</td>\n",
       "      <td>S</td>\n",
       "    </tr>\n",
       "    <tr>\n",
       "      <th>1</th>\n",
       "      <td>2</td>\n",
       "      <td>1</td>\n",
       "      <td>1</td>\n",
       "      <td>Cumings, Mrs. John Bradley (Florence Briggs Th...</td>\n",
       "      <td>female</td>\n",
       "      <td>38.0</td>\n",
       "      <td>1</td>\n",
       "      <td>0</td>\n",
       "      <td>PC 17599</td>\n",
       "      <td>71.2833</td>\n",
       "      <td>C85</td>\n",
       "      <td>C</td>\n",
       "    </tr>\n",
       "    <tr>\n",
       "      <th>2</th>\n",
       "      <td>3</td>\n",
       "      <td>1</td>\n",
       "      <td>3</td>\n",
       "      <td>Heikkinen, Miss. Laina</td>\n",
       "      <td>female</td>\n",
       "      <td>26.0</td>\n",
       "      <td>0</td>\n",
       "      <td>0</td>\n",
       "      <td>STON/O2. 3101282</td>\n",
       "      <td>7.9250</td>\n",
       "      <td>NaN</td>\n",
       "      <td>S</td>\n",
       "    </tr>\n",
       "    <tr>\n",
       "      <th>3</th>\n",
       "      <td>4</td>\n",
       "      <td>1</td>\n",
       "      <td>1</td>\n",
       "      <td>Futrelle, Mrs. Jacques Heath (Lily May Peel)</td>\n",
       "      <td>female</td>\n",
       "      <td>35.0</td>\n",
       "      <td>1</td>\n",
       "      <td>0</td>\n",
       "      <td>113803</td>\n",
       "      <td>53.1000</td>\n",
       "      <td>C123</td>\n",
       "      <td>S</td>\n",
       "    </tr>\n",
       "    <tr>\n",
       "      <th>4</th>\n",
       "      <td>5</td>\n",
       "      <td>0</td>\n",
       "      <td>3</td>\n",
       "      <td>Allen, Mr. William Henry</td>\n",
       "      <td>male</td>\n",
       "      <td>35.0</td>\n",
       "      <td>0</td>\n",
       "      <td>0</td>\n",
       "      <td>373450</td>\n",
       "      <td>8.0500</td>\n",
       "      <td>NaN</td>\n",
       "      <td>S</td>\n",
       "    </tr>\n",
       "  </tbody>\n",
       "</table>\n",
       "</div>"
      ],
      "text/plain": [
       "   PassengerId  Survived  Pclass  \\\n",
       "0            1         0       3   \n",
       "1            2         1       1   \n",
       "2            3         1       3   \n",
       "3            4         1       1   \n",
       "4            5         0       3   \n",
       "\n",
       "                                                Name     Sex   Age  SibSp  \\\n",
       "0                            Braund, Mr. Owen Harris    male  22.0      1   \n",
       "1  Cumings, Mrs. John Bradley (Florence Briggs Th...  female  38.0      1   \n",
       "2                             Heikkinen, Miss. Laina  female  26.0      0   \n",
       "3       Futrelle, Mrs. Jacques Heath (Lily May Peel)  female  35.0      1   \n",
       "4                           Allen, Mr. William Henry    male  35.0      0   \n",
       "\n",
       "   Parch            Ticket     Fare Cabin Embarked  \n",
       "0      0         A/5 21171   7.2500   NaN        S  \n",
       "1      0          PC 17599  71.2833   C85        C  \n",
       "2      0  STON/O2. 3101282   7.9250   NaN        S  \n",
       "3      0            113803  53.1000  C123        S  \n",
       "4      0            373450   8.0500   NaN        S  "
      ]
     },
     "execution_count": 123,
     "metadata": {},
     "output_type": "execute_result"
    }
   ],
   "source": [
    "train_df.head()"
   ]
  },
  {
   "cell_type": "code",
   "execution_count": 124,
   "id": "99ab0481-ac90-4221-8922-8ffefd0d6c1e",
   "metadata": {
    "tags": []
   },
   "outputs": [
    {
     "data": {
      "text/plain": [
       "PassengerId      0\n",
       "Survived         0\n",
       "Pclass           0\n",
       "Name             0\n",
       "Sex              0\n",
       "Age            177\n",
       "SibSp            0\n",
       "Parch            0\n",
       "Ticket           0\n",
       "Fare             0\n",
       "Cabin          687\n",
       "Embarked         2\n",
       "dtype: int64"
      ]
     },
     "execution_count": 124,
     "metadata": {},
     "output_type": "execute_result"
    }
   ],
   "source": [
    "\"\"\"Datamızda eksik veriler var ve çok verimiz olmadığı için bunları silmemeliyiz.\n",
    "Bu yüzden onları dolduracağız. Bunun iki yöntemi vardır: Mean(oratalama), Median\n",
    "(ortanca)\"\"\"\n",
    "\n",
    "#train dat içinde eksik değerlere bakalım\n",
    "#isnull() metodu, her hücrenin boş olup olmadığını kontrol eder\n",
    "#her bir sütun içindeki toplam boş değer adedi:\n",
    "\n",
    "train_df.isnull().sum()"
   ]
  },
  {
   "cell_type": "markdown",
   "id": "822f25a0-231a-4f59-a571-a7c1195b6906",
   "metadata": {},
   "source": [
    "**Eksik Değerler - Age**"
   ]
  },
  {
   "cell_type": "code",
   "execution_count": 125,
   "id": "c3a8c9e1-e2c2-436a-9d72-50ed9d6f6910",
   "metadata": {
    "tags": []
   },
   "outputs": [
    {
     "data": {
      "text/plain": [
       "19.865319865319865"
      ]
     },
     "execution_count": 125,
     "metadata": {},
     "output_type": "execute_result"
    }
   ],
   "source": [
    "#Age sütunu için eksik değerlerin oranı\n",
    "\n",
    "train_df[\"Age\"].isnull().sum() / train_df.shape[0] *100\n",
    "#train_df.shape[0]:DataFrame'in satır sayısını döndürür. Yani, veri kümesinde kaç veri örneği olduğunu verir."
   ]
  },
  {
   "cell_type": "code",
   "execution_count": 126,
   "id": "06b97194-9b82-4210-86e7-7271377a6eec",
   "metadata": {
    "tags": []
   },
   "outputs": [
    {
     "data": {
      "image/png": "[encoded data removed]",
      "text/plain": [
       "<Figure size 640x480 with 1 Axes>"
      ]
     },
     "metadata": {},
     "output_type": "display_data"
    }
   ],
   "source": [
    "#Yaklaşık %20'lik bşr dilimin yaş değeri eksik\n",
    "#Bunun histogram grafiği:\n",
    "\n",
    "\"\"\"bins=çubuk sayısı, density=histogramın yüzdelerle normalize edilip edilmediğini\n",
    "belirtir.ani, toplam alanı 1'e ayarlar. Bu, verilerin yoğunluğunu karşılaştırmak için \n",
    "kullanışlıdır. , stacked=eğer veri kümesinde birden fazla grup varsa, çubukları yığın \n",
    "haline getirir. Bu, veri grupları arasındaki toplam dağılımı gösterir. eğer veri kümesinde \n",
    "birden fazla grup varsa, çubukları yığın haline getirir. Bu, veri grupları arasındaki toplam\n",
    "dağılımı gösterir. , alpha: ubukların saydamlığını ayarlar. 0'dan 1'e kadar değer alır. 0 \n",
    "tamamen saydamdır, 1 ise tamamen opaktır. Burada, 0.7 saydamlık kullanılır.\"\"\"\n",
    "\n",
    "ax= train_df[\"Age\"].hist(bins= 15, density=True, stacked=True, alpha=0.7)\n",
    "\n",
    "train_df[\"Age\"].plot(kind=\"density\") #grafiğin türü (kind), yoğunluktur.\n",
    "\n",
    "ax.set(xlabel=\"Age\")\n",
    "plt.xlim(0,90)\n",
    "plt.grid() #arka plandaki kareler\n",
    "plt.show()"
   ]
  },
  {
   "cell_type": "code",
   "execution_count": 127,
   "id": "f1dbfc65-ef8b-4958-b273-7ea6fdcc9a38",
   "metadata": {
    "tags": []
   },
   "outputs": [
    {
     "name": "stdout",
     "output_type": "stream",
     "text": [
      "Mean Değeri:  29.69911764705882\n",
      "Median Değeri:  28.0\n"
     ]
    }
   ],
   "source": [
    "\"\"\"şimdi mean ve medyan değerleri hesaplayacağız ama medianı kullanacağız çünkü \n",
    "mean bize daha büyük bir değer verecek ama aslında uygun bir değer değil\"\"\"\n",
    "\n",
    "# skipna -> eksik verileri es geç (skip), True ise dikkate al demektir\n",
    "\n",
    "print(\"Mean Değeri: \",train_df[\"Age\"].mean(skipna=True))\n",
    "print(\"Median Değeri: \",train_df[\"Age\"].median(skipna=True))"
   ]
  },
  {
   "cell_type": "markdown",
   "id": "c0e4c8da-4c74-48c2-a3d6-2b9bb9fbd4b9",
   "metadata": {},
   "source": [
    "**Eksik Değerler - Cabin**"
   ]
  },
  {
   "cell_type": "code",
   "execution_count": 128,
   "id": "2323cab4-3b23-4fb0-b32a-0434f65188d2",
   "metadata": {
    "tags": []
   },
   "outputs": [
    {
     "data": {
      "text/plain": [
       "77.10437710437711"
      ]
     },
     "execution_count": 128,
     "metadata": {},
     "output_type": "execute_result"
    }
   ],
   "source": [
    "# Cabin için eksik değerler oranı\n",
    "\n",
    "train_df[\"Cabin\"].isnull().sum() / train_df.shape[0]*100"
   ]
  },
  {
   "cell_type": "markdown",
   "id": "bb024644-6ce2-49f1-bc1d-1159a566caa3",
   "metadata": {},
   "source": [
    "Cabin sütununda %77 oranı bilinmiyor, bilinen veri sayısıda çok az bu yüzden bu sütunu komple çıkarcağız."
   ]
  },
  {
   "cell_type": "markdown",
   "id": "fcb213cc-5f3c-4318-b70f-33db3390ea50",
   "metadata": {},
   "source": [
    "**Eksik Değerler - Embarked**"
   ]
  },
  {
   "cell_type": "code",
   "execution_count": 129,
   "id": "6d549b91-b410-4b70-9150-ec27707e5ea2",
   "metadata": {
    "tags": []
   },
   "outputs": [
    {
     "data": {
      "text/plain": [
       "0.22446689113355783"
      ]
     },
     "execution_count": 129,
     "metadata": {},
     "output_type": "execute_result"
    }
   ],
   "source": [
    "#embarked= gemiye binilen kapı\n",
    "\n",
    "train_df[\"Embarked\"].isnull().sum() / train_df.shape[0]*100"
   ]
  },
  {
   "cell_type": "code",
   "execution_count": 130,
   "id": "51b65c56-a22c-4258-b283-58d99df17747",
   "metadata": {
    "tags": []
   },
   "outputs": [
    {
     "name": "stdout",
     "output_type": "stream",
     "text": [
      "Yolcuların hangi limandan bindikleri % olarak: (C = Cherbourg, Q = Queenstown, S = Southampton):\n",
      "Embarked\n",
      "S    72.278339\n",
      "C    18.855219\n",
      "Q     8.641975\n",
      "Name: count, dtype: float64\n"
     ]
    }
   ],
   "source": [
    "\"\"\"value_counts() fonksiyonu, bir pandas Serisi içindeki benzersiz değerlerin \n",
    "sayısını sayarak her bir değerin kaç kez tekrarladığını belirler.\"\"\"\n",
    "\n",
    "print('Yolcuların hangi limandan bindikleri % olarak: (C = Cherbourg, Q = Queenstown, S = Southampton):')\n",
    "print(train_df[\"Embarked\"].value_counts() / train_df.shape[0] * 100)"
   ]
  },
  {
   "cell_type": "code",
   "execution_count": 131,
   "id": "d4f29a16-023d-4581-a0a8-7fe5d9602ea2",
   "metadata": {
    "tags": []
   },
   "outputs": [
    {
     "data": {
      "image/png": "[encoded data removed]",
      "text/plain": [
       "<Figure size 640x480 with 1 Axes>"
      ]
     },
     "metadata": {},
     "output_type": "display_data"
    }
   ],
   "source": [
    "#grafik ile oranı daha net görelim\n",
    "\n",
    "sns.countplot(x=\"Embarked\", data= train_df, palette=\"Set1\")\n",
    "plt.show()"
   ]
  },
  {
   "cell_type": "markdown",
   "id": "13cf4a85-275b-4b63-ac76-75f2a0bc6644",
   "metadata": {},
   "source": [
    "Burada sadece 2 adet boşluk var ve bu kategorik bir sütun bu yüzden mean veya median yapılamaz. Bu yüzden en yüksek değere sahip class ile bilinmeyen iki yeri de dolduracağız."
   ]
  },
  {
   "cell_type": "code",
   "execution_count": 132,
   "id": "5783d8f2-d5c0-454c-ab6c-ed301e779f08",
   "metadata": {
    "tags": []
   },
   "outputs": [
    {
     "name": "stdout",
     "output_type": "stream",
     "text": [
      "En fazla binilen liman:  S\n"
     ]
    }
   ],
   "source": [
    "# en fazla binilen limanı bulalım -> idxmax()\n",
    "\n",
    "print('En fazla binilen liman: ', train_df['Embarked'].value_counts().idxmax())"
   ]
  },
  {
   "cell_type": "markdown",
   "id": "1d8b049e-8f38-4779-ad69-5eb668ec3bc2",
   "metadata": {},
   "source": [
    "**Nihai Karar ve Uygulama**\n",
    "\n",
    "* Age -> Median yöntemi ile eksik değerleri dolduracağız (median = 28)\n",
    "* Embarked -> eksik değerleri 'S' olarak dolduracağız\n",
    "* Cabin -> çok fazla (%77) eksik değer olduğu için bu sütunu çıkaracağız"
   ]
  },
  {
   "cell_type": "code",
   "execution_count": 133,
   "id": "e5f5ac34-abc9-4fd5-aa48-e83e6101bc00",
   "metadata": {
    "tags": []
   },
   "outputs": [],
   "source": [
    "# önce orijinal verimizi kopyalayalım\n",
    "\n",
    "train_data= train_df.copy()"
   ]
  },
  {
   "cell_type": "code",
   "execution_count": 134,
   "id": "573c4c41-742c-40df-8963-81b9e9707f66",
   "metadata": {
    "tags": []
   },
   "outputs": [],
   "source": [
    "# Age -> eksikleri median ile dolduralım -> fillna()\n",
    "\n",
    "train_data[\"Age\"].fillna(train_df[\"Age\"].median(skipna=True), inplace=True)"
   ]
  },
  {
   "cell_type": "code",
   "execution_count": 135,
   "id": "7da9d5e3-5916-48c4-a144-c5e737a53ae4",
   "metadata": {
    "tags": []
   },
   "outputs": [],
   "source": [
    "# Embarked -> eksikleri 'S' ile dolduralım, en çok olan \n",
    "\n",
    "train_data[\"Embarked\"].fillna(train_df[\"Embarked\"].value_counts().idxmax(), inplace=True)"
   ]
  },
  {
   "cell_type": "code",
   "execution_count": 136,
   "id": "85c8edb6-89bb-4099-bb4f-71e6d7bfec72",
   "metadata": {
    "tags": []
   },
   "outputs": [],
   "source": [
    "# Cabin -> bu sütunu çıkaralım -> drop\n",
    "train_data.drop(\"Cabin\", axis=1, inplace=True)"
   ]
  },
  {
   "cell_type": "code",
   "execution_count": 137,
   "id": "5e5b2e58-4d8b-49a5-a38b-e2f82a48cfad",
   "metadata": {
    "tags": []
   },
   "outputs": [
    {
     "data": {
      "text/plain": [
       "PassengerId    0\n",
       "Survived       0\n",
       "Pclass         0\n",
       "Name           0\n",
       "Sex            0\n",
       "Age            0\n",
       "SibSp          0\n",
       "Parch          0\n",
       "Ticket         0\n",
       "Fare           0\n",
       "Embarked       0\n",
       "dtype: int64"
      ]
     },
     "execution_count": 137,
     "metadata": {},
     "output_type": "execute_result"
    }
   ],
   "source": [
    "# şimdi bu ayarlamalardan sonra train_data'da eksik veri var mı bakalım\n",
    "\n",
    "train_data.isnull().sum()"
   ]
  },
  {
   "cell_type": "code",
   "execution_count": 138,
   "id": "b5b58571-da82-449b-9a8c-fd88be116e05",
   "metadata": {
    "tags": []
   },
   "outputs": [
    {
     "data": {
      "text/html": [
       "<div>\n",
       "<style scoped>\n",
       "    .dataframe tbody tr th:only-of-type {\n",
       "        vertical-align: middle;\n",
       "    }\n",
       "\n",
       "    .dataframe tbody tr th {\n",
       "        vertical-align: top;\n",
       "    }\n",
       "\n",
       "    .dataframe thead th {\n",
       "        text-align: right;\n",
       "    }\n",
       "</style>\n",
       "<table border=\"1\" class=\"dataframe\">\n",
       "  <thead>\n",
       "    <tr style=\"text-align: right;\">\n",
       "      <th></th>\n",
       "      <th>PassengerId</th>\n",
       "      <th>Survived</th>\n",
       "      <th>Pclass</th>\n",
       "      <th>Name</th>\n",
       "      <th>Sex</th>\n",
       "      <th>Age</th>\n",
       "      <th>SibSp</th>\n",
       "      <th>Parch</th>\n",
       "      <th>Ticket</th>\n",
       "      <th>Fare</th>\n",
       "      <th>Embarked</th>\n",
       "    </tr>\n",
       "  </thead>\n",
       "  <tbody>\n",
       "    <tr>\n",
       "      <th>0</th>\n",
       "      <td>1</td>\n",
       "      <td>0</td>\n",
       "      <td>3</td>\n",
       "      <td>Braund, Mr. Owen Harris</td>\n",
       "      <td>male</td>\n",
       "      <td>22.0</td>\n",
       "      <td>1</td>\n",
       "      <td>0</td>\n",
       "      <td>A/5 21171</td>\n",
       "      <td>7.2500</td>\n",
       "      <td>S</td>\n",
       "    </tr>\n",
       "    <tr>\n",
       "      <th>1</th>\n",
       "      <td>2</td>\n",
       "      <td>1</td>\n",
       "      <td>1</td>\n",
       "      <td>Cumings, Mrs. John Bradley (Florence Briggs Th...</td>\n",
       "      <td>female</td>\n",
       "      <td>38.0</td>\n",
       "      <td>1</td>\n",
       "      <td>0</td>\n",
       "      <td>PC 17599</td>\n",
       "      <td>71.2833</td>\n",
       "      <td>C</td>\n",
       "    </tr>\n",
       "    <tr>\n",
       "      <th>2</th>\n",
       "      <td>3</td>\n",
       "      <td>1</td>\n",
       "      <td>3</td>\n",
       "      <td>Heikkinen, Miss. Laina</td>\n",
       "      <td>female</td>\n",
       "      <td>26.0</td>\n",
       "      <td>0</td>\n",
       "      <td>0</td>\n",
       "      <td>STON/O2. 3101282</td>\n",
       "      <td>7.9250</td>\n",
       "      <td>S</td>\n",
       "    </tr>\n",
       "    <tr>\n",
       "      <th>3</th>\n",
       "      <td>4</td>\n",
       "      <td>1</td>\n",
       "      <td>1</td>\n",
       "      <td>Futrelle, Mrs. Jacques Heath (Lily May Peel)</td>\n",
       "      <td>female</td>\n",
       "      <td>35.0</td>\n",
       "      <td>1</td>\n",
       "      <td>0</td>\n",
       "      <td>113803</td>\n",
       "      <td>53.1000</td>\n",
       "      <td>S</td>\n",
       "    </tr>\n",
       "    <tr>\n",
       "      <th>4</th>\n",
       "      <td>5</td>\n",
       "      <td>0</td>\n",
       "      <td>3</td>\n",
       "      <td>Allen, Mr. William Henry</td>\n",
       "      <td>male</td>\n",
       "      <td>35.0</td>\n",
       "      <td>0</td>\n",
       "      <td>0</td>\n",
       "      <td>373450</td>\n",
       "      <td>8.0500</td>\n",
       "      <td>S</td>\n",
       "    </tr>\n",
       "  </tbody>\n",
       "</table>\n",
       "</div>"
      ],
      "text/plain": [
       "   PassengerId  Survived  Pclass  \\\n",
       "0            1         0       3   \n",
       "1            2         1       1   \n",
       "2            3         1       3   \n",
       "3            4         1       1   \n",
       "4            5         0       3   \n",
       "\n",
       "                                                Name     Sex   Age  SibSp  \\\n",
       "0                            Braund, Mr. Owen Harris    male  22.0      1   \n",
       "1  Cumings, Mrs. John Bradley (Florence Briggs Th...  female  38.0      1   \n",
       "2                             Heikkinen, Miss. Laina  female  26.0      0   \n",
       "3       Futrelle, Mrs. Jacques Heath (Lily May Peel)  female  35.0      1   \n",
       "4                           Allen, Mr. William Henry    male  35.0      0   \n",
       "\n",
       "   Parch            Ticket     Fare Embarked  \n",
       "0      0         A/5 21171   7.2500        S  \n",
       "1      0          PC 17599  71.2833        C  \n",
       "2      0  STON/O2. 3101282   7.9250        S  \n",
       "3      0            113803  53.1000        S  \n",
       "4      0            373450   8.0500        S  "
      ]
     },
     "execution_count": 138,
     "metadata": {},
     "output_type": "execute_result"
    }
   ],
   "source": [
    "train_data.head()"
   ]
  },
  {
   "cell_type": "markdown",
   "id": "f19872c9-e385-4c92-8ab0-0bd14af59e5b",
   "metadata": {},
   "source": [
    "**Fazladan olan (Gereksiz) Değişken Analizi**\n",
    "\n",
    "**SibSp:** her çift başına düşen çocuk sayısı\n",
    "\n",
    "**Parch:** çocuklar için evebeyn sayısı\n",
    "\n",
    "Gördüğünüz gibi, iki değişken de birbiri ile çok ilgili ve aralında yüksek oranda korelasyon var.\n",
    "\n",
    "Bu iki değişkeni tek bir değişken altında toplamak daha sağlıklı olacak: **Yanlız mı seyahat ediyor**\n",
    "\n",
    "Değişkenimizin adı **YalnizSeyahat** olsun. Ve bu kategorik bir değişken olacak. 0 veya 1."
   ]
  },
  {
   "cell_type": "code",
   "execution_count": 139,
   "id": "b08197b8-515b-4a1a-99a5-c50f7f717ea9",
   "metadata": {
    "tags": []
   },
   "outputs": [],
   "source": [
    "# SibSp ve Parch'a bakıp eğer ikisinin toplamı sıfır'dan büyükse o zaman yanlız seyahat etmiyordur -> 0 diyeceğiz\n",
    "# eğer toplamları sıfır ise o zaman yanlız seyahat ediyordur -> 1\n",
    "\n",
    "train_data[\"YalnizSeyahat\"]= np.where((train_data[\"SibSp\"]+ train_data[\"Parch\"])> 0,0,1)\n"
   ]
  },
  {
   "cell_type": "code",
   "execution_count": 140,
   "id": "ae6b2bd9-e304-4d42-b79d-04015af3480c",
   "metadata": {
    "tags": []
   },
   "outputs": [],
   "source": [
    "#Yeni tek bi sütın oluşturduğumuza göre diğerlerini atalım:\n",
    "\n",
    "train_data.drop(\"SibSp\", axis=1, inplace=True)\n",
    "train_data.drop(\"Parch\", axis=1, inplace=True)"
   ]
  },
  {
   "cell_type": "code",
   "execution_count": 141,
   "id": "fc03e163-a56b-47f7-ac92-e63bae268509",
   "metadata": {
    "tags": []
   },
   "outputs": [
    {
     "data": {
      "text/html": [
       "<div>\n",
       "<style scoped>\n",
       "    .dataframe tbody tr th:only-of-type {\n",
       "        vertical-align: middle;\n",
       "    }\n",
       "\n",
       "    .dataframe tbody tr th {\n",
       "        vertical-align: top;\n",
       "    }\n",
       "\n",
       "    .dataframe thead th {\n",
       "        text-align: right;\n",
       "    }\n",
       "</style>\n",
       "<table border=\"1\" class=\"dataframe\">\n",
       "  <thead>\n",
       "    <tr style=\"text-align: right;\">\n",
       "      <th></th>\n",
       "      <th>PassengerId</th>\n",
       "      <th>Survived</th>\n",
       "      <th>Pclass</th>\n",
       "      <th>Name</th>\n",
       "      <th>Sex</th>\n",
       "      <th>Age</th>\n",
       "      <th>Ticket</th>\n",
       "      <th>Fare</th>\n",
       "      <th>Embarked</th>\n",
       "      <th>YalnizSeyahat</th>\n",
       "    </tr>\n",
       "  </thead>\n",
       "  <tbody>\n",
       "    <tr>\n",
       "      <th>0</th>\n",
       "      <td>1</td>\n",
       "      <td>0</td>\n",
       "      <td>3</td>\n",
       "      <td>Braund, Mr. Owen Harris</td>\n",
       "      <td>male</td>\n",
       "      <td>22.0</td>\n",
       "      <td>A/5 21171</td>\n",
       "      <td>7.2500</td>\n",
       "      <td>S</td>\n",
       "      <td>0</td>\n",
       "    </tr>\n",
       "    <tr>\n",
       "      <th>1</th>\n",
       "      <td>2</td>\n",
       "      <td>1</td>\n",
       "      <td>1</td>\n",
       "      <td>Cumings, Mrs. John Bradley (Florence Briggs Th...</td>\n",
       "      <td>female</td>\n",
       "      <td>38.0</td>\n",
       "      <td>PC 17599</td>\n",
       "      <td>71.2833</td>\n",
       "      <td>C</td>\n",
       "      <td>0</td>\n",
       "    </tr>\n",
       "    <tr>\n",
       "      <th>2</th>\n",
       "      <td>3</td>\n",
       "      <td>1</td>\n",
       "      <td>3</td>\n",
       "      <td>Heikkinen, Miss. Laina</td>\n",
       "      <td>female</td>\n",
       "      <td>26.0</td>\n",
       "      <td>STON/O2. 3101282</td>\n",
       "      <td>7.9250</td>\n",
       "      <td>S</td>\n",
       "      <td>1</td>\n",
       "    </tr>\n",
       "    <tr>\n",
       "      <th>3</th>\n",
       "      <td>4</td>\n",
       "      <td>1</td>\n",
       "      <td>1</td>\n",
       "      <td>Futrelle, Mrs. Jacques Heath (Lily May Peel)</td>\n",
       "      <td>female</td>\n",
       "      <td>35.0</td>\n",
       "      <td>113803</td>\n",
       "      <td>53.1000</td>\n",
       "      <td>S</td>\n",
       "      <td>0</td>\n",
       "    </tr>\n",
       "    <tr>\n",
       "      <th>4</th>\n",
       "      <td>5</td>\n",
       "      <td>0</td>\n",
       "      <td>3</td>\n",
       "      <td>Allen, Mr. William Henry</td>\n",
       "      <td>male</td>\n",
       "      <td>35.0</td>\n",
       "      <td>373450</td>\n",
       "      <td>8.0500</td>\n",
       "      <td>S</td>\n",
       "      <td>1</td>\n",
       "    </tr>\n",
       "  </tbody>\n",
       "</table>\n",
       "</div>"
      ],
      "text/plain": [
       "   PassengerId  Survived  Pclass  \\\n",
       "0            1         0       3   \n",
       "1            2         1       1   \n",
       "2            3         1       3   \n",
       "3            4         1       1   \n",
       "4            5         0       3   \n",
       "\n",
       "                                                Name     Sex   Age  \\\n",
       "0                            Braund, Mr. Owen Harris    male  22.0   \n",
       "1  Cumings, Mrs. John Bradley (Florence Briggs Th...  female  38.0   \n",
       "2                             Heikkinen, Miss. Laina  female  26.0   \n",
       "3       Futrelle, Mrs. Jacques Heath (Lily May Peel)  female  35.0   \n",
       "4                           Allen, Mr. William Henry    male  35.0   \n",
       "\n",
       "             Ticket     Fare Embarked  YalnizSeyahat  \n",
       "0         A/5 21171   7.2500        S              0  \n",
       "1          PC 17599  71.2833        C              0  \n",
       "2  STON/O2. 3101282   7.9250        S              1  \n",
       "3            113803  53.1000        S              0  \n",
       "4            373450   8.0500        S              1  "
      ]
     },
     "execution_count": 141,
     "metadata": {},
     "output_type": "execute_result"
    }
   ],
   "source": [
    "train_data.head()"
   ]
  },
  {
   "cell_type": "markdown",
   "id": "e23f3f54-4151-4f4e-8cdf-5d9086d43341",
   "metadata": {},
   "source": [
    "**Kategorik Değişkenler**"
   ]
  },
  {
   "cell_type": "code",
   "execution_count": 142,
   "id": "f788420a-8a8d-47a7-8050-93725ff16e83",
   "metadata": {
    "tags": []
   },
   "outputs": [
    {
     "data": {
      "text/html": [
       "<div>\n",
       "<style scoped>\n",
       "    .dataframe tbody tr th:only-of-type {\n",
       "        vertical-align: middle;\n",
       "    }\n",
       "\n",
       "    .dataframe tbody tr th {\n",
       "        vertical-align: top;\n",
       "    }\n",
       "\n",
       "    .dataframe thead th {\n",
       "        text-align: right;\n",
       "    }\n",
       "</style>\n",
       "<table border=\"1\" class=\"dataframe\">\n",
       "  <thead>\n",
       "    <tr style=\"text-align: right;\">\n",
       "      <th></th>\n",
       "      <th>PassengerId</th>\n",
       "      <th>Survived</th>\n",
       "      <th>Pclass</th>\n",
       "      <th>Name</th>\n",
       "      <th>Sex</th>\n",
       "      <th>Age</th>\n",
       "      <th>Ticket</th>\n",
       "      <th>Fare</th>\n",
       "      <th>Embarked</th>\n",
       "      <th>YalnizSeyahat</th>\n",
       "    </tr>\n",
       "  </thead>\n",
       "  <tbody>\n",
       "    <tr>\n",
       "      <th>0</th>\n",
       "      <td>1</td>\n",
       "      <td>0</td>\n",
       "      <td>3</td>\n",
       "      <td>Braund, Mr. Owen Harris</td>\n",
       "      <td>male</td>\n",
       "      <td>22.0</td>\n",
       "      <td>A/5 21171</td>\n",
       "      <td>7.2500</td>\n",
       "      <td>S</td>\n",
       "      <td>0</td>\n",
       "    </tr>\n",
       "    <tr>\n",
       "      <th>1</th>\n",
       "      <td>2</td>\n",
       "      <td>1</td>\n",
       "      <td>1</td>\n",
       "      <td>Cumings, Mrs. John Bradley (Florence Briggs Th...</td>\n",
       "      <td>female</td>\n",
       "      <td>38.0</td>\n",
       "      <td>PC 17599</td>\n",
       "      <td>71.2833</td>\n",
       "      <td>C</td>\n",
       "      <td>0</td>\n",
       "    </tr>\n",
       "    <tr>\n",
       "      <th>2</th>\n",
       "      <td>3</td>\n",
       "      <td>1</td>\n",
       "      <td>3</td>\n",
       "      <td>Heikkinen, Miss. Laina</td>\n",
       "      <td>female</td>\n",
       "      <td>26.0</td>\n",
       "      <td>STON/O2. 3101282</td>\n",
       "      <td>7.9250</td>\n",
       "      <td>S</td>\n",
       "      <td>1</td>\n",
       "    </tr>\n",
       "    <tr>\n",
       "      <th>3</th>\n",
       "      <td>4</td>\n",
       "      <td>1</td>\n",
       "      <td>1</td>\n",
       "      <td>Futrelle, Mrs. Jacques Heath (Lily May Peel)</td>\n",
       "      <td>female</td>\n",
       "      <td>35.0</td>\n",
       "      <td>113803</td>\n",
       "      <td>53.1000</td>\n",
       "      <td>S</td>\n",
       "      <td>0</td>\n",
       "    </tr>\n",
       "    <tr>\n",
       "      <th>4</th>\n",
       "      <td>5</td>\n",
       "      <td>0</td>\n",
       "      <td>3</td>\n",
       "      <td>Allen, Mr. William Henry</td>\n",
       "      <td>male</td>\n",
       "      <td>35.0</td>\n",
       "      <td>373450</td>\n",
       "      <td>8.0500</td>\n",
       "      <td>S</td>\n",
       "      <td>1</td>\n",
       "    </tr>\n",
       "  </tbody>\n",
       "</table>\n",
       "</div>"
      ],
      "text/plain": [
       "   PassengerId  Survived  Pclass  \\\n",
       "0            1         0       3   \n",
       "1            2         1       1   \n",
       "2            3         1       3   \n",
       "3            4         1       1   \n",
       "4            5         0       3   \n",
       "\n",
       "                                                Name     Sex   Age  \\\n",
       "0                            Braund, Mr. Owen Harris    male  22.0   \n",
       "1  Cumings, Mrs. John Bradley (Florence Briggs Th...  female  38.0   \n",
       "2                             Heikkinen, Miss. Laina  female  26.0   \n",
       "3       Futrelle, Mrs. Jacques Heath (Lily May Peel)  female  35.0   \n",
       "4                           Allen, Mr. William Henry    male  35.0   \n",
       "\n",
       "             Ticket     Fare Embarked  YalnizSeyahat  \n",
       "0         A/5 21171   7.2500        S              0  \n",
       "1          PC 17599  71.2833        C              0  \n",
       "2  STON/O2. 3101282   7.9250        S              1  \n",
       "3            113803  53.1000        S              0  \n",
       "4            373450   8.0500        S              1  "
      ]
     },
     "execution_count": 142,
     "metadata": {},
     "output_type": "execute_result"
    }
   ],
   "source": [
    "train_data.head()"
   ]
  },
  {
   "cell_type": "code",
   "execution_count": 143,
   "id": "f0ab72a7-b70a-4c7d-ba5d-feebe7133fd2",
   "metadata": {
    "tags": []
   },
   "outputs": [],
   "source": [
    "#get_dummies() ile encode edelim\n",
    "\n",
    "train_data = pd.get_dummies(train_data, columns=[\"Pclass\",\"Embarked\",\"Sex\"],drop_first=True)"
   ]
  },
  {
   "cell_type": "code",
   "execution_count": 144,
   "id": "4eba8ddc-fd38-49a8-910e-abc8cf61ca72",
   "metadata": {
    "tags": []
   },
   "outputs": [],
   "source": [
    "#Algoritmamızla bir ilgisi olamdığı için \"PassengerId\", \"Name\" ve \"Ticket\" sütunlarını atalım.\n",
    "\n",
    "train_data.drop(\"PassengerId\", axis=1, inplace=True)\n",
    "train_data.drop('Name', axis=1, inplace=True)\n",
    "train_data.drop('Ticket', axis=1, inplace=True)"
   ]
  },
  {
   "cell_type": "code",
   "execution_count": 145,
   "id": "3920d5f2-cbd5-449e-bf43-a29c7fad7b9e",
   "metadata": {
    "tags": []
   },
   "outputs": [
    {
     "data": {
      "text/html": [
       "<div>\n",
       "<style scoped>\n",
       "    .dataframe tbody tr th:only-of-type {\n",
       "        vertical-align: middle;\n",
       "    }\n",
       "\n",
       "    .dataframe tbody tr th {\n",
       "        vertical-align: top;\n",
       "    }\n",
       "\n",
       "    .dataframe thead th {\n",
       "        text-align: right;\n",
       "    }\n",
       "</style>\n",
       "<table border=\"1\" class=\"dataframe\">\n",
       "  <thead>\n",
       "    <tr style=\"text-align: right;\">\n",
       "      <th></th>\n",
       "      <th>Survived</th>\n",
       "      <th>Age</th>\n",
       "      <th>Fare</th>\n",
       "      <th>YalnizSeyahat</th>\n",
       "      <th>Pclass_2</th>\n",
       "      <th>Pclass_3</th>\n",
       "      <th>Embarked_Q</th>\n",
       "      <th>Embarked_S</th>\n",
       "      <th>Sex_male</th>\n",
       "    </tr>\n",
       "  </thead>\n",
       "  <tbody>\n",
       "    <tr>\n",
       "      <th>0</th>\n",
       "      <td>0</td>\n",
       "      <td>22.0</td>\n",
       "      <td>7.2500</td>\n",
       "      <td>0</td>\n",
       "      <td>False</td>\n",
       "      <td>True</td>\n",
       "      <td>False</td>\n",
       "      <td>True</td>\n",
       "      <td>True</td>\n",
       "    </tr>\n",
       "    <tr>\n",
       "      <th>1</th>\n",
       "      <td>1</td>\n",
       "      <td>38.0</td>\n",
       "      <td>71.2833</td>\n",
       "      <td>0</td>\n",
       "      <td>False</td>\n",
       "      <td>False</td>\n",
       "      <td>False</td>\n",
       "      <td>False</td>\n",
       "      <td>False</td>\n",
       "    </tr>\n",
       "    <tr>\n",
       "      <th>2</th>\n",
       "      <td>1</td>\n",
       "      <td>26.0</td>\n",
       "      <td>7.9250</td>\n",
       "      <td>1</td>\n",
       "      <td>False</td>\n",
       "      <td>True</td>\n",
       "      <td>False</td>\n",
       "      <td>True</td>\n",
       "      <td>False</td>\n",
       "    </tr>\n",
       "    <tr>\n",
       "      <th>3</th>\n",
       "      <td>1</td>\n",
       "      <td>35.0</td>\n",
       "      <td>53.1000</td>\n",
       "      <td>0</td>\n",
       "      <td>False</td>\n",
       "      <td>False</td>\n",
       "      <td>False</td>\n",
       "      <td>True</td>\n",
       "      <td>False</td>\n",
       "    </tr>\n",
       "    <tr>\n",
       "      <th>4</th>\n",
       "      <td>0</td>\n",
       "      <td>35.0</td>\n",
       "      <td>8.0500</td>\n",
       "      <td>1</td>\n",
       "      <td>False</td>\n",
       "      <td>True</td>\n",
       "      <td>False</td>\n",
       "      <td>True</td>\n",
       "      <td>True</td>\n",
       "    </tr>\n",
       "  </tbody>\n",
       "</table>\n",
       "</div>"
      ],
      "text/plain": [
       "   Survived   Age     Fare  YalnizSeyahat  Pclass_2  Pclass_3  Embarked_Q  \\\n",
       "0         0  22.0   7.2500              0     False      True       False   \n",
       "1         1  38.0  71.2833              0     False     False       False   \n",
       "2         1  26.0   7.9250              1     False      True       False   \n",
       "3         1  35.0  53.1000              0     False     False       False   \n",
       "4         0  35.0   8.0500              1     False      True       False   \n",
       "\n",
       "   Embarked_S  Sex_male  \n",
       "0        True      True  \n",
       "1       False     False  \n",
       "2        True     False  \n",
       "3        True     False  \n",
       "4        True      True  "
      ]
     },
     "execution_count": 145,
     "metadata": {},
     "output_type": "execute_result"
    }
   ],
   "source": [
    "train_data.head(5)"
   ]
  },
  {
   "cell_type": "markdown",
   "id": "2e3c2e83-3143-48e1-8571-2d0eaa6e8641",
   "metadata": {},
   "source": [
    "**Exploratory Data Analysis (EDA)**"
   ]
  },
  {
   "cell_type": "code",
   "execution_count": 146,
   "id": "286a98a1-f63e-4730-9b3c-816bca3cd3b6",
   "metadata": {
    "tags": []
   },
   "outputs": [
    {
     "data": {
      "text/plain": [
       "(891, 9)"
      ]
     },
     "execution_count": 146,
     "metadata": {},
     "output_type": "execute_result"
    }
   ],
   "source": [
    "#EDA= Görsel Veri Analizi\n",
    "\n",
    "train_data.shape"
   ]
  },
  {
   "cell_type": "code",
   "execution_count": 147,
   "id": "3f423dfa-b713-431f-9bc9-d905991dce12",
   "metadata": {},
   "outputs": [
    {
     "name": "stdout",
     "output_type": "stream",
     "text": [
      "Train data içindeki toplam veri adedi:  891\n"
     ]
    }
   ],
   "source": [
    "# train data içindeki toplam veri adedi\n",
    "\n",
    "print(\"Train data içindeki toplam veri adedi: \", train_data.shape[0])"
   ]
  },
  {
   "cell_type": "code",
   "execution_count": 148,
   "id": "4f6eeaa6-85b0-4411-a43b-ad49ef6ae982",
   "metadata": {
    "tags": []
   },
   "outputs": [
    {
     "data": {
      "text/plain": [
       "Index(['Survived', 'Age', 'Fare', 'YalnizSeyahat', 'Pclass_2', 'Pclass_3',\n",
       "       'Embarked_Q', 'Embarked_S', 'Sex_male'],\n",
       "      dtype='object')"
      ]
     },
     "execution_count": 148,
     "metadata": {},
     "output_type": "execute_result"
    }
   ],
   "source": [
    "# sütun adları -> train\n",
    "\n",
    "col_names= train_data.columns\n",
    "col_names"
   ]
  },
  {
   "cell_type": "markdown",
   "id": "9ef1a625-8d07-4cda-8520-8ba2281bc571",
   "metadata": {},
   "source": [
    "**Age için EDA**"
   ]
  },
  {
   "cell_type": "code",
   "execution_count": 149,
   "id": "af08d04e-ab49-4a70-a8c7-4b3968393a3f",
   "metadata": {
    "tags": []
   },
   "outputs": [
    {
     "data": {
      "image/png": "[encoded data removed]",
      "text/plain": [
       "<Figure size 1200x800 with 1 Axes>"
      ]
     },
     "metadata": {},
     "output_type": "display_data"
    }
   ],
   "source": [
    "plt.figure(figsize=(12,8))\n",
    "\n",
    "# Hayatta kalanlar -> Survived == 1\n",
    "ax= sns.kdeplot(train_data[\"Age\"][train_data.Survived == 1], color=\"green\", shade=True)\n",
    "\n",
    "# Ölenler -> Survived == 0\n",
    "ax= sns.kdeplot(train_data[\"Age\"][train_data.Survived == 0], color=\"red\", shade=True)\n",
    "\n",
    "plt.legend([\"Survived\", \"Died\"])\n",
    "plt.title(\"Yaş (Age) için hayatta kalma ve ölüm yoğunluk grafiği\")\n",
    "ax.set(xlabel=\"Age\")\n",
    "plt.xlim(-10,25)\n",
    "plt.show()"
   ]
  },
  {
   "cell_type": "code",
   "execution_count": null,
   "id": "cd8cfd36-32eb-4ac7-9600-cf4c7f80c7c8",
   "metadata": {},
   "outputs": [],
   "source": []
  }
 ],
 "metadata": {
  "kernelspec": {
   "display_name": "Python 3 (ipykernel)",
   "language": "python",
   "name": "python3"
  },
  "language_info": {
   "codemirror_mode": {
    "name": "ipython",
    "version": 3
   },
   "file_extension": ".py",
   "mimetype": "text/x-python",
   "name": "python",
   "nbconvert_exporter": "python",
   "pygments_lexer": "ipython3",
   "version": "3.10.9"
  }
 },
 "nbformat": 4,
 "nbformat_minor": 5
}

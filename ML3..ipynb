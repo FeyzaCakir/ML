{
 "cells": [
  {
   "cell_type": "code",
   "execution_count": 1,
   "id": "d0327e6f-9f0e-4743-87cf-31a6ecd2f2ec",
   "metadata": {},
   "outputs": [],
   "source": [
    "#Gerekli kütüphaneleri import ettik\n",
    "import pandas as pd\n",
    "import matplotlib.pyplot as plt\n",
    "from sklearn.linear_model import LinearRegression #doğrusal regresyon"
   ]
  },
  {
   "cell_type": "code",
   "execution_count": 2,
   "id": "af305fa5-f780-44d1-8e6c-74a87fd42f6f",
   "metadata": {},
   "outputs": [],
   "source": [
    "#Datayı oku\n",
    "df=pd.read_csv(\"data/Advertising.csv\", index_col=0)#ilk index yerini almıyor"
   ]
  },
  {
   "cell_type": "code",
   "execution_count": 4,
   "id": "fd548ffc-f560-4a8e-b04f-dfdce5bc8293",
   "metadata": {},
   "outputs": [
    {
     "data": {
      "text/html": [
       "<div>\n",
       "<style scoped>\n",
       "    .dataframe tbody tr th:only-of-type {\n",
       "        vertical-align: middle;\n",
       "    }\n",
       "\n",
       "    .dataframe tbody tr th {\n",
       "        vertical-align: top;\n",
       "    }\n",
       "\n",
       "    .dataframe thead th {\n",
       "        text-align: right;\n",
       "    }\n",
       "</style>\n",
       "<table border=\"1\" class=\"dataframe\">\n",
       "  <thead>\n",
       "    <tr style=\"text-align: right;\">\n",
       "      <th></th>\n",
       "      <th>TV</th>\n",
       "      <th>radio</th>\n",
       "      <th>newspaper</th>\n",
       "      <th>sales</th>\n",
       "    </tr>\n",
       "  </thead>\n",
       "  <tbody>\n",
       "    <tr>\n",
       "      <th>count</th>\n",
       "      <td>200.000000</td>\n",
       "      <td>200.000000</td>\n",
       "      <td>200.000000</td>\n",
       "      <td>200.000000</td>\n",
       "    </tr>\n",
       "    <tr>\n",
       "      <th>mean</th>\n",
       "      <td>147.042500</td>\n",
       "      <td>23.264000</td>\n",
       "      <td>30.554000</td>\n",
       "      <td>14.022500</td>\n",
       "    </tr>\n",
       "    <tr>\n",
       "      <th>std</th>\n",
       "      <td>85.854236</td>\n",
       "      <td>14.846809</td>\n",
       "      <td>21.778621</td>\n",
       "      <td>5.217457</td>\n",
       "    </tr>\n",
       "    <tr>\n",
       "      <th>min</th>\n",
       "      <td>0.700000</td>\n",
       "      <td>0.000000</td>\n",
       "      <td>0.300000</td>\n",
       "      <td>1.600000</td>\n",
       "    </tr>\n",
       "    <tr>\n",
       "      <th>25%</th>\n",
       "      <td>74.375000</td>\n",
       "      <td>9.975000</td>\n",
       "      <td>12.750000</td>\n",
       "      <td>10.375000</td>\n",
       "    </tr>\n",
       "    <tr>\n",
       "      <th>50%</th>\n",
       "      <td>149.750000</td>\n",
       "      <td>22.900000</td>\n",
       "      <td>25.750000</td>\n",
       "      <td>12.900000</td>\n",
       "    </tr>\n",
       "    <tr>\n",
       "      <th>75%</th>\n",
       "      <td>218.825000</td>\n",
       "      <td>36.525000</td>\n",
       "      <td>45.100000</td>\n",
       "      <td>17.400000</td>\n",
       "    </tr>\n",
       "    <tr>\n",
       "      <th>max</th>\n",
       "      <td>296.400000</td>\n",
       "      <td>49.600000</td>\n",
       "      <td>114.000000</td>\n",
       "      <td>27.000000</td>\n",
       "    </tr>\n",
       "  </tbody>\n",
       "</table>\n",
       "</div>"
      ],
      "text/plain": [
       "               TV       radio   newspaper       sales\n",
       "count  200.000000  200.000000  200.000000  200.000000\n",
       "mean   147.042500   23.264000   30.554000   14.022500\n",
       "std     85.854236   14.846809   21.778621    5.217457\n",
       "min      0.700000    0.000000    0.300000    1.600000\n",
       "25%     74.375000    9.975000   12.750000   10.375000\n",
       "50%    149.750000   22.900000   25.750000   12.900000\n",
       "75%    218.825000   36.525000   45.100000   17.400000\n",
       "max    296.400000   49.600000  114.000000   27.000000"
      ]
     },
     "execution_count": 4,
     "metadata": {},
     "output_type": "execute_result"
    }
   ],
   "source": [
    "df.describe()"
   ]
  },
  {
   "cell_type": "code",
   "execution_count": 3,
   "id": "f618b2e7-664d-4a2e-9598-d9e0765b9c0c",
   "metadata": {},
   "outputs": [],
   "source": [
    "#Girdiler\n",
    "X_1=df[\"TV\"]\n",
    "X_2=df[\"radio\"]\n",
    "X_3=df[\"newspaper\"]"
   ]
  },
  {
   "cell_type": "code",
   "execution_count": 4,
   "id": "e526f113-5983-42f3-856f-f3cc39359b6c",
   "metadata": {},
   "outputs": [
    {
     "data": {
      "text/plain": [
       "(200,)"
      ]
     },
     "execution_count": 4,
     "metadata": {},
     "output_type": "execute_result"
    }
   ],
   "source": [
    "type(X_1) #series tipi\n",
    "X_1.shape #Burda satır sayısını aldık ve düz bi liste geldi regresyon için vektor olmalı"
   ]
  },
  {
   "cell_type": "code",
   "execution_count": 20,
   "id": "ef795751-5020-4020-81d3-59768e1a783a",
   "metadata": {},
   "outputs": [],
   "source": [
    "#output\n",
    "y=df[\"sales\"]"
   ]
  },
  {
   "cell_type": "code",
   "execution_count": 21,
   "id": "8bf9cc8b-534d-4916-83fd-c11e77526492",
   "metadata": {},
   "outputs": [],
   "source": [
    "# regresyon için hazırlık yap\n",
    "linear_regressor= LinearRegression() #Bu sınıftan bi örnek aldık."
   ]
  },
  {
   "cell_type": "code",
   "execution_count": 22,
   "id": "6fbeef95-3af9-44c9-ae78-a0b07d4761ce",
   "metadata": {},
   "outputs": [],
   "source": [
    "# dataframe'lerin şeklini düzenle -> output\n",
    "y_r = y.values.reshape(-1, 1) #yeniden şekillendirdi yanına bir sütun ekledi"
   ]
  },
  {
   "cell_type": "code",
   "execution_count": 23,
   "id": "e271e673-4b9d-4feb-ab10-2db3dd8b290d",
   "metadata": {},
   "outputs": [
    {
     "data": {
      "text/plain": [
       "(200,)"
      ]
     },
     "execution_count": 23,
     "metadata": {},
     "output_type": "execute_result"
    }
   ],
   "source": [
    "# orjinal çıktının şekli\n",
    "# satır, sütun\n",
    "y.shape"
   ]
  },
  {
   "cell_type": "code",
   "execution_count": 24,
   "id": "421b6903-5b84-4b3a-9ec2-3e3c18b92163",
   "metadata": {},
   "outputs": [
    {
     "data": {
      "text/plain": [
       "(200, 1)"
      ]
     },
     "execution_count": 24,
     "metadata": {},
     "output_type": "execute_result"
    }
   ],
   "source": [
    "# yeniden boyutlanmış çıktının şekli\n",
    "y_r.shape #y_r arık bir vektör oldu doğrusal değil."
   ]
  },
  {
   "cell_type": "code",
   "execution_count": 25,
   "id": "98334ce3-e85c-4f19-89e1-3cb0fe3a6798",
   "metadata": {},
   "outputs": [],
   "source": [
    "#Girdileri yeniden biçimlendirme\n",
    "X_1_r= X_1.values.reshape(-1,1)\n",
    "X_2_r= X_2.values.reshape(-1,1)\n",
    "X_3_r= X_3.values.reshape(-1,1)"
   ]
  },
  {
   "cell_type": "code",
   "execution_count": 27,
   "id": "43592f15-e13c-4e27-a4ff-96275200d062",
   "metadata": {
    "tags": []
   },
   "outputs": [
    {
     "data": {
      "image/png": "[encoded data removed]",
      "text/plain": [
       "<Figure size 864x576 with 1 Axes>"
      ]
     },
     "metadata": {
      "needs_background": "light"
     },
     "output_type": "display_data"
    }
   ],
   "source": [
    "#Satış - TV ilişkisi\n",
    "plt.subplots(figsize=(12,8))\n",
    "plt.scatter(X_1,y, c=\"orange\")\n",
    "plt.xlabel(\"TV\")\n",
    "plt.ylabel(\"Satış\")\n",
    "plt.title(\"SATIŞ - TV\")\n",
    "\n",
    "# regresyon\n",
    "linear_regressor.fit(X_1_r, y_r) #fit=uygun\n",
    "y_pred_1 = linear_regressor.predict(X_1_r) #predict=tahmin etmek\n",
    "plt.plot(X_1, y_pred_1, color='blue')\n",
    "\n",
    "plt.show()"
   ]
  },
  {
   "cell_type": "code",
   "execution_count": 52,
   "id": "3feae44c-eb84-4a13-a3f0-f90331ef97d9",
   "metadata": {},
   "outputs": [
    {
     "data": {
      "image/png": "[encoded data removed]",
      "text/plain": [
       "<Figure size 432x288 with 1 Axes>"
      ]
     },
     "metadata": {
      "needs_background": "light"
     },
     "output_type": "display_data"
    }
   ],
   "source": [
    "#Satış - Radio ilişkisi\n",
    "plt.scatter(X_2, y, c=\"black\")\n",
    "plt.xlabel(\"RADIO\")\n",
    "plt.ylabel(\"SATIŞ\")\n",
    "plt.title(\"SATIŞ - RADIO\")\n",
    "\n",
    "#regresyon\n",
    "linear_regressor.fit(X_2_r, y_r)\n",
    "y_pred_2= linear_regressor.predict(X_2_r)\n",
    "plt.plot(X_2, y_pred_2, c=\"red\")\n",
    "plt.show()"
   ]
  },
  {
   "cell_type": "code",
   "execution_count": 28,
   "id": "78165f60-96eb-4139-b3c1-a3907eb5cce9",
   "metadata": {},
   "outputs": [
    {
     "data": {
      "image/png": "[encoded data removed]",
      "text/plain": [
       "<Figure size 864x576 with 1 Axes>"
      ]
     },
     "metadata": {
      "needs_background": "light"
     },
     "output_type": "display_data"
    }
   ],
   "source": [
    "#Satış - Newspaper ilişkisi\n",
    "plt.subplots(figsize=(12,8))\n",
    "plt.scatter(X_3, y, c=\"purple\")\n",
    "plt.xlabel(\"NEWSPAPER\")\n",
    "plt.ylabel(\"SALES\")\n",
    "plt.title(\"NEWSPAPER - SALES\")\n",
    "\n",
    "#regresyon\n",
    "linear_regressor.fit(X_3_r, y_r)\n",
    "y_pred_3= linear_regressor.predict(X_3_r)\n",
    "plt.plot(X_3, y_pred_3, c=\"yellow\")\n",
    "plt.show()"
   ]
  }
 ],
 "metadata": {
  "kernelspec": {
   "display_name": "Python 3 (ipykernel)",
   "language": "python",
   "name": "python3"
  },
  "language_info": {
   "codemirror_mode": {
    "name": "ipython",
    "version": 3
   },
   "file_extension": ".py",
   "mimetype": "text/x-python",
   "name": "python",
   "nbconvert_exporter": "python",
   "pygments_lexer": "ipython3",
   "version": "3.10.9"
  }
 },
 "nbformat": 4,
 "nbformat_minor": 5
}

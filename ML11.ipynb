{
 "cells": [
  {
   "cell_type": "code",
   "execution_count": 1,
   "id": "6d62e211-3aef-4b41-be71-23d9db79ca76",
   "metadata": {},
   "outputs": [],
   "source": [
    "import numpy as np\n",
    "import pandas as pd\n",
    "import matplotlib.pyplot as plt\n",
    "import seaborn as sns\n",
    "\n",
    "import warnings \n",
    "warnings.filterwarnings(\"ignore\")"
   ]
  },
  {
   "cell_type": "code",
   "execution_count": 2,
   "id": "661c813e-cce7-49dc-81df-0b9989e56768",
   "metadata": {
    "tags": []
   },
   "outputs": [],
   "source": [
    "\"\"\" header parametresi, veri setinin sütun başlıklarının nerede başladığını\n",
    "belirtir. Eğer header=None olarak ayarlanırsa, pandas, dosyada sütun başlıkları \n",
    "olmadığını varsayar ve sütunları sıralı sayılarla indeksler. Örneğin, ilk \n",
    "sütun 0, ikinci sütun 1 gibi. Bu durumda, sütunlar manuel olarak isimlendirilmelidir.\n",
    "Bizim datamızdada header yok ve pandas ilk satırı header zannetmesin diye yok dedik\"\"\"\n",
    "df= pd.read_csv(\"wine.data\", header=None)"
   ]
  },
  {
   "cell_type": "markdown",
   "id": "bff3815f-e7ee-4e6d-91bb-dc285e021f1a",
   "metadata": {},
   "source": [
    "**Data İnceleme**"
   ]
  },
  {
   "cell_type": "code",
   "execution_count": 3,
   "id": "88a662c7-fa24-4968-b3ba-116334d4e142",
   "metadata": {
    "tags": []
   },
   "outputs": [
    {
     "data": {
      "text/plain": [
       "(178, 14)"
      ]
     },
     "execution_count": 3,
     "metadata": {},
     "output_type": "execute_result"
    }
   ],
   "source": [
    "df.shape"
   ]
  },
  {
   "cell_type": "code",
   "execution_count": 4,
   "id": "55a4e780-0bdb-44c7-baa3-12cee6cb432a",
   "metadata": {
    "tags": []
   },
   "outputs": [
    {
     "data": {
      "text/html": [
       "<div>\n",
       "<style scoped>\n",
       "    .dataframe tbody tr th:only-of-type {\n",
       "        vertical-align: middle;\n",
       "    }\n",
       "\n",
       "    .dataframe tbody tr th {\n",
       "        vertical-align: top;\n",
       "    }\n",
       "\n",
       "    .dataframe thead th {\n",
       "        text-align: right;\n",
       "    }\n",
       "</style>\n",
       "<table border=\"1\" class=\"dataframe\">\n",
       "  <thead>\n",
       "    <tr style=\"text-align: right;\">\n",
       "      <th></th>\n",
       "      <th>0</th>\n",
       "      <th>1</th>\n",
       "      <th>2</th>\n",
       "      <th>3</th>\n",
       "      <th>4</th>\n",
       "      <th>5</th>\n",
       "      <th>6</th>\n",
       "      <th>7</th>\n",
       "      <th>8</th>\n",
       "      <th>9</th>\n",
       "      <th>10</th>\n",
       "      <th>11</th>\n",
       "      <th>12</th>\n",
       "      <th>13</th>\n",
       "    </tr>\n",
       "  </thead>\n",
       "  <tbody>\n",
       "    <tr>\n",
       "      <th>0</th>\n",
       "      <td>1</td>\n",
       "      <td>14.23</td>\n",
       "      <td>1.71</td>\n",
       "      <td>2.43</td>\n",
       "      <td>15.6</td>\n",
       "      <td>127</td>\n",
       "      <td>2.80</td>\n",
       "      <td>3.06</td>\n",
       "      <td>0.28</td>\n",
       "      <td>2.29</td>\n",
       "      <td>5.64</td>\n",
       "      <td>1.04</td>\n",
       "      <td>3.92</td>\n",
       "      <td>1065</td>\n",
       "    </tr>\n",
       "    <tr>\n",
       "      <th>1</th>\n",
       "      <td>1</td>\n",
       "      <td>13.20</td>\n",
       "      <td>1.78</td>\n",
       "      <td>2.14</td>\n",
       "      <td>11.2</td>\n",
       "      <td>100</td>\n",
       "      <td>2.65</td>\n",
       "      <td>2.76</td>\n",
       "      <td>0.26</td>\n",
       "      <td>1.28</td>\n",
       "      <td>4.38</td>\n",
       "      <td>1.05</td>\n",
       "      <td>3.40</td>\n",
       "      <td>1050</td>\n",
       "    </tr>\n",
       "    <tr>\n",
       "      <th>2</th>\n",
       "      <td>1</td>\n",
       "      <td>13.16</td>\n",
       "      <td>2.36</td>\n",
       "      <td>2.67</td>\n",
       "      <td>18.6</td>\n",
       "      <td>101</td>\n",
       "      <td>2.80</td>\n",
       "      <td>3.24</td>\n",
       "      <td>0.30</td>\n",
       "      <td>2.81</td>\n",
       "      <td>5.68</td>\n",
       "      <td>1.03</td>\n",
       "      <td>3.17</td>\n",
       "      <td>1185</td>\n",
       "    </tr>\n",
       "    <tr>\n",
       "      <th>3</th>\n",
       "      <td>1</td>\n",
       "      <td>14.37</td>\n",
       "      <td>1.95</td>\n",
       "      <td>2.50</td>\n",
       "      <td>16.8</td>\n",
       "      <td>113</td>\n",
       "      <td>3.85</td>\n",
       "      <td>3.49</td>\n",
       "      <td>0.24</td>\n",
       "      <td>2.18</td>\n",
       "      <td>7.80</td>\n",
       "      <td>0.86</td>\n",
       "      <td>3.45</td>\n",
       "      <td>1480</td>\n",
       "    </tr>\n",
       "    <tr>\n",
       "      <th>4</th>\n",
       "      <td>1</td>\n",
       "      <td>13.24</td>\n",
       "      <td>2.59</td>\n",
       "      <td>2.87</td>\n",
       "      <td>21.0</td>\n",
       "      <td>118</td>\n",
       "      <td>2.80</td>\n",
       "      <td>2.69</td>\n",
       "      <td>0.39</td>\n",
       "      <td>1.82</td>\n",
       "      <td>4.32</td>\n",
       "      <td>1.04</td>\n",
       "      <td>2.93</td>\n",
       "      <td>735</td>\n",
       "    </tr>\n",
       "  </tbody>\n",
       "</table>\n",
       "</div>"
      ],
      "text/plain": [
       "   0      1     2     3     4    5     6     7     8     9     10    11    12  \\\n",
       "0   1  14.23  1.71  2.43  15.6  127  2.80  3.06  0.28  2.29  5.64  1.04  3.92   \n",
       "1   1  13.20  1.78  2.14  11.2  100  2.65  2.76  0.26  1.28  4.38  1.05  3.40   \n",
       "2   1  13.16  2.36  2.67  18.6  101  2.80  3.24  0.30  2.81  5.68  1.03  3.17   \n",
       "3   1  14.37  1.95  2.50  16.8  113  3.85  3.49  0.24  2.18  7.80  0.86  3.45   \n",
       "4   1  13.24  2.59  2.87  21.0  118  2.80  2.69  0.39  1.82  4.32  1.04  2.93   \n",
       "\n",
       "     13  \n",
       "0  1065  \n",
       "1  1050  \n",
       "2  1185  \n",
       "3  1480  \n",
       "4   735  "
      ]
     },
     "execution_count": 4,
     "metadata": {},
     "output_type": "execute_result"
    }
   ],
   "source": [
    "df.head()"
   ]
  },
  {
   "cell_type": "code",
   "execution_count": 4,
   "id": "d735f262-276f-409d-8e70-b2aea1f6f52d",
   "metadata": {
    "tags": []
   },
   "outputs": [
    {
     "data": {
      "text/plain": [
       "Index(['class', 'Alcohol', 'Malic acid', 'Ash', 'Alcalinity of ash',\n",
       "       'Magnesium', 'Total phenols', 'Flavanoids', 'Nonflavanoid phenols',\n",
       "       'Proanthocyanins', 'Color intensity', 'Hue',\n",
       "       'OD280/OD315 of diluted wines', 'Proline'],\n",
       "      dtype='object')"
      ]
     },
     "execution_count": 4,
     "metadata": {},
     "output_type": "execute_result"
    }
   ],
   "source": [
    "#Burada datayı biz düzenliyoruz bu yüzden şimdi sütun isimleri eklememiz gerek.\n",
    "col_names=[\n",
    "    \"class\",\n",
    "    \"Alcohol\",\n",
    " \t\"Malic acid\",\n",
    " \t\"Ash\",\n",
    "\t\"Alcalinity of ash\",\n",
    " \t\"Magnesium\",\n",
    "\t\"Total phenols\",\n",
    " \t\"Flavanoids\",\n",
    " \t\"Nonflavanoid phenols\",\n",
    " \t\"Proanthocyanins\",\n",
    "\t\"Color intensity\",\n",
    " \t\"Hue\",\n",
    " \t\"OD280/OD315 of diluted wines\",\n",
    " \t\"Proline\"\n",
    "]\n",
    "\n",
    "df.columns =col_names\n",
    "df.columns"
   ]
  },
  {
   "cell_type": "code",
   "execution_count": 6,
   "id": "92b5a0f1-1398-4bd4-b7b8-da2585fe198a",
   "metadata": {
    "tags": []
   },
   "outputs": [
    {
     "data": {
      "text/html": [
       "<div>\n",
       "<style scoped>\n",
       "    .dataframe tbody tr th:only-of-type {\n",
       "        vertical-align: middle;\n",
       "    }\n",
       "\n",
       "    .dataframe tbody tr th {\n",
       "        vertical-align: top;\n",
       "    }\n",
       "\n",
       "    .dataframe thead th {\n",
       "        text-align: right;\n",
       "    }\n",
       "</style>\n",
       "<table border=\"1\" class=\"dataframe\">\n",
       "  <thead>\n",
       "    <tr style=\"text-align: right;\">\n",
       "      <th></th>\n",
       "      <th>class</th>\n",
       "      <th>Alcohol</th>\n",
       "      <th>Malic acid</th>\n",
       "      <th>Ash</th>\n",
       "      <th>Alcalinity of ash</th>\n",
       "      <th>Magnesium</th>\n",
       "      <th>Total phenols</th>\n",
       "      <th>Flavanoids</th>\n",
       "      <th>Nonflavanoid phenols</th>\n",
       "      <th>Proanthocyanins</th>\n",
       "      <th>Color intensity</th>\n",
       "      <th>Hue</th>\n",
       "      <th>OD280/OD315 of diluted wines</th>\n",
       "      <th>Proline</th>\n",
       "    </tr>\n",
       "  </thead>\n",
       "  <tbody>\n",
       "    <tr>\n",
       "      <th>0</th>\n",
       "      <td>1</td>\n",
       "      <td>14.23</td>\n",
       "      <td>1.71</td>\n",
       "      <td>2.43</td>\n",
       "      <td>15.6</td>\n",
       "      <td>127</td>\n",
       "      <td>2.80</td>\n",
       "      <td>3.06</td>\n",
       "      <td>0.28</td>\n",
       "      <td>2.29</td>\n",
       "      <td>5.64</td>\n",
       "      <td>1.04</td>\n",
       "      <td>3.92</td>\n",
       "      <td>1065</td>\n",
       "    </tr>\n",
       "    <tr>\n",
       "      <th>1</th>\n",
       "      <td>1</td>\n",
       "      <td>13.20</td>\n",
       "      <td>1.78</td>\n",
       "      <td>2.14</td>\n",
       "      <td>11.2</td>\n",
       "      <td>100</td>\n",
       "      <td>2.65</td>\n",
       "      <td>2.76</td>\n",
       "      <td>0.26</td>\n",
       "      <td>1.28</td>\n",
       "      <td>4.38</td>\n",
       "      <td>1.05</td>\n",
       "      <td>3.40</td>\n",
       "      <td>1050</td>\n",
       "    </tr>\n",
       "    <tr>\n",
       "      <th>2</th>\n",
       "      <td>1</td>\n",
       "      <td>13.16</td>\n",
       "      <td>2.36</td>\n",
       "      <td>2.67</td>\n",
       "      <td>18.6</td>\n",
       "      <td>101</td>\n",
       "      <td>2.80</td>\n",
       "      <td>3.24</td>\n",
       "      <td>0.30</td>\n",
       "      <td>2.81</td>\n",
       "      <td>5.68</td>\n",
       "      <td>1.03</td>\n",
       "      <td>3.17</td>\n",
       "      <td>1185</td>\n",
       "    </tr>\n",
       "    <tr>\n",
       "      <th>3</th>\n",
       "      <td>1</td>\n",
       "      <td>14.37</td>\n",
       "      <td>1.95</td>\n",
       "      <td>2.50</td>\n",
       "      <td>16.8</td>\n",
       "      <td>113</td>\n",
       "      <td>3.85</td>\n",
       "      <td>3.49</td>\n",
       "      <td>0.24</td>\n",
       "      <td>2.18</td>\n",
       "      <td>7.80</td>\n",
       "      <td>0.86</td>\n",
       "      <td>3.45</td>\n",
       "      <td>1480</td>\n",
       "    </tr>\n",
       "    <tr>\n",
       "      <th>4</th>\n",
       "      <td>1</td>\n",
       "      <td>13.24</td>\n",
       "      <td>2.59</td>\n",
       "      <td>2.87</td>\n",
       "      <td>21.0</td>\n",
       "      <td>118</td>\n",
       "      <td>2.80</td>\n",
       "      <td>2.69</td>\n",
       "      <td>0.39</td>\n",
       "      <td>1.82</td>\n",
       "      <td>4.32</td>\n",
       "      <td>1.04</td>\n",
       "      <td>2.93</td>\n",
       "      <td>735</td>\n",
       "    </tr>\n",
       "  </tbody>\n",
       "</table>\n",
       "</div>"
      ],
      "text/plain": [
       "   class  Alcohol  Malic acid   Ash  Alcalinity of ash  Magnesium  \\\n",
       "0      1    14.23        1.71  2.43               15.6        127   \n",
       "1      1    13.20        1.78  2.14               11.2        100   \n",
       "2      1    13.16        2.36  2.67               18.6        101   \n",
       "3      1    14.37        1.95  2.50               16.8        113   \n",
       "4      1    13.24        2.59  2.87               21.0        118   \n",
       "\n",
       "   Total phenols  Flavanoids  Nonflavanoid phenols  Proanthocyanins  \\\n",
       "0           2.80        3.06                  0.28             2.29   \n",
       "1           2.65        2.76                  0.26             1.28   \n",
       "2           2.80        3.24                  0.30             2.81   \n",
       "3           3.85        3.49                  0.24             2.18   \n",
       "4           2.80        2.69                  0.39             1.82   \n",
       "\n",
       "   Color intensity   Hue  OD280/OD315 of diluted wines  Proline  \n",
       "0             5.64  1.04                          3.92     1065  \n",
       "1             4.38  1.05                          3.40     1050  \n",
       "2             5.68  1.03                          3.17     1185  \n",
       "3             7.80  0.86                          3.45     1480  \n",
       "4             4.32  1.04                          2.93      735  "
      ]
     },
     "execution_count": 6,
     "metadata": {},
     "output_type": "execute_result"
    }
   ],
   "source": [
    "df.head()"
   ]
  },
  {
   "cell_type": "code",
   "execution_count": 5,
   "id": "12c31dec-5b52-4728-a70e-2d7849aa011e",
   "metadata": {
    "tags": []
   },
   "outputs": [
    {
     "name": "stdout",
     "output_type": "stream",
     "text": [
      "<class 'pandas.core.frame.DataFrame'>\n",
      "RangeIndex: 178 entries, 0 to 177\n",
      "Data columns (total 14 columns):\n",
      " #   Column                        Non-Null Count  Dtype  \n",
      "---  ------                        --------------  -----  \n",
      " 0   class                         178 non-null    int64  \n",
      " 1   Alcohol                       178 non-null    float64\n",
      " 2   Malic acid                    178 non-null    float64\n",
      " 3   Ash                           178 non-null    float64\n",
      " 4   Alcalinity of ash             178 non-null    float64\n",
      " 5   Magnesium                     178 non-null    int64  \n",
      " 6   Total phenols                 178 non-null    float64\n",
      " 7   Flavanoids                    178 non-null    float64\n",
      " 8   Nonflavanoid phenols          178 non-null    float64\n",
      " 9   Proanthocyanins               178 non-null    float64\n",
      " 10  Color intensity               178 non-null    float64\n",
      " 11  Hue                           178 non-null    float64\n",
      " 12  OD280/OD315 of diluted wines  178 non-null    float64\n",
      " 13  Proline                       178 non-null    int64  \n",
      "dtypes: float64(11), int64(3)\n",
      "memory usage: 19.6 KB\n"
     ]
    }
   ],
   "source": [
    "df.info()"
   ]
  },
  {
   "cell_type": "code",
   "execution_count": 8,
   "id": "992c5735-c94c-4cfc-801f-33bca4d80b4d",
   "metadata": {
    "tags": []
   },
   "outputs": [
    {
     "data": {
      "text/html": [
       "<div>\n",
       "<style scoped>\n",
       "    .dataframe tbody tr th:only-of-type {\n",
       "        vertical-align: middle;\n",
       "    }\n",
       "\n",
       "    .dataframe tbody tr th {\n",
       "        vertical-align: top;\n",
       "    }\n",
       "\n",
       "    .dataframe thead th {\n",
       "        text-align: right;\n",
       "    }\n",
       "</style>\n",
       "<table border=\"1\" class=\"dataframe\">\n",
       "  <thead>\n",
       "    <tr style=\"text-align: right;\">\n",
       "      <th></th>\n",
       "      <th>class</th>\n",
       "      <th>Alcohol</th>\n",
       "      <th>Malic acid</th>\n",
       "      <th>Ash</th>\n",
       "      <th>Alcalinity of ash</th>\n",
       "      <th>Magnesium</th>\n",
       "      <th>Total phenols</th>\n",
       "      <th>Flavanoids</th>\n",
       "      <th>Nonflavanoid phenols</th>\n",
       "      <th>Proanthocyanins</th>\n",
       "      <th>Color intensity</th>\n",
       "      <th>Hue</th>\n",
       "      <th>OD280/OD315 of diluted wines</th>\n",
       "      <th>Proline</th>\n",
       "    </tr>\n",
       "  </thead>\n",
       "  <tbody>\n",
       "    <tr>\n",
       "      <th>count</th>\n",
       "      <td>178.000000</td>\n",
       "      <td>178.000000</td>\n",
       "      <td>178.000000</td>\n",
       "      <td>178.000000</td>\n",
       "      <td>178.000000</td>\n",
       "      <td>178.000000</td>\n",
       "      <td>178.000000</td>\n",
       "      <td>178.000000</td>\n",
       "      <td>178.000000</td>\n",
       "      <td>178.000000</td>\n",
       "      <td>178.000000</td>\n",
       "      <td>178.000000</td>\n",
       "      <td>178.000000</td>\n",
       "      <td>178.000000</td>\n",
       "    </tr>\n",
       "    <tr>\n",
       "      <th>mean</th>\n",
       "      <td>1.938202</td>\n",
       "      <td>13.000618</td>\n",
       "      <td>2.336348</td>\n",
       "      <td>2.366517</td>\n",
       "      <td>19.494944</td>\n",
       "      <td>99.741573</td>\n",
       "      <td>2.295112</td>\n",
       "      <td>2.029270</td>\n",
       "      <td>0.361854</td>\n",
       "      <td>1.590899</td>\n",
       "      <td>5.058090</td>\n",
       "      <td>0.957449</td>\n",
       "      <td>2.611685</td>\n",
       "      <td>746.893258</td>\n",
       "    </tr>\n",
       "    <tr>\n",
       "      <th>std</th>\n",
       "      <td>0.775035</td>\n",
       "      <td>0.811827</td>\n",
       "      <td>1.117146</td>\n",
       "      <td>0.274344</td>\n",
       "      <td>3.339564</td>\n",
       "      <td>14.282484</td>\n",
       "      <td>0.625851</td>\n",
       "      <td>0.998859</td>\n",
       "      <td>0.124453</td>\n",
       "      <td>0.572359</td>\n",
       "      <td>2.318286</td>\n",
       "      <td>0.228572</td>\n",
       "      <td>0.709990</td>\n",
       "      <td>314.907474</td>\n",
       "    </tr>\n",
       "    <tr>\n",
       "      <th>min</th>\n",
       "      <td>1.000000</td>\n",
       "      <td>11.030000</td>\n",
       "      <td>0.740000</td>\n",
       "      <td>1.360000</td>\n",
       "      <td>10.600000</td>\n",
       "      <td>70.000000</td>\n",
       "      <td>0.980000</td>\n",
       "      <td>0.340000</td>\n",
       "      <td>0.130000</td>\n",
       "      <td>0.410000</td>\n",
       "      <td>1.280000</td>\n",
       "      <td>0.480000</td>\n",
       "      <td>1.270000</td>\n",
       "      <td>278.000000</td>\n",
       "    </tr>\n",
       "    <tr>\n",
       "      <th>25%</th>\n",
       "      <td>1.000000</td>\n",
       "      <td>12.362500</td>\n",
       "      <td>1.602500</td>\n",
       "      <td>2.210000</td>\n",
       "      <td>17.200000</td>\n",
       "      <td>88.000000</td>\n",
       "      <td>1.742500</td>\n",
       "      <td>1.205000</td>\n",
       "      <td>0.270000</td>\n",
       "      <td>1.250000</td>\n",
       "      <td>3.220000</td>\n",
       "      <td>0.782500</td>\n",
       "      <td>1.937500</td>\n",
       "      <td>500.500000</td>\n",
       "    </tr>\n",
       "    <tr>\n",
       "      <th>50%</th>\n",
       "      <td>2.000000</td>\n",
       "      <td>13.050000</td>\n",
       "      <td>1.865000</td>\n",
       "      <td>2.360000</td>\n",
       "      <td>19.500000</td>\n",
       "      <td>98.000000</td>\n",
       "      <td>2.355000</td>\n",
       "      <td>2.135000</td>\n",
       "      <td>0.340000</td>\n",
       "      <td>1.555000</td>\n",
       "      <td>4.690000</td>\n",
       "      <td>0.965000</td>\n",
       "      <td>2.780000</td>\n",
       "      <td>673.500000</td>\n",
       "    </tr>\n",
       "    <tr>\n",
       "      <th>75%</th>\n",
       "      <td>3.000000</td>\n",
       "      <td>13.677500</td>\n",
       "      <td>3.082500</td>\n",
       "      <td>2.557500</td>\n",
       "      <td>21.500000</td>\n",
       "      <td>107.000000</td>\n",
       "      <td>2.800000</td>\n",
       "      <td>2.875000</td>\n",
       "      <td>0.437500</td>\n",
       "      <td>1.950000</td>\n",
       "      <td>6.200000</td>\n",
       "      <td>1.120000</td>\n",
       "      <td>3.170000</td>\n",
       "      <td>985.000000</td>\n",
       "    </tr>\n",
       "    <tr>\n",
       "      <th>max</th>\n",
       "      <td>3.000000</td>\n",
       "      <td>14.830000</td>\n",
       "      <td>5.800000</td>\n",
       "      <td>3.230000</td>\n",
       "      <td>30.000000</td>\n",
       "      <td>162.000000</td>\n",
       "      <td>3.880000</td>\n",
       "      <td>5.080000</td>\n",
       "      <td>0.660000</td>\n",
       "      <td>3.580000</td>\n",
       "      <td>13.000000</td>\n",
       "      <td>1.710000</td>\n",
       "      <td>4.000000</td>\n",
       "      <td>1680.000000</td>\n",
       "    </tr>\n",
       "  </tbody>\n",
       "</table>\n",
       "</div>"
      ],
      "text/plain": [
       "            class     Alcohol  Malic acid         Ash  Alcalinity of ash  \\\n",
       "count  178.000000  178.000000  178.000000  178.000000         178.000000   \n",
       "mean     1.938202   13.000618    2.336348    2.366517          19.494944   \n",
       "std      0.775035    0.811827    1.117146    0.274344           3.339564   \n",
       "min      1.000000   11.030000    0.740000    1.360000          10.600000   \n",
       "25%      1.000000   12.362500    1.602500    2.210000          17.200000   \n",
       "50%      2.000000   13.050000    1.865000    2.360000          19.500000   \n",
       "75%      3.000000   13.677500    3.082500    2.557500          21.500000   \n",
       "max      3.000000   14.830000    5.800000    3.230000          30.000000   \n",
       "\n",
       "        Magnesium  Total phenols  Flavanoids  Nonflavanoid phenols  \\\n",
       "count  178.000000     178.000000  178.000000            178.000000   \n",
       "mean    99.741573       2.295112    2.029270              0.361854   \n",
       "std     14.282484       0.625851    0.998859              0.124453   \n",
       "min     70.000000       0.980000    0.340000              0.130000   \n",
       "25%     88.000000       1.742500    1.205000              0.270000   \n",
       "50%     98.000000       2.355000    2.135000              0.340000   \n",
       "75%    107.000000       2.800000    2.875000              0.437500   \n",
       "max    162.000000       3.880000    5.080000              0.660000   \n",
       "\n",
       "       Proanthocyanins  Color intensity         Hue  \\\n",
       "count       178.000000       178.000000  178.000000   \n",
       "mean          1.590899         5.058090    0.957449   \n",
       "std           0.572359         2.318286    0.228572   \n",
       "min           0.410000         1.280000    0.480000   \n",
       "25%           1.250000         3.220000    0.782500   \n",
       "50%           1.555000         4.690000    0.965000   \n",
       "75%           1.950000         6.200000    1.120000   \n",
       "max           3.580000        13.000000    1.710000   \n",
       "\n",
       "       OD280/OD315 of diluted wines      Proline  \n",
       "count                    178.000000   178.000000  \n",
       "mean                       2.611685   746.893258  \n",
       "std                        0.709990   314.907474  \n",
       "min                        1.270000   278.000000  \n",
       "25%                        1.937500   500.500000  \n",
       "50%                        2.780000   673.500000  \n",
       "75%                        3.170000   985.000000  \n",
       "max                        4.000000  1680.000000  "
      ]
     },
     "execution_count": 8,
     "metadata": {},
     "output_type": "execute_result"
    }
   ],
   "source": [
    "df.describe()"
   ]
  },
  {
   "cell_type": "markdown",
   "id": "162f51d8-89d4-48d2-9c3e-7e8042a61e2f",
   "metadata": {},
   "source": [
    "**Kategorik Değişkenler:**"
   ]
  },
  {
   "cell_type": "code",
   "execution_count": 6,
   "id": "329fe6a9-c5a9-4451-8075-fea726c783b9",
   "metadata": {
    "tags": []
   },
   "outputs": [
    {
     "name": "stdout",
     "output_type": "stream",
     "text": [
      "Kategorik Değişken Sayısı: 0\n"
     ]
    }
   ],
   "source": [
    "#Sütunların hepsi numeric ama yinede kategorik (O) var mı diye kontrol edicez\n",
    "\n",
    "categorial= [var for var in df.columns if df[var].dtype == \"O\"]\n",
    "print(\"Kategorik Değişken Sayısı: {}\".format(len(categorial)))"
   ]
  },
  {
   "cell_type": "markdown",
   "id": "b59ff10b-df53-4959-93fb-5196a9037995",
   "metadata": {},
   "source": [
    "**Numerik Değişkenler:**"
   ]
  },
  {
   "cell_type": "code",
   "execution_count": 7,
   "id": "612efc0d-b0bd-4dd6-90d3-9c46a027f11c",
   "metadata": {
    "tags": []
   },
   "outputs": [
    {
     "name": "stdout",
     "output_type": "stream",
     "text": [
      "Numerik  Değişken Sayısı: 13\n",
      "\n",
      "Numerik Sütunlar:  ['Alcohol', 'Malic acid', 'Ash', 'Alcalinity of ash', 'Magnesium', 'Total phenols', 'Flavanoids', 'Nonflavanoid phenols', 'Proanthocyanins', 'Color intensity', 'Hue', 'OD280/OD315 of diluted wines', 'Proline']\n"
     ]
    }
   ],
   "source": [
    "#Numerikler, kategorik olmayanlar != O\n",
    "numerical= [var for var in df.columns if df[var].dtype != \"O\"]\n",
    "\n",
    "print(\"Numerik  Değişken Sayısı: {}\\n\".format(len(numerical) - 1))\n",
    "#- 1 yazıyoruz çünkü ilki y sütunu biz girdilere bakıyoruz onda 1'den başlıyor\n",
    "print(\"Numerik Sütunlar: \", numerical[1:])"
   ]
  },
  {
   "cell_type": "markdown",
   "id": "8e6f4f4a-ccac-44cf-8620-9f36256d323c",
   "metadata": {},
   "source": [
    "**Feature & Label (Girdi % Sonuç) Ayrımı**"
   ]
  },
  {
   "cell_type": "code",
   "execution_count": 8,
   "id": "8df0ad6a-bf51-4c1d-a144-28e78da19378",
   "metadata": {
    "tags": []
   },
   "outputs": [],
   "source": [
    "X= df.drop([\"class\"],axis=1)#sadece sonucu silersem geriye X kalır, axis=0-> satır, ax,s=1-> sütun\n",
    "y=df[\"class\"]"
   ]
  },
  {
   "cell_type": "code",
   "execution_count": 9,
   "id": "3b458087-bf48-4795-a182-6823d5c71fcc",
   "metadata": {
    "tags": []
   },
   "outputs": [
    {
     "data": {
      "text/plain": [
       "class\n",
       "1    59\n",
       "2    71\n",
       "3    48\n",
       "Name: count, dtype: int64"
      ]
     },
     "execution_count": 9,
     "metadata": {},
     "output_type": "execute_result"
    }
   ],
   "source": [
    "\"\"\" sort=False olarak ayarlanırsa, hesaplanan değerler sıralanmaz ve sonuç, orijinal sırayla korunur. Eğer sort=True olarak ayarlanırsa, \n",
    "değerler sıkılık sırasına göre büyükten küçüğe sıralanır. \"\"\"\n",
    "y.value_counts(sort=False)"
   ]
  },
  {
   "cell_type": "markdown",
   "id": "a350efcd-455b-4b96-bdda-6e6ba1ea076a",
   "metadata": {},
   "source": [
    "**Train - Test Split**"
   ]
  },
  {
   "cell_type": "code",
   "execution_count": 10,
   "id": "5ffb8e6c-a76d-429a-a0c2-20cb0f501d51",
   "metadata": {
    "tags": []
   },
   "outputs": [],
   "source": [
    "# 70 - 30 split yapacağız\n",
    "\n",
    "from sklearn.model_selection import train_test_split\n",
    "\n",
    "X_train, X_test, y_train, y_test= train_test_split(X, y, test_size=0.3, random_state=0)"
   ]
  },
  {
   "cell_type": "code",
   "execution_count": 11,
   "id": "9453446b-321f-4a9b-9e3d-50dbadb6199f",
   "metadata": {
    "tags": []
   },
   "outputs": [
    {
     "data": {
      "text/plain": [
       "((124, 13), (54, 13))"
      ]
     },
     "execution_count": 11,
     "metadata": {},
     "output_type": "execute_result"
    }
   ],
   "source": [
    "#boyutlara bakalım\n",
    "X_train.shape, X_test.shape"
   ]
  },
  {
   "cell_type": "markdown",
   "id": "7abd9c8f-66da-4b99-bc1c-6e848b04adad",
   "metadata": {},
   "source": [
    "**Feature Scaling**"
   ]
  },
  {
   "cell_type": "code",
   "execution_count": 12,
   "id": "26d12c26-8d4c-4782-a5b2-e03f615541b3",
   "metadata": {
    "tags": []
   },
   "outputs": [
    {
     "data": {
      "text/plain": [
       "Index(['Alcohol', 'Malic acid', 'Ash', 'Alcalinity of ash', 'Magnesium',\n",
       "       'Total phenols', 'Flavanoids', 'Nonflavanoid phenols',\n",
       "       'Proanthocyanins', 'Color intensity', 'Hue',\n",
       "       'OD280/OD315 of diluted wines', 'Proline'],\n",
       "      dtype='object')"
      ]
     },
     "execution_count": 12,
     "metadata": {},
     "output_type": "execute_result"
    }
   ],
   "source": [
    "#burada değerler kendi arasında orantısız olduğu için onşarı aynı değer aralıklarında boyutlandıracağız.\n",
    "#birinin değeri 11,2 civarı iken birisi 1000 küsür bu durumda büyük sayı saha önemli gözükecek bunu önlüyoruz\n",
    "\n",
    "cols= X_train.columns\n",
    "cols"
   ]
  },
  {
   "cell_type": "code",
   "execution_count": 15,
   "id": "aae3f3d6-7805-4bb3-847a-34617fac1fe8",
   "metadata": {
    "tags": []
   },
   "outputs": [],
   "source": [
    "from sklearn.preprocessing import StandardScaler\n",
    "\n",
    "sc=StandardScaler()\n",
    "X_train=sc.fit_transform(X_train) #transform= dönüşütür\n",
    "X_test= sc.transform(X_test) #burada train kısmını fit(eğitme) ettiğim için test kısmında ihtiyaç duymuyorum.\n",
    "#test data ile öğrenme yapılmıyor ondan fit yok"
   ]
  },
  {
   "cell_type": "code",
   "execution_count": 16,
   "id": "be3056f6-820d-4bc4-85e1-2f69d498dbb2",
   "metadata": {},
   "outputs": [
    {
     "data": {
      "text/plain": [
       "numpy.ndarray"
      ]
     },
     "execution_count": 16,
     "metadata": {},
     "output_type": "execute_result"
    }
   ],
   "source": [
    "# X_train ve X_test'in tipleri -> numpy.ndarray\n",
    "type(X_train)"
   ]
  },
  {
   "cell_type": "code",
   "execution_count": 17,
   "id": "2850fa62-2527-4e40-a3b3-1f33c5b60f3a",
   "metadata": {
    "tags": []
   },
   "outputs": [],
   "source": [
    "#tipleri hala numpy.ndarray bunları DataFarme tipine çevireceğiz\n",
    "X_train= pd.DataFrame(X_train, columns=[cols])\n",
    "X_test = pd.DataFrame(X_test, columns=[cols])"
   ]
  },
  {
   "cell_type": "code",
   "execution_count": 18,
   "id": "baefb5c5-346e-4c02-9db5-f8faa2c9078c",
   "metadata": {
    "tags": []
   },
   "outputs": [
    {
     "data": {
      "text/plain": [
       "pandas.core.frame.DataFrame"
      ]
     },
     "execution_count": 18,
     "metadata": {},
     "output_type": "execute_result"
    }
   ],
   "source": [
    "#şimdi tekrar bakalım\n",
    "type(X_train)"
   ]
  },
  {
   "cell_type": "code",
   "execution_count": 19,
   "id": "e8c4046a-4c1a-4efa-99ff-783d8f98d3e3",
   "metadata": {
    "tags": []
   },
   "outputs": [
    {
     "data": {
      "text/html": [
       "<div>\n",
       "<style scoped>\n",
       "    .dataframe tbody tr th:only-of-type {\n",
       "        vertical-align: middle;\n",
       "    }\n",
       "\n",
       "    .dataframe tbody tr th {\n",
       "        vertical-align: top;\n",
       "    }\n",
       "\n",
       "    .dataframe thead tr th {\n",
       "        text-align: left;\n",
       "    }\n",
       "</style>\n",
       "<table border=\"1\" class=\"dataframe\">\n",
       "  <thead>\n",
       "    <tr>\n",
       "      <th></th>\n",
       "      <th>Alcohol</th>\n",
       "      <th>Malic acid</th>\n",
       "      <th>Ash</th>\n",
       "      <th>Alcalinity of ash</th>\n",
       "      <th>Magnesium</th>\n",
       "      <th>Total phenols</th>\n",
       "      <th>Flavanoids</th>\n",
       "      <th>Nonflavanoid phenols</th>\n",
       "      <th>Proanthocyanins</th>\n",
       "      <th>Color intensity</th>\n",
       "      <th>Hue</th>\n",
       "      <th>OD280/OD315 of diluted wines</th>\n",
       "      <th>Proline</th>\n",
       "    </tr>\n",
       "  </thead>\n",
       "  <tbody>\n",
       "    <tr>\n",
       "      <th>0</th>\n",
       "      <td>0.910831</td>\n",
       "      <td>-0.462599</td>\n",
       "      <td>-0.011426</td>\n",
       "      <td>-0.820679</td>\n",
       "      <td>0.062417</td>\n",
       "      <td>0.588204</td>\n",
       "      <td>0.935654</td>\n",
       "      <td>-0.761914</td>\n",
       "      <td>0.130072</td>\n",
       "      <td>-0.512387</td>\n",
       "      <td>0.657066</td>\n",
       "      <td>1.943545</td>\n",
       "      <td>0.937010</td>\n",
       "    </tr>\n",
       "    <tr>\n",
       "      <th>1</th>\n",
       "      <td>-0.956099</td>\n",
       "      <td>-0.966087</td>\n",
       "      <td>-1.537254</td>\n",
       "      <td>-0.147487</td>\n",
       "      <td>-0.554019</td>\n",
       "      <td>0.169986</td>\n",
       "      <td>0.072432</td>\n",
       "      <td>0.207913</td>\n",
       "      <td>0.784626</td>\n",
       "      <td>-0.982107</td>\n",
       "      <td>-0.408595</td>\n",
       "      <td>0.581180</td>\n",
       "      <td>-1.413367</td>\n",
       "    </tr>\n",
       "    <tr>\n",
       "      <th>2</th>\n",
       "      <td>0.359522</td>\n",
       "      <td>1.675016</td>\n",
       "      <td>-0.374718</td>\n",
       "      <td>0.133010</td>\n",
       "      <td>1.363782</td>\n",
       "      <td>-1.118128</td>\n",
       "      <td>-1.314889</td>\n",
       "      <td>0.531189</td>\n",
       "      <td>-0.440566</td>\n",
       "      <td>2.220529</td>\n",
       "      <td>-1.559509</td>\n",
       "      <td>-1.448466</td>\n",
       "      <td>0.286837</td>\n",
       "    </tr>\n",
       "    <tr>\n",
       "      <th>3</th>\n",
       "      <td>0.221695</td>\n",
       "      <td>1.047864</td>\n",
       "      <td>-0.774340</td>\n",
       "      <td>0.413506</td>\n",
       "      <td>0.130910</td>\n",
       "      <td>-1.268687</td>\n",
       "      <td>-1.458759</td>\n",
       "      <td>0.531189</td>\n",
       "      <td>-0.524483</td>\n",
       "      <td>-0.426984</td>\n",
       "      <td>-1.516883</td>\n",
       "      <td>-1.281645</td>\n",
       "      <td>0.270582</td>\n",
       "    </tr>\n",
       "    <tr>\n",
       "      <th>4</th>\n",
       "      <td>1.098777</td>\n",
       "      <td>-0.771758</td>\n",
       "      <td>1.114780</td>\n",
       "      <td>1.535493</td>\n",
       "      <td>-0.964977</td>\n",
       "      <td>1.156982</td>\n",
       "      <td>0.915101</td>\n",
       "      <td>-1.246827</td>\n",
       "      <td>0.432174</td>\n",
       "      <td>-0.691735</td>\n",
       "      <td>1.722727</td>\n",
       "      <td>0.775804</td>\n",
       "      <td>-1.094782</td>\n",
       "    </tr>\n",
       "  </tbody>\n",
       "</table>\n",
       "</div>"
      ],
      "text/plain": [
       "    Alcohol Malic acid       Ash Alcalinity of ash Magnesium Total phenols  \\\n",
       "0  0.910831  -0.462599 -0.011426         -0.820679  0.062417      0.588204   \n",
       "1 -0.956099  -0.966087 -1.537254         -0.147487 -0.554019      0.169986   \n",
       "2  0.359522   1.675016 -0.374718          0.133010  1.363782     -1.118128   \n",
       "3  0.221695   1.047864 -0.774340          0.413506  0.130910     -1.268687   \n",
       "4  1.098777  -0.771758  1.114780          1.535493 -0.964977      1.156982   \n",
       "\n",
       "  Flavanoids Nonflavanoid phenols Proanthocyanins Color intensity       Hue  \\\n",
       "0   0.935654            -0.761914        0.130072       -0.512387  0.657066   \n",
       "1   0.072432             0.207913        0.784626       -0.982107 -0.408595   \n",
       "2  -1.314889             0.531189       -0.440566        2.220529 -1.559509   \n",
       "3  -1.458759             0.531189       -0.524483       -0.426984 -1.516883   \n",
       "4   0.915101            -1.246827        0.432174       -0.691735  1.722727   \n",
       "\n",
       "  OD280/OD315 of diluted wines   Proline  \n",
       "0                     1.943545  0.937010  \n",
       "1                     0.581180 -1.413367  \n",
       "2                    -1.448466  0.286837  \n",
       "3                    -1.281645  0.270582  \n",
       "4                     0.775804 -1.094782  "
      ]
     },
     "execution_count": 19,
     "metadata": {},
     "output_type": "execute_result"
    }
   ],
   "source": [
    "#scale edilmiş haline bakalım\n",
    "X_train.head()"
   ]
  },
  {
   "cell_type": "code",
   "execution_count": 20,
   "id": "98025802-42ff-49f2-8a9e-bd7b2f054d4a",
   "metadata": {
    "tags": []
   },
   "outputs": [
    {
     "data": {
      "text/html": [
       "<div>\n",
       "<style scoped>\n",
       "    .dataframe tbody tr th:only-of-type {\n",
       "        vertical-align: middle;\n",
       "    }\n",
       "\n",
       "    .dataframe tbody tr th {\n",
       "        vertical-align: top;\n",
       "    }\n",
       "\n",
       "    .dataframe thead tr th {\n",
       "        text-align: left;\n",
       "    }\n",
       "</style>\n",
       "<table border=\"1\" class=\"dataframe\">\n",
       "  <thead>\n",
       "    <tr>\n",
       "      <th></th>\n",
       "      <th>Alcohol</th>\n",
       "      <th>Malic acid</th>\n",
       "      <th>Ash</th>\n",
       "      <th>Alcalinity of ash</th>\n",
       "      <th>Magnesium</th>\n",
       "      <th>Total phenols</th>\n",
       "      <th>Flavanoids</th>\n",
       "      <th>Nonflavanoid phenols</th>\n",
       "      <th>Proanthocyanins</th>\n",
       "      <th>Color intensity</th>\n",
       "      <th>Hue</th>\n",
       "      <th>OD280/OD315 of diluted wines</th>\n",
       "      <th>Proline</th>\n",
       "    </tr>\n",
       "  </thead>\n",
       "  <tbody>\n",
       "    <tr>\n",
       "      <th>0</th>\n",
       "      <td>0.948420</td>\n",
       "      <td>-0.630428</td>\n",
       "      <td>-0.411048</td>\n",
       "      <td>-0.876778</td>\n",
       "      <td>1.226796</td>\n",
       "      <td>0.571476</td>\n",
       "      <td>0.956207</td>\n",
       "      <td>-1.246827</td>\n",
       "      <td>0.012588</td>\n",
       "      <td>0.363000</td>\n",
       "      <td>-0.152836</td>\n",
       "      <td>0.831410</td>\n",
       "      <td>1.018282</td>\n",
       "    </tr>\n",
       "    <tr>\n",
       "      <th>1</th>\n",
       "      <td>-0.241905</td>\n",
       "      <td>0.252884</td>\n",
       "      <td>0.424525</td>\n",
       "      <td>0.694003</td>\n",
       "      <td>0.815839</td>\n",
       "      <td>-1.302144</td>\n",
       "      <td>-0.626366</td>\n",
       "      <td>-1.004371</td>\n",
       "      <td>-0.591617</td>\n",
       "      <td>2.476740</td>\n",
       "      <td>-2.028400</td>\n",
       "      <td>-1.573581</td>\n",
       "      <td>-0.867221</td>\n",
       "    </tr>\n",
       "    <tr>\n",
       "      <th>2</th>\n",
       "      <td>-0.768153</td>\n",
       "      <td>-1.107417</td>\n",
       "      <td>-0.738011</td>\n",
       "      <td>-0.147487</td>\n",
       "      <td>-0.896484</td>\n",
       "      <td>2.077063</td>\n",
       "      <td>1.161736</td>\n",
       "      <td>-1.408465</td>\n",
       "      <td>0.432174</td>\n",
       "      <td>-0.234826</td>\n",
       "      <td>1.125957</td>\n",
       "      <td>0.372655</td>\n",
       "      <td>-1.062273</td>\n",
       "    </tr>\n",
       "    <tr>\n",
       "      <th>3</th>\n",
       "      <td>0.722885</td>\n",
       "      <td>-0.577430</td>\n",
       "      <td>0.351866</td>\n",
       "      <td>0.273258</td>\n",
       "      <td>1.089811</td>\n",
       "      <td>1.173711</td>\n",
       "      <td>0.832890</td>\n",
       "      <td>-1.327646</td>\n",
       "      <td>1.405614</td>\n",
       "      <td>0.533807</td>\n",
       "      <td>0.102922</td>\n",
       "      <td>0.595082</td>\n",
       "      <td>1.213334</td>\n",
       "    </tr>\n",
       "    <tr>\n",
       "      <th>4</th>\n",
       "      <td>0.083868</td>\n",
       "      <td>3.017650</td>\n",
       "      <td>-0.846998</td>\n",
       "      <td>0.553755</td>\n",
       "      <td>-0.964977</td>\n",
       "      <td>0.604933</td>\n",
       "      <td>0.699296</td>\n",
       "      <td>-0.519457</td>\n",
       "      <td>0.667142</td>\n",
       "      <td>-1.024809</td>\n",
       "      <td>-0.962739</td>\n",
       "      <td>0.692393</td>\n",
       "      <td>-1.192308</td>\n",
       "    </tr>\n",
       "  </tbody>\n",
       "</table>\n",
       "</div>"
      ],
      "text/plain": [
       "    Alcohol Malic acid       Ash Alcalinity of ash Magnesium Total phenols  \\\n",
       "0  0.948420  -0.630428 -0.411048         -0.876778  1.226796      0.571476   \n",
       "1 -0.241905   0.252884  0.424525          0.694003  0.815839     -1.302144   \n",
       "2 -0.768153  -1.107417 -0.738011         -0.147487 -0.896484      2.077063   \n",
       "3  0.722885  -0.577430  0.351866          0.273258  1.089811      1.173711   \n",
       "4  0.083868   3.017650 -0.846998          0.553755 -0.964977      0.604933   \n",
       "\n",
       "  Flavanoids Nonflavanoid phenols Proanthocyanins Color intensity       Hue  \\\n",
       "0   0.956207            -1.246827        0.012588        0.363000 -0.152836   \n",
       "1  -0.626366            -1.004371       -0.591617        2.476740 -2.028400   \n",
       "2   1.161736            -1.408465        0.432174       -0.234826  1.125957   \n",
       "3   0.832890            -1.327646        1.405614        0.533807  0.102922   \n",
       "4   0.699296            -0.519457        0.667142       -1.024809 -0.962739   \n",
       "\n",
       "  OD280/OD315 of diluted wines   Proline  \n",
       "0                     0.831410  1.018282  \n",
       "1                    -1.573581 -0.867221  \n",
       "2                     0.372655 -1.062273  \n",
       "3                     0.595082  1.213334  \n",
       "4                     0.692393 -1.192308  "
      ]
     },
     "execution_count": 20,
     "metadata": {},
     "output_type": "execute_result"
    }
   ],
   "source": [
    "X_test.head()"
   ]
  },
  {
   "cell_type": "markdown",
   "id": "a989a358-5e7c-47ce-939f-d7ec490738a4",
   "metadata": {},
   "source": [
    "**Model Geliştirme**"
   ]
  },
  {
   "cell_type": "code",
   "execution_count": 23,
   "id": "24dfd5b1-7db8-4ef0-a6bc-6b8d52a5eb88",
   "metadata": {
    "tags": []
   },
   "outputs": [],
   "source": [
    "from sklearn.naive_bayes import GaussianNB\n",
    "#Sınıflandırma yapar, Gaussian Naive Bayes, özelliklerin bir normal dağılıma sahip olduğunu varsayar."
   ]
  },
  {
   "cell_type": "code",
   "execution_count": 24,
   "id": "833fb21c-35ca-4805-9d6b-43c816650395",
   "metadata": {
    "tags": []
   },
   "outputs": [],
   "source": [
    "gnb= GaussianNB()"
   ]
  },
  {
   "cell_type": "code",
   "execution_count": 25,
   "id": "5c1ea3e0-7911-4ffe-849e-3998cdfd3618",
   "metadata": {
    "tags": []
   },
   "outputs": [
    {
     "data": {
      "text/html": [
       "<style>#sk-container-id-1 {color: black;}#sk-container-id-1 pre{padding: 0;}#sk-container-id-1 div.sk-toggleable {background-color: white;}#sk-container-id-1 label.sk-toggleable__label {cursor: pointer;display: block;width: 100%;margin-bottom: 0;padding: 0.3em;box-sizing: border-box;text-align: center;}#sk-container-id-1 label.sk-toggleable__label-arrow:before {content: \"▸\";float: left;margin-right: 0.25em;color: #696969;}#sk-container-id-1 label.sk-toggleable__label-arrow:hover:before {color: black;}#sk-container-id-1 div.sk-estimator:hover label.sk-toggleable__label-arrow:before {color: black;}#sk-container-id-1 div.sk-toggleable__content {max-height: 0;max-width: 0;overflow: hidden;text-align: left;background-color: #f0f8ff;}#sk-container-id-1 div.sk-toggleable__content pre {margin: 0.2em;color: black;border-radius: 0.25em;background-color: #f0f8ff;}#sk-container-id-1 input.sk-toggleable__control:checked~div.sk-toggleable__content {max-height: 200px;max-width: 100%;overflow: auto;}#sk-container-id-1 input.sk-toggleable__control:checked~label.sk-toggleable__label-arrow:before {content: \"▾\";}#sk-container-id-1 div.sk-estimator input.sk-toggleable__control:checked~label.sk-toggleable__label {background-color: #d4ebff;}#sk-container-id-1 div.sk-label input.sk-toggleable__control:checked~label.sk-toggleable__label {background-color: #d4ebff;}#sk-container-id-1 input.sk-hidden--visually {border: 0;clip: rect(1px 1px 1px 1px);clip: rect(1px, 1px, 1px, 1px);height: 1px;margin: -1px;overflow: hidden;padding: 0;position: absolute;width: 1px;}#sk-container-id-1 div.sk-estimator {font-family: monospace;background-color: #f0f8ff;border: 1px dotted black;border-radius: 0.25em;box-sizing: border-box;margin-bottom: 0.5em;}#sk-container-id-1 div.sk-estimator:hover {background-color: #d4ebff;}#sk-container-id-1 div.sk-parallel-item::after {content: \"\";width: 100%;border-bottom: 1px solid gray;flex-grow: 1;}#sk-container-id-1 div.sk-label:hover label.sk-toggleable__label {background-color: #d4ebff;}#sk-container-id-1 div.sk-serial::before {content: \"\";position: absolute;border-left: 1px solid gray;box-sizing: border-box;top: 0;bottom: 0;left: 50%;z-index: 0;}#sk-container-id-1 div.sk-serial {display: flex;flex-direction: column;align-items: center;background-color: white;padding-right: 0.2em;padding-left: 0.2em;position: relative;}#sk-container-id-1 div.sk-item {position: relative;z-index: 1;}#sk-container-id-1 div.sk-parallel {display: flex;align-items: stretch;justify-content: center;background-color: white;position: relative;}#sk-container-id-1 div.sk-item::before, #sk-container-id-1 div.sk-parallel-item::before {content: \"\";position: absolute;border-left: 1px solid gray;box-sizing: border-box;top: 0;bottom: 0;left: 50%;z-index: -1;}#sk-container-id-1 div.sk-parallel-item {display: flex;flex-direction: column;z-index: 1;position: relative;background-color: white;}#sk-container-id-1 div.sk-parallel-item:first-child::after {align-self: flex-end;width: 50%;}#sk-container-id-1 div.sk-parallel-item:last-child::after {align-self: flex-start;width: 50%;}#sk-container-id-1 div.sk-parallel-item:only-child::after {width: 0;}#sk-container-id-1 div.sk-dashed-wrapped {border: 1px dashed gray;margin: 0 0.4em 0.5em 0.4em;box-sizing: border-box;padding-bottom: 0.4em;background-color: white;}#sk-container-id-1 div.sk-label label {font-family: monospace;font-weight: bold;display: inline-block;line-height: 1.2em;}#sk-container-id-1 div.sk-label-container {text-align: center;}#sk-container-id-1 div.sk-container {/* jupyter's `normalize.less` sets `[hidden] { display: none; }` but bootstrap.min.css set `[hidden] { display: none !important; }` so we also need the `!important` here to be able to override the default hidden behavior on the sphinx rendered scikit-learn.org. See: https://github.com/scikit-learn/scikit-learn/issues/21755 */display: inline-block !important;position: relative;}#sk-container-id-1 div.sk-text-repr-fallback {display: none;}</style><div id=\"sk-container-id-1\" class=\"sk-top-container\"><div class=\"sk-text-repr-fallback\"><pre>GaussianNB()</pre><b>In a Jupyter environment, please rerun this cell to show the HTML representation or trust the notebook. <br />On GitHub, the HTML representation is unable to render, please try loading this page with nbviewer.org.</b></div><div class=\"sk-container\" hidden><div class=\"sk-item\"><div class=\"sk-estimator sk-toggleable\"><input class=\"sk-toggleable__control sk-hidden--visually\" id=\"sk-estimator-id-1\" type=\"checkbox\" checked><label for=\"sk-estimator-id-1\" class=\"sk-toggleable__label sk-toggleable__label-arrow\">GaussianNB</label><div class=\"sk-toggleable__content\"><pre>GaussianNB()</pre></div></div></div></div></div>"
      ],
      "text/plain": [
       "GaussianNB()"
      ]
     },
     "execution_count": 25,
     "metadata": {},
     "output_type": "execute_result"
    }
   ],
   "source": [
    "#modeli train data ile eğitiyoruz\n",
    "gnb.fit(X_train, y_train)"
   ]
  },
  {
   "cell_type": "markdown",
   "id": "695ac35b-01b9-4c94-8613-633c021be617",
   "metadata": {},
   "source": [
    "**Sonuç Tahmini**"
   ]
  },
  {
   "cell_type": "code",
   "execution_count": 26,
   "id": "625b9a64-5c60-4c84-b39d-b3a2f5dc4693",
   "metadata": {
    "tags": []
   },
   "outputs": [
    {
     "data": {
      "text/plain": [
       "array([1, 3, 2, 1, 2, 2, 1, 3, 2, 2, 3, 3, 1, 1, 3, 2, 1, 1, 3, 1, 1, 1,\n",
       "       1, 2, 2, 2, 2, 2, 2, 3, 1, 1, 2, 1, 1, 1, 3, 2, 2, 3, 1, 1, 2, 2,\n",
       "       2, 1, 3, 2, 3, 1, 3, 3, 1, 3], dtype=int64)"
      ]
     },
     "execution_count": 26,
     "metadata": {},
     "output_type": "execute_result"
    }
   ],
   "source": [
    "#test data ile class tahminlerimizi yapalım\n",
    "y_pred= gnb.predict(X_test)\n",
    "y_pred"
   ]
  },
  {
   "cell_type": "markdown",
   "id": "e264a1ba-de2a-4657-bafb-f4a42783e70f",
   "metadata": {},
   "source": [
    "**Tahmin Sonucu Analizi (Accuracy Score)**"
   ]
  },
  {
   "cell_type": "code",
   "execution_count": 29,
   "id": "c6c5647b-bc5b-4492-90d0-2dc1ab89c5c0",
   "metadata": {
    "tags": []
   },
   "outputs": [
    {
     "name": "stdout",
     "output_type": "stream",
     "text": [
      "Modelimiz için Accuracy Score: 0.9444\n"
     ]
    }
   ],
   "source": [
    "from sklearn.metrics import accuracy_score\n",
    "print(\"Modelimiz için Accuracy Score: {0:0.4f}\".format(accuracy_score(y_test, y_pred)))\n",
    "#0:0.4f'nin anlamı noktadan sonra 4 basamaklı ondalıklı sayı demek"
   ]
  },
  {
   "cell_type": "markdown",
   "id": "c9076a8b-ac3f-4729-a88e-fd077cc56cfe",
   "metadata": {},
   "source": [
    "Sonucumuz çok yüksek çıktı.  Şimdi Overfiting ve Underfiting kontrolü yapacağız.\n",
    "\n",
    "**Overfiting:** Eğer Train Data Skoru ÇOK YÜKSEK, ama Test Data Skoru ÇOK DÜŞÜK çıksaydı.\n",
    "\n",
    "**Underfiting:** Eğer Train Data Skoru ÇOK DÜŞÜK, ama Test Data Skoru ÇOK YÜKSEK çıksaydı."
   ]
  },
  {
   "cell_type": "code",
   "execution_count": 34,
   "id": "6228ca20-fe3b-4272-986d-8f2d587b1fb0",
   "metadata": {
    "tags": []
   },
   "outputs": [
    {
     "data": {
      "text/plain": [
       "array([1, 2, 3, 3, 2, 3, 3, 1, 3, 3, 2, 2, 3, 2, 1, 2, 2, 2, 1, 1, 2, 2,\n",
       "       3, 3, 2, 2, 2, 3, 3, 1, 3, 2, 2, 2, 2, 2, 1, 1, 2, 1, 3, 1, 3, 1,\n",
       "       1, 2, 1, 2, 2, 1, 3, 2, 1, 2, 2, 2, 3, 1, 3, 3, 1, 1, 2, 3, 1, 1,\n",
       "       2, 2, 1, 1, 1, 3, 2, 1, 2, 3, 1, 2, 3, 3, 1, 1, 3, 1, 3, 2, 1, 1,\n",
       "       2, 1, 3, 2, 3, 1, 3, 3, 3, 1, 2, 2, 2, 2, 3, 3, 2, 2, 2, 2, 3, 3,\n",
       "       1, 1, 3, 2, 2, 2, 1, 1, 1, 2, 2, 2, 1, 3], dtype=int64)"
      ]
     },
     "execution_count": 34,
     "metadata": {},
     "output_type": "execute_result"
    }
   ],
   "source": [
    "# Train data üzerinden tahmin\n",
    "y_pred_train= gnb.predict(X_train)\n",
    "y_pred_train"
   ]
  },
  {
   "cell_type": "code",
   "execution_count": 35,
   "id": "28be142e-3481-46d4-a161-c1ed3a738945",
   "metadata": {
    "tags": []
   },
   "outputs": [
    {
     "name": "stdout",
     "output_type": "stream",
     "text": [
      "Train-Data Accuracy Score: 0.9839\n"
     ]
    }
   ],
   "source": [
    "print(\"Train-Data Accuracy Score: {0:0.4f}\". format(accuracy_score(y_train, y_pred_train)))"
   ]
  },
  {
   "cell_type": "markdown",
   "id": "e497a6eb-cc77-4f94-a759-d6fbc0d0d8d7",
   "metadata": {},
   "source": [
    "**Overfitting - Underfitting Kontrolü**"
   ]
  },
  {
   "cell_type": "code",
   "execution_count": 31,
   "id": "3b198fd3-4df0-4266-a5ce-dfe9c4f9deb1",
   "metadata": {
    "tags": []
   },
   "outputs": [
    {
     "name": "stdout",
     "output_type": "stream",
     "text": [
      "Train Data Skoru: 0.9839\n",
      "Train Data Skoru: 0.9444\n"
     ]
    }
   ],
   "source": [
    "# train ve test data için skorları yazalım\n",
    "print(\"Train Data Skoru: {:.4f}\".format(gnb.score(X_train, y_train)))\n",
    "\n",
    "print(\"Train Data Skoru: {:.4f}\".format(gnb.score(X_test, y_test)))"
   ]
  },
  {
   "cell_type": "markdown",
   "id": "7a200886-fda7-4ab9-83e2-0007aeceffce",
   "metadata": {},
   "source": [
    "Train ve Test değerleri hem yüksek hemde birbirine yakın bu yüzden Overfiting veya Underfiting yoktur."
   ]
  }
 ],
 "metadata": {
  "kernelspec": {
   "display_name": "Python 3 (ipykernel)",
   "language": "python",
   "name": "python3"
  },
  "language_info": {
   "codemirror_mode": {
    "name": "ipython",
    "version": 3
   },
   "file_extension": ".py",
   "mimetype": "text/x-python",
   "name": "python",
   "nbconvert_exporter": "python",
   "pygments_lexer": "ipython3",
   "version": "3.10.9"
  }
 },
 "nbformat": 4,
 "nbformat_minor": 5
}
